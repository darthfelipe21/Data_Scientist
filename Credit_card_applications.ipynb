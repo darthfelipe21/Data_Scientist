{
  "cells": [
    {
      "cell_type": "markdown",
      "metadata": {
        "id": "view-in-github",
        "colab_type": "text"
      },
      "source": [
        "<a href=\"https://colab.research.google.com/github/darthfelipe21/Data_Scientist/blob/main/Credit_card_applications.ipynb\" target=\"_parent\"><img src=\"https://colab.research.google.com/assets/colab-badge.svg\" alt=\"Open In Colab\"/></a>"
      ]
    },
    {
      "source": [
        "Credit card applications\n",
        "<p>Commercial banks receive <em>a lot</em> of applications for credit cards. Many of them get rejected for many reasons, like high loan balances, low income levels, or too many inquiries on an individual's credit report, for example. Manually analyzing these applications is mundane, error-prone, and time-consuming (and time is money!). Luckily, this task can be automated with the power of machine learning and pretty much every commercial bank does so nowadays. In this notebook, we will build an automatic credit card approval predictor using machine learning techniques, just like the real banks do.</p>\n",
        "<p><img src=\"https://assets.datacamp.com/production/project_558/img/credit_card.jpg\" alt=\"Credit card being held in hand\"></p>\n",
        "<p>I will use the <a href=\"http://archive.ics.uci.edu/ml/datasets/credit+approval\">Credit Card Approval dataset</a> from the UCI Machine Learning Repository."
      ],
      "metadata": {
        "dc": {
          "key": "3"
        },
        "run_control": {
          "frozen": true
        },
        "tags": [
          "context"
        ],
        "id": "02157f36-f85c-4ba4-8ca4-202b48ee4f34"
      },
      "id": "02157f36-f85c-4ba4-8ca4-202b48ee4f34",
      "cell_type": "markdown"
    },
    {
      "source": [
        "# Import pandas\n",
        "import pandas as pd\n",
        "\n",
        "# Load dataset\n",
        "cc_apps = pd.read_csv('datasets/cc_approvals.data', header=None)\n",
        "\n",
        "# Inspect data\n",
        "print(cc_apps.head())"
      ],
      "metadata": {
        "dc": {
          "key": "3"
        },
        "tags": [
          "sample_code"
        ],
        "trusted": true,
        "id": "a98fb846-769d-4706-8e14-3969225bb023",
        "outputId": "c830227b-761c-4af4-b119-164795d7161d"
      },
      "id": "a98fb846-769d-4706-8e14-3969225bb023",
      "cell_type": "code",
      "execution_count": null,
      "outputs": [
        {
          "output_type": "stream",
          "text": "  0      1      2  3  4  5  6     7  8  9   10 11 12     13   14 15\n0  b  30.83  0.000  u  g  w  v  1.25  t  t   1  f  g  00202    0  +\n1  a  58.67  4.460  u  g  q  h  3.04  t  t   6  f  g  00043  560  +\n2  a  24.50  0.500  u  g  q  h  1.50  t  f   0  f  g  00280  824  +\n3  b  27.83  1.540  u  g  w  v  3.75  t  t   5  t  g  00100    3  +\n4  b  20.17  5.625  u  g  w  v  1.71  t  f   0  f  s  00120    0  +\n",
          "name": "stdout"
        }
      ]
    },
    {
      "source": [
        "# Print summary statistics\n",
        "cc_apps_description = cc_apps.describe()\n",
        "print(cc_apps_description)\n",
        "\n",
        "print('\\n')\n",
        "\n",
        "# Print DataFrame information\n",
        "cc_apps_info = cc_apps.info()\n",
        "print(cc_apps_info)\n",
        "\n",
        "print('\\n')\n",
        "\n",
        "# Inspect missing values in the dataset\n",
        "print(cc_apps.tail(17))"
      ],
      "metadata": {
        "dc": {
          "key": "10"
        },
        "tags": [
          "sample_code"
        ],
        "trusted": true,
        "id": "6fbb2b26-f8b1-4c00-a371-420d2117cf7f",
        "outputId": "fc913a39-e577-47f7-f5c2-a6b33f9c3778"
      },
      "id": "6fbb2b26-f8b1-4c00-a371-420d2117cf7f",
      "cell_type": "code",
      "execution_count": null,
      "outputs": [
        {
          "output_type": "stream",
          "text": "               2           7          10             14\ncount  690.000000  690.000000  690.00000     690.000000\nmean     4.758725    2.223406    2.40000    1017.385507\nstd      4.978163    3.346513    4.86294    5210.102598\nmin      0.000000    0.000000    0.00000       0.000000\n25%      1.000000    0.165000    0.00000       0.000000\n50%      2.750000    1.000000    0.00000       5.000000\n75%      7.207500    2.625000    3.00000     395.500000\nmax     28.000000   28.500000   67.00000  100000.000000\n\n\n<class 'pandas.core.frame.DataFrame'>\nRangeIndex: 690 entries, 0 to 689\nData columns (total 16 columns):\n0     690 non-null object\n1     690 non-null object\n2     690 non-null float64\n3     690 non-null object\n4     690 non-null object\n5     690 non-null object\n6     690 non-null object\n7     690 non-null float64\n8     690 non-null object\n9     690 non-null object\n10    690 non-null int64\n11    690 non-null object\n12    690 non-null object\n13    690 non-null object\n14    690 non-null int64\n15    690 non-null object\ndtypes: float64(2), int64(2), object(12)\nmemory usage: 86.3+ KB\nNone\n\n\n    0      1       2  3  4   5   6      7  8  9   10 11 12     13   14 15\n673  ?  29.50   2.000  y  p   e   h  2.000  f  f   0  f  g  00256   17  -\n674  a  37.33   2.500  u  g   i   h  0.210  f  f   0  f  g  00260  246  -\n675  a  41.58   1.040  u  g  aa   v  0.665  f  f   0  f  g  00240  237  -\n676  a  30.58  10.665  u  g   q   h  0.085  f  t  12  t  g  00129    3  -\n677  b  19.42   7.250  u  g   m   v  0.040  f  t   1  f  g  00100    1  -\n678  a  17.92  10.210  u  g  ff  ff  0.000  f  f   0  f  g  00000   50  -\n679  a  20.08   1.250  u  g   c   v  0.000  f  f   0  f  g  00000    0  -\n680  b  19.50   0.290  u  g   k   v  0.290  f  f   0  f  g  00280  364  -\n681  b  27.83   1.000  y  p   d   h  3.000  f  f   0  f  g  00176  537  -\n682  b  17.08   3.290  u  g   i   v  0.335  f  f   0  t  g  00140    2  -\n683  b  36.42   0.750  y  p   d   v  0.585  f  f   0  f  g  00240    3  -\n684  b  40.58   3.290  u  g   m   v  3.500  f  f   0  t  s  00400    0  -\n685  b  21.08  10.085  y  p   e   h  1.250  f  f   0  f  g  00260    0  -\n686  a  22.67   0.750  u  g   c   v  2.000  f  t   2  t  g  00200  394  -\n687  a  25.25  13.500  y  p  ff  ff  2.000  f  t   1  t  g  00200    1  -\n688  b  17.92   0.205  u  g  aa   v  0.040  f  f   0  f  g  00280  750  -\n689  b  35.00   3.375  u  g   c   h  8.290  f  f   0  t  g  00000    0  -\n",
          "name": "stdout"
        }
      ]
    },
    {
      "source": [
        "# Import train_test_split\n",
        "from sklearn.model_selection import train_test_split\n",
        "\n",
        "# Drop the features 11 and 13\n",
        "cc_apps = cc_apps.drop([11,13], axis=1)\n",
        "\n",
        "# Split into train and test sets\n",
        "cc_apps_train, cc_apps_test = train_test_split(cc_apps, test_size=0.33, random_state=42)"
      ],
      "metadata": {
        "dc": {
          "key": "17"
        },
        "tags": [
          "sample_code"
        ],
        "collapsed": true,
        "jupyter": {
          "outputs_hidden": true
        },
        "trusted": true,
        "id": "f65ad92b-a154-441f-99f2-57b9c3407eea"
      },
      "id": "f65ad92b-a154-441f-99f2-57b9c3407eea",
      "cell_type": "code",
      "execution_count": null,
      "outputs": []
    },
    {
      "source": [
        "# Import numpy\n",
        "import numpy as np\n",
        "\n",
        "# Replace the '?'s with NaN in the train and test sets\n",
        "cc_apps_train = cc_apps_train.replace(['?'],[np.nan])\n",
        "cc_apps_test = cc_apps_test.replace(['?'],[np.nan])\n"
      ],
      "metadata": {
        "dc": {
          "key": "24"
        },
        "tags": [
          "sample_code"
        ],
        "collapsed": true,
        "jupyter": {
          "outputs_hidden": true
        },
        "trusted": true,
        "id": "22bcefa6-2713-4695-bf6a-2bb50f701980"
      },
      "id": "22bcefa6-2713-4695-bf6a-2bb50f701980",
      "cell_type": "code",
      "execution_count": null,
      "outputs": []
    },
    {
      "source": [
        "# Impute the missing values with mean imputation\n",
        "cc_apps_train.fillna(cc_apps_train.mean(), inplace=True)\n",
        "cc_apps_test.fillna(cc_apps_train.mean(), inplace=True)\n",
        "\n",
        "# Count the number of NaNs in the datasets and print the counts to verify\n",
        "print(cc_apps_train.isnull().sum())"
      ],
      "metadata": {
        "dc": {
          "key": "31"
        },
        "tags": [
          "sample_code"
        ],
        "trusted": true,
        "id": "c29d0aec-c20d-4a31-b24d-59714859ec81",
        "outputId": "a670d518-ee18-4b58-9ae6-24229c7eadc0"
      },
      "id": "c29d0aec-c20d-4a31-b24d-59714859ec81",
      "cell_type": "code",
      "execution_count": null,
      "outputs": [
        {
          "output_type": "stream",
          "text": "0     8\n1     5\n2     0\n3     6\n4     6\n5     7\n6     7\n7     0\n8     0\n9     0\n10    0\n12    0\n14    0\n15    0\ndtype: int64\n",
          "name": "stdout"
        }
      ]
    },
    {
      "source": [
        "# Iterate over each column of cc_apps_train\n",
        "for col in cc_apps_train.columns:\n",
        "    # Check if the column is of object type\n",
        "    if cc_apps_train[col].dtypes == 'object':\n",
        "        # Impute with the most frequent value\n",
        "        cc_apps_train = cc_apps_train.fillna(cc_apps_train[col].value_counts().index[0])\n",
        "        cc_apps_test = cc_apps_test.fillna(cc_apps_train[col].value_counts().index[0])\n",
        "\n",
        "# Count the number of NaNs in the dataset and print the counts to verify\n",
        "print(cc_apps_train.isnull().sum())"
      ],
      "metadata": {
        "dc": {
          "key": "38"
        },
        "tags": [
          "sample_code"
        ],
        "trusted": true,
        "id": "a3bf2d20-fe53-4d64-98ab-20e866bccf37",
        "outputId": "4817ba4e-8be4-4360-ba66-0ea00cbc222d"
      },
      "id": "a3bf2d20-fe53-4d64-98ab-20e866bccf37",
      "cell_type": "code",
      "execution_count": null,
      "outputs": [
        {
          "output_type": "stream",
          "text": "0     0\n1     0\n2     0\n3     0\n4     0\n5     0\n6     0\n7     0\n8     0\n9     0\n10    0\n12    0\n14    0\n15    0\ndtype: int64\n",
          "name": "stdout"
        }
      ]
    },
    {
      "source": [
        "# Convert the categorical features in the train and test sets independently\n",
        "cc_apps_train = pd.get_dummies(cc_apps_train)\n",
        "cc_apps_test = pd.get_dummies(cc_apps_test)\n",
        "\n",
        "# Reindex the columns of the test set aligning with the train set\n",
        "cc_apps_test = cc_apps_test.reindex(columns=cc_apps_train.columns, fill_value=0)\n",
        "\n",
        "cc_apps_train"
      ],
      "metadata": {
        "dc": {
          "key": "45"
        },
        "tags": [
          "sample_code"
        ],
        "trusted": true,
        "id": "41972d83-b6dc-4d69-90b4-c2d610ede81e",
        "outputId": "0ec697e3-0ff6-43f8-c070-4966125b1daa"
      },
      "id": "41972d83-b6dc-4d69-90b4-c2d610ede81e",
      "cell_type": "code",
      "execution_count": null,
      "outputs": [
        {
          "output_type": "execute_result",
          "execution_count": 321,
          "data": {
            "text/plain": "          2       7  10    14  0_a  0_b  1_13.75  1_15.83  1_15.92  1_16.00  \\\n382   2.500   4.500   0   456    1    0        0        0        0        0   \n137   2.750   4.250   6     0    0    1        0        0        0        0   \n346   1.500   0.250   0   122    0    1        0        0        0        0   \n326   1.085   0.040   0   179    0    1        0        0        0        0   \n33    5.125   5.000   0  4000    1    0        0        0        0        0   \n426   2.040   0.250   0    50    1    0        0        0        0        0   \n477   2.500  10.000   0     0    0    1        0        0        0        0   \n9     4.915   3.165   0  1442    0    1        0        0        0        0   \n22    8.000   7.875   6  1260    1    0        0        0        0        0   \n300   2.000   6.500   1    10    1    0        0        0        0        0   \n221  11.000  20.000   7     0    0    1        0        0        0        0   \n398  12.500   1.250   0    17    0    1        0        0        0        0   \n675   1.040   0.665   0   237    1    0        0        0        0        0   \n550  22.290  12.750   1   109    0    1        0        0        0        0   \n84    0.625   0.455   0     0    0    1        0        0        0        0   \n331   2.500   2.500   0     2    1    0        0        0        0        0   \n332   2.500   1.000   0    16    0    1        0        0        0        0   \n578   1.625   1.500  10  4700    0    1        0        0        0        0   \n259   1.750   0.165   0     0    1    0        0        0        0        0   \n203  10.250   0.710   2     0    1    0        0        0        0        0   \n196   3.165   3.165   3     0    0    1        0        0        0        0   \n651   7.625   0.125   1   160    1    0        0        1        0        0   \n513   9.960   0.000   0     0    0    1        0        0        0        0   \n393   0.540   1.000   0     1    0    1        0        0        0        0   \n93    1.375   9.460   0   100    0    1        0        0        0        0   \n623   0.000   0.665   0     1    0    1        0        0        0        0   \n291  10.000   1.000   1     1    1    0        0        0        0        0   \n299  12.125   3.335   2   173    0    1        0        0        0        0   \n369   0.750   0.750   0     2    0    1        0        0        0        0   \n184   5.665   2.585   7  3257    1    0        0        0        0        0   \n..      ...     ...  ..   ...  ...  ...      ...      ...      ...      ...   \n252  11.000   1.000  11  3000    1    0        0        0        0        0   \n21    1.000   0.835   0     0    0    1        0        0        0        0   \n313  10.000   0.415   0    42    1    0        0        0        0        0   \n459   0.290   1.500   0     0    0    1        0        0        0        0   \n160   2.000   1.000   4  7544    0    1        0        0        0        0   \n276   5.415   0.290   0   484    1    0        0        0        0        0   \n191   0.205   5.125   0     0    0    1        0        0        0        0   \n385   5.500   1.500   0     0    0    1        0        0        0        0   \n413   1.500   0.000   0     0    0    1        0        0        0        0   \n491   0.875   4.625   2  2000    0    1        0        0        0        0   \n343   2.750   0.000   0     0    0    1        0        0        0        0   \n308   1.290   0.250   0     0    0    1        0        0        0        0   \n661   3.500   0.165   0     0    0    1        0        0        0        0   \n130   5.500  13.000   1     0    0    1        0        0        0        0   \n663   4.000   1.500   0     0    0    1        0        0        0        0   \n99    1.000   1.000   2   500    1    0        0        0        0        0   \n372   4.585   1.000   0     0    1    0        0        0        0        0   \n87    2.210   4.000   0     0    0    1        0        0        0        0   \n458   5.500   5.000   0   687    0    1        0        0        0        0   \n330   0.000   0.000   0     0    0    1        0        0        0        0   \n214   2.710   5.250   1     0    0    1        0        0        0        0   \n466   3.085   2.500   2    41    0    1        0        0        0        0   \n121  12.500   1.210  67   258    0    1        0        0        0        0   \n614   4.415   0.125   0     0    1    0        0        0        0        0   \n20   11.250   2.500  17  1208    0    1        0        0        0        0   \n71    4.000  12.500   0     0    0    1        0        0        0        0   \n106   1.165   0.500   0     0    0    1        0        0        0        0   \n270   0.000   0.000   0     0    0    1        0        0        0        0   \n435   0.000   0.000   4     1    0    1        0        0        0        0   \n102   5.000   0.375   2    38    0    1        0        0        0        0   \n\n     ...  6_z  8_f  8_t  9_f  9_t  12_g  12_p  12_s  15_+  15_-  \n382  ...    0    1    0    1    0     1     0     0     0     1  \n137  ...    0    0    1    0    1     1     0     0     1     0  \n346  ...    0    1    0    1    0     1     0     0     0     1  \n326  ...    0    1    0    1    0     1     0     0     0     1  \n33   ...    0    0    1    1    0     1     0     0     1     0  \n426  ...    0    1    0    1    0     1     0     0     0     1  \n477  ...    0    1    0    1    0     0     0     1     0     1  \n9    ...    0    0    1    1    0     1     0     0     1     0  \n22   ...    0    0    1    0    1     1     0     0     1     0  \n300  ...    0    1    0    0    1     1     0     0     0     1  \n221  ...    1    0    1    0    1     1     0     0     1     0  \n398  ...    0    1    0    1    0     1     0     0     0     1  \n675  ...    0    1    0    1    0     1     0     0     0     1  \n550  ...    1    0    1    0    1     1     0     0     1     0  \n84   ...    0    0    1    1    0     1     0     0     0     1  \n331  ...    0    1    0    1    0     1     0     0     0     1  \n332  ...    0    1    0    1    0     1     0     0     0     1  \n578  ...    0    0    1    0    1     1     0     0     1     0  \n259  ...    0    1    0    1    0     1     0     0     0     1  \n203  ...    0    0    1    0    1     1     0     0     1     0  \n196  ...    0    0    1    0    1     1     0     0     1     0  \n651  ...    0    1    0    0    1     1     0     0     0     1  \n513  ...    0    0    1    1    0     1     0     0     1     0  \n393  ...    0    1    0    1    0     1     0     0     0     1  \n93   ...    0    0    1    1    0     1     0     0     0     1  \n623  ...    0    1    0    1    0     1     0     0     0     1  \n291  ...    0    1    0    0    1     1     0     0     0     1  \n299  ...    0    1    0    0    1     1     0     0     0     1  \n369  ...    0    1    0    1    0     1     0     0     0     1  \n184  ...    0    0    1    0    1     1     0     0     1     0  \n..   ...  ...  ...  ...  ...  ...   ...   ...   ...   ...   ...  \n252  ...    0    0    1    0    1     1     0     0     1     0  \n21   ...    0    0    1    1    0     0     0     1     1     0  \n313  ...    0    1    0    1    0     1     0     0     0     1  \n459  ...    0    1    0    1    0     1     0     0     0     1  \n160  ...    0    0    1    0    1     1     0     0     1     0  \n276  ...    0    1    0    1    0     1     0     0     0     1  \n191  ...    0    0    1    1    0     1     0     0     1     0  \n385  ...    0    1    0    1    0     1     0     0     0     1  \n413  ...    0    1    0    1    0     0     0     1     0     1  \n491  ...    0    0    1    0    1     1     0     0     1     0  \n343  ...    0    1    0    1    0     1     0     0     0     1  \n308  ...    0    1    0    1    0     0     0     1     0     1  \n661  ...    0    1    0    1    0     1     0     0     0     1  \n130  ...    1    0    1    0    1     1     0     0     1     0  \n663  ...    0    1    0    1    0     1     0     0     0     1  \n99   ...    0    0    1    0    1     1     0     0     0     1  \n372  ...    0    1    0    1    0     0     0     1     0     1  \n87   ...    0    0    1    1    0     1     0     0     0     1  \n458  ...    0    1    0    1    0     1     0     0     0     1  \n330  ...    0    1    0    1    0     0     1     0     0     1  \n214  ...    0    0    1    0    1     1     0     0     1     0  \n466  ...    0    1    0    0    1     1     0     0     0     1  \n121  ...    0    0    1    0    1     1     0     0     1     0  \n614  ...    0    1    0    1    0     1     0     0     0     1  \n20   ...    0    0    1    0    1     1     0     0     1     0  \n71   ...    0    0    1    1    0     1     0     0     0     1  \n106  ...    0    0    1    1    0     0     0     1     0     1  \n270  ...    0    1    0    1    0     0     1     0     1     0  \n435  ...    0    1    0    0    1     1     0     0     0     1  \n102  ...    0    0    1    0    1     1     0     0     0     1  \n\n[462 rows x 334 columns]",
            "text/html": "<div>\n<style scoped>\n    .dataframe tbody tr th:only-of-type {\n        vertical-align: middle;\n    }\n\n    .dataframe tbody tr th {\n        vertical-align: top;\n    }\n\n    .dataframe thead th {\n        text-align: right;\n    }\n</style>\n<table border=\"1\" class=\"dataframe\">\n  <thead>\n    <tr style=\"text-align: right;\">\n      <th></th>\n      <th>2</th>\n      <th>7</th>\n      <th>10</th>\n      <th>14</th>\n      <th>0_a</th>\n      <th>0_b</th>\n      <th>1_13.75</th>\n      <th>1_15.83</th>\n      <th>1_15.92</th>\n      <th>1_16.00</th>\n      <th>...</th>\n      <th>6_z</th>\n      <th>8_f</th>\n      <th>8_t</th>\n      <th>9_f</th>\n      <th>9_t</th>\n      <th>12_g</th>\n      <th>12_p</th>\n      <th>12_s</th>\n      <th>15_+</th>\n      <th>15_-</th>\n    </tr>\n  </thead>\n  <tbody>\n    <tr>\n      <th>382</th>\n      <td>2.500</td>\n      <td>4.500</td>\n      <td>0</td>\n      <td>456</td>\n      <td>1</td>\n      <td>0</td>\n      <td>0</td>\n      <td>0</td>\n      <td>0</td>\n      <td>0</td>\n      <td>...</td>\n      <td>0</td>\n      <td>1</td>\n      <td>0</td>\n      <td>1</td>\n      <td>0</td>\n      <td>1</td>\n      <td>0</td>\n      <td>0</td>\n      <td>0</td>\n      <td>1</td>\n    </tr>\n    <tr>\n      <th>137</th>\n      <td>2.750</td>\n      <td>4.250</td>\n      <td>6</td>\n      <td>0</td>\n      <td>0</td>\n      <td>1</td>\n      <td>0</td>\n      <td>0</td>\n      <td>0</td>\n      <td>0</td>\n      <td>...</td>\n      <td>0</td>\n      <td>0</td>\n      <td>1</td>\n      <td>0</td>\n      <td>1</td>\n      <td>1</td>\n      <td>0</td>\n      <td>0</td>\n      <td>1</td>\n      <td>0</td>\n    </tr>\n    <tr>\n      <th>346</th>\n      <td>1.500</td>\n      <td>0.250</td>\n      <td>0</td>\n      <td>122</td>\n      <td>0</td>\n      <td>1</td>\n      <td>0</td>\n      <td>0</td>\n      <td>0</td>\n      <td>0</td>\n      <td>...</td>\n      <td>0</td>\n      <td>1</td>\n      <td>0</td>\n      <td>1</td>\n      <td>0</td>\n      <td>1</td>\n      <td>0</td>\n      <td>0</td>\n      <td>0</td>\n      <td>1</td>\n    </tr>\n    <tr>\n      <th>326</th>\n      <td>1.085</td>\n      <td>0.040</td>\n      <td>0</td>\n      <td>179</td>\n      <td>0</td>\n      <td>1</td>\n      <td>0</td>\n      <td>0</td>\n      <td>0</td>\n      <td>0</td>\n      <td>...</td>\n      <td>0</td>\n      <td>1</td>\n      <td>0</td>\n      <td>1</td>\n      <td>0</td>\n      <td>1</td>\n      <td>0</td>\n      <td>0</td>\n      <td>0</td>\n      <td>1</td>\n    </tr>\n    <tr>\n      <th>33</th>\n      <td>5.125</td>\n      <td>5.000</td>\n      <td>0</td>\n      <td>4000</td>\n      <td>1</td>\n      <td>0</td>\n      <td>0</td>\n      <td>0</td>\n      <td>0</td>\n      <td>0</td>\n      <td>...</td>\n      <td>0</td>\n      <td>0</td>\n      <td>1</td>\n      <td>1</td>\n      <td>0</td>\n      <td>1</td>\n      <td>0</td>\n      <td>0</td>\n      <td>1</td>\n      <td>0</td>\n    </tr>\n    <tr>\n      <th>426</th>\n      <td>2.040</td>\n      <td>0.250</td>\n      <td>0</td>\n      <td>50</td>\n      <td>1</td>\n      <td>0</td>\n      <td>0</td>\n      <td>0</td>\n      <td>0</td>\n      <td>0</td>\n      <td>...</td>\n      <td>0</td>\n      <td>1</td>\n      <td>0</td>\n      <td>1</td>\n      <td>0</td>\n      <td>1</td>\n      <td>0</td>\n      <td>0</td>\n      <td>0</td>\n      <td>1</td>\n    </tr>\n    <tr>\n      <th>477</th>\n      <td>2.500</td>\n      <td>10.000</td>\n      <td>0</td>\n      <td>0</td>\n      <td>0</td>\n      <td>1</td>\n      <td>0</td>\n      <td>0</td>\n      <td>0</td>\n      <td>0</td>\n      <td>...</td>\n      <td>0</td>\n      <td>1</td>\n      <td>0</td>\n      <td>1</td>\n      <td>0</td>\n      <td>0</td>\n      <td>0</td>\n      <td>1</td>\n      <td>0</td>\n      <td>1</td>\n    </tr>\n    <tr>\n      <th>9</th>\n      <td>4.915</td>\n      <td>3.165</td>\n      <td>0</td>\n      <td>1442</td>\n      <td>0</td>\n      <td>1</td>\n      <td>0</td>\n      <td>0</td>\n      <td>0</td>\n      <td>0</td>\n      <td>...</td>\n      <td>0</td>\n      <td>0</td>\n      <td>1</td>\n      <td>1</td>\n      <td>0</td>\n      <td>1</td>\n      <td>0</td>\n      <td>0</td>\n      <td>1</td>\n      <td>0</td>\n    </tr>\n    <tr>\n      <th>22</th>\n      <td>8.000</td>\n      <td>7.875</td>\n      <td>6</td>\n      <td>1260</td>\n      <td>1</td>\n      <td>0</td>\n      <td>0</td>\n      <td>0</td>\n      <td>0</td>\n      <td>0</td>\n      <td>...</td>\n      <td>0</td>\n      <td>0</td>\n      <td>1</td>\n      <td>0</td>\n      <td>1</td>\n      <td>1</td>\n      <td>0</td>\n      <td>0</td>\n      <td>1</td>\n      <td>0</td>\n    </tr>\n    <tr>\n      <th>300</th>\n      <td>2.000</td>\n      <td>6.500</td>\n      <td>1</td>\n      <td>10</td>\n      <td>1</td>\n      <td>0</td>\n      <td>0</td>\n      <td>0</td>\n      <td>0</td>\n      <td>0</td>\n      <td>...</td>\n      <td>0</td>\n      <td>1</td>\n      <td>0</td>\n      <td>0</td>\n      <td>1</td>\n      <td>1</td>\n      <td>0</td>\n      <td>0</td>\n      <td>0</td>\n      <td>1</td>\n    </tr>\n    <tr>\n      <th>221</th>\n      <td>11.000</td>\n      <td>20.000</td>\n      <td>7</td>\n      <td>0</td>\n      <td>0</td>\n      <td>1</td>\n      <td>0</td>\n      <td>0</td>\n      <td>0</td>\n      <td>0</td>\n      <td>...</td>\n      <td>1</td>\n      <td>0</td>\n      <td>1</td>\n      <td>0</td>\n      <td>1</td>\n      <td>1</td>\n      <td>0</td>\n      <td>0</td>\n      <td>1</td>\n      <td>0</td>\n    </tr>\n    <tr>\n      <th>398</th>\n      <td>12.500</td>\n      <td>1.250</td>\n      <td>0</td>\n      <td>17</td>\n      <td>0</td>\n      <td>1</td>\n      <td>0</td>\n      <td>0</td>\n      <td>0</td>\n      <td>0</td>\n      <td>...</td>\n      <td>0</td>\n      <td>1</td>\n      <td>0</td>\n      <td>1</td>\n      <td>0</td>\n      <td>1</td>\n      <td>0</td>\n      <td>0</td>\n      <td>0</td>\n      <td>1</td>\n    </tr>\n    <tr>\n      <th>675</th>\n      <td>1.040</td>\n      <td>0.665</td>\n      <td>0</td>\n      <td>237</td>\n      <td>1</td>\n      <td>0</td>\n      <td>0</td>\n      <td>0</td>\n      <td>0</td>\n      <td>0</td>\n      <td>...</td>\n      <td>0</td>\n      <td>1</td>\n      <td>0</td>\n      <td>1</td>\n      <td>0</td>\n      <td>1</td>\n      <td>0</td>\n      <td>0</td>\n      <td>0</td>\n      <td>1</td>\n    </tr>\n    <tr>\n      <th>550</th>\n      <td>22.290</td>\n      <td>12.750</td>\n      <td>1</td>\n      <td>109</td>\n      <td>0</td>\n      <td>1</td>\n      <td>0</td>\n      <td>0</td>\n      <td>0</td>\n      <td>0</td>\n      <td>...</td>\n      <td>1</td>\n      <td>0</td>\n      <td>1</td>\n      <td>0</td>\n      <td>1</td>\n      <td>1</td>\n      <td>0</td>\n      <td>0</td>\n      <td>1</td>\n      <td>0</td>\n    </tr>\n    <tr>\n      <th>84</th>\n      <td>0.625</td>\n      <td>0.455</td>\n      <td>0</td>\n      <td>0</td>\n      <td>0</td>\n      <td>1</td>\n      <td>0</td>\n      <td>0</td>\n      <td>0</td>\n      <td>0</td>\n      <td>...</td>\n      <td>0</td>\n      <td>0</td>\n      <td>1</td>\n      <td>1</td>\n      <td>0</td>\n      <td>1</td>\n      <td>0</td>\n      <td>0</td>\n      <td>0</td>\n      <td>1</td>\n    </tr>\n    <tr>\n      <th>331</th>\n      <td>2.500</td>\n      <td>2.500</td>\n      <td>0</td>\n      <td>2</td>\n      <td>1</td>\n      <td>0</td>\n      <td>0</td>\n      <td>0</td>\n      <td>0</td>\n      <td>0</td>\n      <td>...</td>\n      <td>0</td>\n      <td>1</td>\n      <td>0</td>\n      <td>1</td>\n      <td>0</td>\n      <td>1</td>\n      <td>0</td>\n      <td>0</td>\n      <td>0</td>\n      <td>1</td>\n    </tr>\n    <tr>\n      <th>332</th>\n      <td>2.500</td>\n      <td>1.000</td>\n      <td>0</td>\n      <td>16</td>\n      <td>0</td>\n      <td>1</td>\n      <td>0</td>\n      <td>0</td>\n      <td>0</td>\n      <td>0</td>\n      <td>...</td>\n      <td>0</td>\n      <td>1</td>\n      <td>0</td>\n      <td>1</td>\n      <td>0</td>\n      <td>1</td>\n      <td>0</td>\n      <td>0</td>\n      <td>0</td>\n      <td>1</td>\n    </tr>\n    <tr>\n      <th>578</th>\n      <td>1.625</td>\n      <td>1.500</td>\n      <td>10</td>\n      <td>4700</td>\n      <td>0</td>\n      <td>1</td>\n      <td>0</td>\n      <td>0</td>\n      <td>0</td>\n      <td>0</td>\n      <td>...</td>\n      <td>0</td>\n      <td>0</td>\n      <td>1</td>\n      <td>0</td>\n      <td>1</td>\n      <td>1</td>\n      <td>0</td>\n      <td>0</td>\n      <td>1</td>\n      <td>0</td>\n    </tr>\n    <tr>\n      <th>259</th>\n      <td>1.750</td>\n      <td>0.165</td>\n      <td>0</td>\n      <td>0</td>\n      <td>1</td>\n      <td>0</td>\n      <td>0</td>\n      <td>0</td>\n      <td>0</td>\n      <td>0</td>\n      <td>...</td>\n      <td>0</td>\n      <td>1</td>\n      <td>0</td>\n      <td>1</td>\n      <td>0</td>\n      <td>1</td>\n      <td>0</td>\n      <td>0</td>\n      <td>0</td>\n      <td>1</td>\n    </tr>\n    <tr>\n      <th>203</th>\n      <td>10.250</td>\n      <td>0.710</td>\n      <td>2</td>\n      <td>0</td>\n      <td>1</td>\n      <td>0</td>\n      <td>0</td>\n      <td>0</td>\n      <td>0</td>\n      <td>0</td>\n      <td>...</td>\n      <td>0</td>\n      <td>0</td>\n      <td>1</td>\n      <td>0</td>\n      <td>1</td>\n      <td>1</td>\n      <td>0</td>\n      <td>0</td>\n      <td>1</td>\n      <td>0</td>\n    </tr>\n    <tr>\n      <th>196</th>\n      <td>3.165</td>\n      <td>3.165</td>\n      <td>3</td>\n      <td>0</td>\n      <td>0</td>\n      <td>1</td>\n      <td>0</td>\n      <td>0</td>\n      <td>0</td>\n      <td>0</td>\n      <td>...</td>\n      <td>0</td>\n      <td>0</td>\n      <td>1</td>\n      <td>0</td>\n      <td>1</td>\n      <td>1</td>\n      <td>0</td>\n      <td>0</td>\n      <td>1</td>\n      <td>0</td>\n    </tr>\n    <tr>\n      <th>651</th>\n      <td>7.625</td>\n      <td>0.125</td>\n      <td>1</td>\n      <td>160</td>\n      <td>1</td>\n      <td>0</td>\n      <td>0</td>\n      <td>1</td>\n      <td>0</td>\n      <td>0</td>\n      <td>...</td>\n      <td>0</td>\n      <td>1</td>\n      <td>0</td>\n      <td>0</td>\n      <td>1</td>\n      <td>1</td>\n      <td>0</td>\n      <td>0</td>\n      <td>0</td>\n      <td>1</td>\n    </tr>\n    <tr>\n      <th>513</th>\n      <td>9.960</td>\n      <td>0.000</td>\n      <td>0</td>\n      <td>0</td>\n      <td>0</td>\n      <td>1</td>\n      <td>0</td>\n      <td>0</td>\n      <td>0</td>\n      <td>0</td>\n      <td>...</td>\n      <td>0</td>\n      <td>0</td>\n      <td>1</td>\n      <td>1</td>\n      <td>0</td>\n      <td>1</td>\n      <td>0</td>\n      <td>0</td>\n      <td>1</td>\n      <td>0</td>\n    </tr>\n    <tr>\n      <th>393</th>\n      <td>0.540</td>\n      <td>1.000</td>\n      <td>0</td>\n      <td>1</td>\n      <td>0</td>\n      <td>1</td>\n      <td>0</td>\n      <td>0</td>\n      <td>0</td>\n      <td>0</td>\n      <td>...</td>\n      <td>0</td>\n      <td>1</td>\n      <td>0</td>\n      <td>1</td>\n      <td>0</td>\n      <td>1</td>\n      <td>0</td>\n      <td>0</td>\n      <td>0</td>\n      <td>1</td>\n    </tr>\n    <tr>\n      <th>93</th>\n      <td>1.375</td>\n      <td>9.460</td>\n      <td>0</td>\n      <td>100</td>\n      <td>0</td>\n      <td>1</td>\n      <td>0</td>\n      <td>0</td>\n      <td>0</td>\n      <td>0</td>\n      <td>...</td>\n      <td>0</td>\n      <td>0</td>\n      <td>1</td>\n      <td>1</td>\n      <td>0</td>\n      <td>1</td>\n      <td>0</td>\n      <td>0</td>\n      <td>0</td>\n      <td>1</td>\n    </tr>\n    <tr>\n      <th>623</th>\n      <td>0.000</td>\n      <td>0.665</td>\n      <td>0</td>\n      <td>1</td>\n      <td>0</td>\n      <td>1</td>\n      <td>0</td>\n      <td>0</td>\n      <td>0</td>\n      <td>0</td>\n      <td>...</td>\n      <td>0</td>\n      <td>1</td>\n      <td>0</td>\n      <td>1</td>\n      <td>0</td>\n      <td>1</td>\n      <td>0</td>\n      <td>0</td>\n      <td>0</td>\n      <td>1</td>\n    </tr>\n    <tr>\n      <th>291</th>\n      <td>10.000</td>\n      <td>1.000</td>\n      <td>1</td>\n      <td>1</td>\n      <td>1</td>\n      <td>0</td>\n      <td>0</td>\n      <td>0</td>\n      <td>0</td>\n      <td>0</td>\n      <td>...</td>\n      <td>0</td>\n      <td>1</td>\n      <td>0</td>\n      <td>0</td>\n      <td>1</td>\n      <td>1</td>\n      <td>0</td>\n      <td>0</td>\n      <td>0</td>\n      <td>1</td>\n    </tr>\n    <tr>\n      <th>299</th>\n      <td>12.125</td>\n      <td>3.335</td>\n      <td>2</td>\n      <td>173</td>\n      <td>0</td>\n      <td>1</td>\n      <td>0</td>\n      <td>0</td>\n      <td>0</td>\n      <td>0</td>\n      <td>...</td>\n      <td>0</td>\n      <td>1</td>\n      <td>0</td>\n      <td>0</td>\n      <td>1</td>\n      <td>1</td>\n      <td>0</td>\n      <td>0</td>\n      <td>0</td>\n      <td>1</td>\n    </tr>\n    <tr>\n      <th>369</th>\n      <td>0.750</td>\n      <td>0.750</td>\n      <td>0</td>\n      <td>2</td>\n      <td>0</td>\n      <td>1</td>\n      <td>0</td>\n      <td>0</td>\n      <td>0</td>\n      <td>0</td>\n      <td>...</td>\n      <td>0</td>\n      <td>1</td>\n      <td>0</td>\n      <td>1</td>\n      <td>0</td>\n      <td>1</td>\n      <td>0</td>\n      <td>0</td>\n      <td>0</td>\n      <td>1</td>\n    </tr>\n    <tr>\n      <th>184</th>\n      <td>5.665</td>\n      <td>2.585</td>\n      <td>7</td>\n      <td>3257</td>\n      <td>1</td>\n      <td>0</td>\n      <td>0</td>\n      <td>0</td>\n      <td>0</td>\n      <td>0</td>\n      <td>...</td>\n      <td>0</td>\n      <td>0</td>\n      <td>1</td>\n      <td>0</td>\n      <td>1</td>\n      <td>1</td>\n      <td>0</td>\n      <td>0</td>\n      <td>1</td>\n      <td>0</td>\n    </tr>\n    <tr>\n      <th>...</th>\n      <td>...</td>\n      <td>...</td>\n      <td>...</td>\n      <td>...</td>\n      <td>...</td>\n      <td>...</td>\n      <td>...</td>\n      <td>...</td>\n      <td>...</td>\n      <td>...</td>\n      <td>...</td>\n      <td>...</td>\n      <td>...</td>\n      <td>...</td>\n      <td>...</td>\n      <td>...</td>\n      <td>...</td>\n      <td>...</td>\n      <td>...</td>\n      <td>...</td>\n      <td>...</td>\n    </tr>\n    <tr>\n      <th>252</th>\n      <td>11.000</td>\n      <td>1.000</td>\n      <td>11</td>\n      <td>3000</td>\n      <td>1</td>\n      <td>0</td>\n      <td>0</td>\n      <td>0</td>\n      <td>0</td>\n      <td>0</td>\n      <td>...</td>\n      <td>0</td>\n      <td>0</td>\n      <td>1</td>\n      <td>0</td>\n      <td>1</td>\n      <td>1</td>\n      <td>0</td>\n      <td>0</td>\n      <td>1</td>\n      <td>0</td>\n    </tr>\n    <tr>\n      <th>21</th>\n      <td>1.000</td>\n      <td>0.835</td>\n      <td>0</td>\n      <td>0</td>\n      <td>0</td>\n      <td>1</td>\n      <td>0</td>\n      <td>0</td>\n      <td>0</td>\n      <td>0</td>\n      <td>...</td>\n      <td>0</td>\n      <td>0</td>\n      <td>1</td>\n      <td>1</td>\n      <td>0</td>\n      <td>0</td>\n      <td>0</td>\n      <td>1</td>\n      <td>1</td>\n      <td>0</td>\n    </tr>\n    <tr>\n      <th>313</th>\n      <td>10.000</td>\n      <td>0.415</td>\n      <td>0</td>\n      <td>42</td>\n      <td>1</td>\n      <td>0</td>\n      <td>0</td>\n      <td>0</td>\n      <td>0</td>\n      <td>0</td>\n      <td>...</td>\n      <td>0</td>\n      <td>1</td>\n      <td>0</td>\n      <td>1</td>\n      <td>0</td>\n      <td>1</td>\n      <td>0</td>\n      <td>0</td>\n      <td>0</td>\n      <td>1</td>\n    </tr>\n    <tr>\n      <th>459</th>\n      <td>0.290</td>\n      <td>1.500</td>\n      <td>0</td>\n      <td>0</td>\n      <td>0</td>\n      <td>1</td>\n      <td>0</td>\n      <td>0</td>\n      <td>0</td>\n      <td>0</td>\n      <td>...</td>\n      <td>0</td>\n      <td>1</td>\n      <td>0</td>\n      <td>1</td>\n      <td>0</td>\n      <td>1</td>\n      <td>0</td>\n      <td>0</td>\n      <td>0</td>\n      <td>1</td>\n    </tr>\n    <tr>\n      <th>160</th>\n      <td>2.000</td>\n      <td>1.000</td>\n      <td>4</td>\n      <td>7544</td>\n      <td>0</td>\n      <td>1</td>\n      <td>0</td>\n      <td>0</td>\n      <td>0</td>\n      <td>0</td>\n      <td>...</td>\n      <td>0</td>\n      <td>0</td>\n      <td>1</td>\n      <td>0</td>\n      <td>1</td>\n      <td>1</td>\n      <td>0</td>\n      <td>0</td>\n      <td>1</td>\n      <td>0</td>\n    </tr>\n    <tr>\n      <th>276</th>\n      <td>5.415</td>\n      <td>0.290</td>\n      <td>0</td>\n      <td>484</td>\n      <td>1</td>\n      <td>0</td>\n      <td>0</td>\n      <td>0</td>\n      <td>0</td>\n      <td>0</td>\n      <td>...</td>\n      <td>0</td>\n      <td>1</td>\n      <td>0</td>\n      <td>1</td>\n      <td>0</td>\n      <td>1</td>\n      <td>0</td>\n      <td>0</td>\n      <td>0</td>\n      <td>1</td>\n    </tr>\n    <tr>\n      <th>191</th>\n      <td>0.205</td>\n      <td>5.125</td>\n      <td>0</td>\n      <td>0</td>\n      <td>0</td>\n      <td>1</td>\n      <td>0</td>\n      <td>0</td>\n      <td>0</td>\n      <td>0</td>\n      <td>...</td>\n      <td>0</td>\n      <td>0</td>\n      <td>1</td>\n      <td>1</td>\n      <td>0</td>\n      <td>1</td>\n      <td>0</td>\n      <td>0</td>\n      <td>1</td>\n      <td>0</td>\n    </tr>\n    <tr>\n      <th>385</th>\n      <td>5.500</td>\n      <td>1.500</td>\n      <td>0</td>\n      <td>0</td>\n      <td>0</td>\n      <td>1</td>\n      <td>0</td>\n      <td>0</td>\n      <td>0</td>\n      <td>0</td>\n      <td>...</td>\n      <td>0</td>\n      <td>1</td>\n      <td>0</td>\n      <td>1</td>\n      <td>0</td>\n      <td>1</td>\n      <td>0</td>\n      <td>0</td>\n      <td>0</td>\n      <td>1</td>\n    </tr>\n    <tr>\n      <th>413</th>\n      <td>1.500</td>\n      <td>0.000</td>\n      <td>0</td>\n      <td>0</td>\n      <td>0</td>\n      <td>1</td>\n      <td>0</td>\n      <td>0</td>\n      <td>0</td>\n      <td>0</td>\n      <td>...</td>\n      <td>0</td>\n      <td>1</td>\n      <td>0</td>\n      <td>1</td>\n      <td>0</td>\n      <td>0</td>\n      <td>0</td>\n      <td>1</td>\n      <td>0</td>\n      <td>1</td>\n    </tr>\n    <tr>\n      <th>491</th>\n      <td>0.875</td>\n      <td>4.625</td>\n      <td>2</td>\n      <td>2000</td>\n      <td>0</td>\n      <td>1</td>\n      <td>0</td>\n      <td>0</td>\n      <td>0</td>\n      <td>0</td>\n      <td>...</td>\n      <td>0</td>\n      <td>0</td>\n      <td>1</td>\n      <td>0</td>\n      <td>1</td>\n      <td>1</td>\n      <td>0</td>\n      <td>0</td>\n      <td>1</td>\n      <td>0</td>\n    </tr>\n    <tr>\n      <th>343</th>\n      <td>2.750</td>\n      <td>0.000</td>\n      <td>0</td>\n      <td>0</td>\n      <td>0</td>\n      <td>1</td>\n      <td>0</td>\n      <td>0</td>\n      <td>0</td>\n      <td>0</td>\n      <td>...</td>\n      <td>0</td>\n      <td>1</td>\n      <td>0</td>\n      <td>1</td>\n      <td>0</td>\n      <td>1</td>\n      <td>0</td>\n      <td>0</td>\n      <td>0</td>\n      <td>1</td>\n    </tr>\n    <tr>\n      <th>308</th>\n      <td>1.290</td>\n      <td>0.250</td>\n      <td>0</td>\n      <td>0</td>\n      <td>0</td>\n      <td>1</td>\n      <td>0</td>\n      <td>0</td>\n      <td>0</td>\n      <td>0</td>\n      <td>...</td>\n      <td>0</td>\n      <td>1</td>\n      <td>0</td>\n      <td>1</td>\n      <td>0</td>\n      <td>0</td>\n      <td>0</td>\n      <td>1</td>\n      <td>0</td>\n      <td>1</td>\n    </tr>\n    <tr>\n      <th>661</th>\n      <td>3.500</td>\n      <td>0.165</td>\n      <td>0</td>\n      <td>0</td>\n      <td>0</td>\n      <td>1</td>\n      <td>0</td>\n      <td>0</td>\n      <td>0</td>\n      <td>0</td>\n      <td>...</td>\n      <td>0</td>\n      <td>1</td>\n      <td>0</td>\n      <td>1</td>\n      <td>0</td>\n      <td>1</td>\n      <td>0</td>\n      <td>0</td>\n      <td>0</td>\n      <td>1</td>\n    </tr>\n    <tr>\n      <th>130</th>\n      <td>5.500</td>\n      <td>13.000</td>\n      <td>1</td>\n      <td>0</td>\n      <td>0</td>\n      <td>1</td>\n      <td>0</td>\n      <td>0</td>\n      <td>0</td>\n      <td>0</td>\n      <td>...</td>\n      <td>1</td>\n      <td>0</td>\n      <td>1</td>\n      <td>0</td>\n      <td>1</td>\n      <td>1</td>\n      <td>0</td>\n      <td>0</td>\n      <td>1</td>\n      <td>0</td>\n    </tr>\n    <tr>\n      <th>663</th>\n      <td>4.000</td>\n      <td>1.500</td>\n      <td>0</td>\n      <td>0</td>\n      <td>0</td>\n      <td>1</td>\n      <td>0</td>\n      <td>0</td>\n      <td>0</td>\n      <td>0</td>\n      <td>...</td>\n      <td>0</td>\n      <td>1</td>\n      <td>0</td>\n      <td>1</td>\n      <td>0</td>\n      <td>1</td>\n      <td>0</td>\n      <td>0</td>\n      <td>0</td>\n      <td>1</td>\n    </tr>\n    <tr>\n      <th>99</th>\n      <td>1.000</td>\n      <td>1.000</td>\n      <td>2</td>\n      <td>500</td>\n      <td>1</td>\n      <td>0</td>\n      <td>0</td>\n      <td>0</td>\n      <td>0</td>\n      <td>0</td>\n      <td>...</td>\n      <td>0</td>\n      <td>0</td>\n      <td>1</td>\n      <td>0</td>\n      <td>1</td>\n      <td>1</td>\n      <td>0</td>\n      <td>0</td>\n      <td>0</td>\n      <td>1</td>\n    </tr>\n    <tr>\n      <th>372</th>\n      <td>4.585</td>\n      <td>1.000</td>\n      <td>0</td>\n      <td>0</td>\n      <td>1</td>\n      <td>0</td>\n      <td>0</td>\n      <td>0</td>\n      <td>0</td>\n      <td>0</td>\n      <td>...</td>\n      <td>0</td>\n      <td>1</td>\n      <td>0</td>\n      <td>1</td>\n      <td>0</td>\n      <td>0</td>\n      <td>0</td>\n      <td>1</td>\n      <td>0</td>\n      <td>1</td>\n    </tr>\n    <tr>\n      <th>87</th>\n      <td>2.210</td>\n      <td>4.000</td>\n      <td>0</td>\n      <td>0</td>\n      <td>0</td>\n      <td>1</td>\n      <td>0</td>\n      <td>0</td>\n      <td>0</td>\n      <td>0</td>\n      <td>...</td>\n      <td>0</td>\n      <td>0</td>\n      <td>1</td>\n      <td>1</td>\n      <td>0</td>\n      <td>1</td>\n      <td>0</td>\n      <td>0</td>\n      <td>0</td>\n      <td>1</td>\n    </tr>\n    <tr>\n      <th>458</th>\n      <td>5.500</td>\n      <td>5.000</td>\n      <td>0</td>\n      <td>687</td>\n      <td>0</td>\n      <td>1</td>\n      <td>0</td>\n      <td>0</td>\n      <td>0</td>\n      <td>0</td>\n      <td>...</td>\n      <td>0</td>\n      <td>1</td>\n      <td>0</td>\n      <td>1</td>\n      <td>0</td>\n      <td>1</td>\n      <td>0</td>\n      <td>0</td>\n      <td>0</td>\n      <td>1</td>\n    </tr>\n    <tr>\n      <th>330</th>\n      <td>0.000</td>\n      <td>0.000</td>\n      <td>0</td>\n      <td>0</td>\n      <td>0</td>\n      <td>1</td>\n      <td>0</td>\n      <td>0</td>\n      <td>0</td>\n      <td>0</td>\n      <td>...</td>\n      <td>0</td>\n      <td>1</td>\n      <td>0</td>\n      <td>1</td>\n      <td>0</td>\n      <td>0</td>\n      <td>1</td>\n      <td>0</td>\n      <td>0</td>\n      <td>1</td>\n    </tr>\n    <tr>\n      <th>214</th>\n      <td>2.710</td>\n      <td>5.250</td>\n      <td>1</td>\n      <td>0</td>\n      <td>0</td>\n      <td>1</td>\n      <td>0</td>\n      <td>0</td>\n      <td>0</td>\n      <td>0</td>\n      <td>...</td>\n      <td>0</td>\n      <td>0</td>\n      <td>1</td>\n      <td>0</td>\n      <td>1</td>\n      <td>1</td>\n      <td>0</td>\n      <td>0</td>\n      <td>1</td>\n      <td>0</td>\n    </tr>\n    <tr>\n      <th>466</th>\n      <td>3.085</td>\n      <td>2.500</td>\n      <td>2</td>\n      <td>41</td>\n      <td>0</td>\n      <td>1</td>\n      <td>0</td>\n      <td>0</td>\n      <td>0</td>\n      <td>0</td>\n      <td>...</td>\n      <td>0</td>\n      <td>1</td>\n      <td>0</td>\n      <td>0</td>\n      <td>1</td>\n      <td>1</td>\n      <td>0</td>\n      <td>0</td>\n      <td>0</td>\n      <td>1</td>\n    </tr>\n    <tr>\n      <th>121</th>\n      <td>12.500</td>\n      <td>1.210</td>\n      <td>67</td>\n      <td>258</td>\n      <td>0</td>\n      <td>1</td>\n      <td>0</td>\n      <td>0</td>\n      <td>0</td>\n      <td>0</td>\n      <td>...</td>\n      <td>0</td>\n      <td>0</td>\n      <td>1</td>\n      <td>0</td>\n      <td>1</td>\n      <td>1</td>\n      <td>0</td>\n      <td>0</td>\n      <td>1</td>\n      <td>0</td>\n    </tr>\n    <tr>\n      <th>614</th>\n      <td>4.415</td>\n      <td>0.125</td>\n      <td>0</td>\n      <td>0</td>\n      <td>1</td>\n      <td>0</td>\n      <td>0</td>\n      <td>0</td>\n      <td>0</td>\n      <td>0</td>\n      <td>...</td>\n      <td>0</td>\n      <td>1</td>\n      <td>0</td>\n      <td>1</td>\n      <td>0</td>\n      <td>1</td>\n      <td>0</td>\n      <td>0</td>\n      <td>0</td>\n      <td>1</td>\n    </tr>\n    <tr>\n      <th>20</th>\n      <td>11.250</td>\n      <td>2.500</td>\n      <td>17</td>\n      <td>1208</td>\n      <td>0</td>\n      <td>1</td>\n      <td>0</td>\n      <td>0</td>\n      <td>0</td>\n      <td>0</td>\n      <td>...</td>\n      <td>0</td>\n      <td>0</td>\n      <td>1</td>\n      <td>0</td>\n      <td>1</td>\n      <td>1</td>\n      <td>0</td>\n      <td>0</td>\n      <td>1</td>\n      <td>0</td>\n    </tr>\n    <tr>\n      <th>71</th>\n      <td>4.000</td>\n      <td>12.500</td>\n      <td>0</td>\n      <td>0</td>\n      <td>0</td>\n      <td>1</td>\n      <td>0</td>\n      <td>0</td>\n      <td>0</td>\n      <td>0</td>\n      <td>...</td>\n      <td>0</td>\n      <td>0</td>\n      <td>1</td>\n      <td>1</td>\n      <td>0</td>\n      <td>1</td>\n      <td>0</td>\n      <td>0</td>\n      <td>0</td>\n      <td>1</td>\n    </tr>\n    <tr>\n      <th>106</th>\n      <td>1.165</td>\n      <td>0.500</td>\n      <td>0</td>\n      <td>0</td>\n      <td>0</td>\n      <td>1</td>\n      <td>0</td>\n      <td>0</td>\n      <td>0</td>\n      <td>0</td>\n      <td>...</td>\n      <td>0</td>\n      <td>0</td>\n      <td>1</td>\n      <td>1</td>\n      <td>0</td>\n      <td>0</td>\n      <td>0</td>\n      <td>1</td>\n      <td>0</td>\n      <td>1</td>\n    </tr>\n    <tr>\n      <th>270</th>\n      <td>0.000</td>\n      <td>0.000</td>\n      <td>0</td>\n      <td>0</td>\n      <td>0</td>\n      <td>1</td>\n      <td>0</td>\n      <td>0</td>\n      <td>0</td>\n      <td>0</td>\n      <td>...</td>\n      <td>0</td>\n      <td>1</td>\n      <td>0</td>\n      <td>1</td>\n      <td>0</td>\n      <td>0</td>\n      <td>1</td>\n      <td>0</td>\n      <td>1</td>\n      <td>0</td>\n    </tr>\n    <tr>\n      <th>435</th>\n      <td>0.000</td>\n      <td>0.000</td>\n      <td>4</td>\n      <td>1</td>\n      <td>0</td>\n      <td>1</td>\n      <td>0</td>\n      <td>0</td>\n      <td>0</td>\n      <td>0</td>\n      <td>...</td>\n      <td>0</td>\n      <td>1</td>\n      <td>0</td>\n      <td>0</td>\n      <td>1</td>\n      <td>1</td>\n      <td>0</td>\n      <td>0</td>\n      <td>0</td>\n      <td>1</td>\n    </tr>\n    <tr>\n      <th>102</th>\n      <td>5.000</td>\n      <td>0.375</td>\n      <td>2</td>\n      <td>38</td>\n      <td>0</td>\n      <td>1</td>\n      <td>0</td>\n      <td>0</td>\n      <td>0</td>\n      <td>0</td>\n      <td>...</td>\n      <td>0</td>\n      <td>0</td>\n      <td>1</td>\n      <td>0</td>\n      <td>1</td>\n      <td>1</td>\n      <td>0</td>\n      <td>0</td>\n      <td>0</td>\n      <td>1</td>\n    </tr>\n  </tbody>\n</table>\n<p>462 rows × 334 columns</p>\n</div>"
          },
          "metadata": {}
        }
      ]
    },
    {
      "source": [
        "# Import MinMaxScaler\n",
        "from sklearn.preprocessing import MinMaxScaler\n",
        "\n",
        "# Segregate features and labels into separate variables\n",
        "X_train, y_train = cc_apps_train.iloc[:,:-1].values, cc_apps_train.iloc[:,[-1]].values\n",
        "X_test, y_test = cc_apps_test.iloc[:,:-1].values, cc_apps_test.iloc[:,[-1]].values\n",
        "\n",
        "# Instantiate MinMaxScaler and use it to rescale X_train and X_test\n",
        "scaler = MinMaxScaler(feature_range=(0,1))\n",
        "rescaledX_train = scaler.fit_transform(X_train)\n",
        "rescaledX_test = scaler.transform(X_test)\n"
      ],
      "metadata": {
        "dc": {
          "key": "52"
        },
        "tags": [
          "sample_code"
        ],
        "trusted": true,
        "id": "187e0b73-16ab-4381-92a0-a6ee2595a5bc"
      },
      "id": "187e0b73-16ab-4381-92a0-a6ee2595a5bc",
      "cell_type": "code",
      "execution_count": null,
      "outputs": []
    },
    {
      "source": [
        "# Import LogisticRegression\n",
        "from sklearn.linear_model import LogisticRegression\n",
        "\n",
        "# Instantiate a LogisticRegression classifier with default parameter values\n",
        "logreg = LogisticRegression()\n",
        "\n",
        "# Fit logreg to the train set\n",
        "logreg.fit(rescaledX_train, y_train)"
      ],
      "metadata": {
        "dc": {
          "key": "59"
        },
        "tags": [
          "sample_code"
        ],
        "trusted": true,
        "id": "cc56899f-bdf2-4adf-86f9-722c6ffa530c",
        "outputId": "d58427d7-bc33-4e2a-d6a5-ec48988fe8ff"
      },
      "id": "cc56899f-bdf2-4adf-86f9-722c6ffa530c",
      "cell_type": "code",
      "execution_count": null,
      "outputs": [
        {
          "output_type": "execute_result",
          "execution_count": 325,
          "data": {
            "text/plain": "LogisticRegression(C=1.0, class_weight=None, dual=False, fit_intercept=True,\n          intercept_scaling=1, max_iter=100, multi_class='ovr', n_jobs=1,\n          penalty='l2', random_state=None, solver='liblinear', tol=0.0001,\n          verbose=0, warm_start=False)"
          },
          "metadata": {}
        }
      ]
    },
    {
      "source": [
        "# Import confusion_matrix\n",
        "from sklearn.metrics import confusion_matrix\n",
        "\n",
        "# Use logreg to predict instances from the test set and store it\n",
        "y_pred = logreg.predict(rescaledX_test)\n",
        "\n",
        "# Get the accuracy score of logreg model and print it\n",
        "print(\"Accuracy of logistic regression classifier: \", logreg.score(rescaledX_test, y_test))\n",
        "\n",
        "# Print the confusion matrix of the logreg model\n",
        "print(confusion_matrix(y_pred, y_test))"
      ],
      "metadata": {
        "dc": {
          "key": "66"
        },
        "tags": [
          "sample_code"
        ],
        "trusted": true,
        "id": "8429e552-0950-426d-b6a1-4a43d5b086fc",
        "outputId": "f1ff747e-0c57-4cdc-f394-1f6ceca30a4b"
      },
      "id": "8429e552-0950-426d-b6a1-4a43d5b086fc",
      "cell_type": "code",
      "execution_count": null,
      "outputs": [
        {
          "output_type": "stream",
          "text": "Accuracy of logistic regression classifier:  1.0\n[[103   0]\n [  0 125]]\n",
          "name": "stdout"
        }
      ]
    },
    {
      "source": [
        "# Import GridSearchCV\n",
        "from sklearn.model_selection import GridSearchCV\n",
        "\n",
        "# Define the grid of values for tol and max_iter\n",
        "tol = [0.01, 0.001, 0.0001]\n",
        "max_iter = [100, 150, 200]\n",
        "\n",
        "# Create a dictionary where tol and max_iter are keys and the lists of their values are corresponding values\n",
        "param_grid = dict([('tol',tol), ('max_iter', max_iter)])\n",
        "param_grid"
      ],
      "metadata": {
        "dc": {
          "key": "73"
        },
        "tags": [
          "sample_code"
        ],
        "trusted": true,
        "id": "73087684-b105-427e-9885-598f36a5d86d",
        "outputId": "0c8da6b0-b7c7-44d3-e00f-7a340cfe1215"
      },
      "id": "73087684-b105-427e-9885-598f36a5d86d",
      "cell_type": "code",
      "execution_count": null,
      "outputs": [
        {
          "output_type": "execute_result",
          "execution_count": 329,
          "data": {
            "text/plain": "{'tol': [0.01, 0.001, 0.0001], 'max_iter': [100, 150, 200]}"
          },
          "metadata": {}
        }
      ]
    },
    {
      "source": [
        "# Instantiate GridSearchCV with the required parameters\n",
        "grid_model = GridSearchCV(estimator=logreg, param_grid=param_grid, cv=5)\n",
        "\n",
        "# Fit grid_model to the data\n",
        "grid_model_result = grid_model.fit(rescaledX_train, y_train)\n",
        "\n",
        "# Summarize results\n",
        "best_score, best_params = grid_model_result.best_score_, grid_model_result.best_params_\n",
        "print(\"Best: %f using %s\" % (best_score, best_params))\n",
        "\n",
        "# Extract the best model and evaluate it on the test set\n",
        "best_model = grid_model_result.best_estimator_\n",
        "print(\"Accuracy of logistic regression classifier: \", best_model)"
      ],
      "metadata": {
        "dc": {
          "key": "80"
        },
        "tags": [
          "sample_code"
        ],
        "trusted": true,
        "id": "640cddd9-6a6a-4500-b42f-97a906f3ac59",
        "outputId": "7d175b32-5315-44bc-fceb-53fa4c44000a"
      },
      "id": "640cddd9-6a6a-4500-b42f-97a906f3ac59",
      "cell_type": "code",
      "execution_count": null,
      "outputs": [
        {
          "output_type": "stream",
          "text": "Best: 1.000000 using {'max_iter': 100, 'tol': 0.01}\nAccuracy of logistic regression classifier:  LogisticRegression(C=1.0, class_weight=None, dual=False, fit_intercept=True,\n          intercept_scaling=1, max_iter=100, multi_class='ovr', n_jobs=1,\n          penalty='l2', random_state=None, solver='liblinear', tol=0.01,\n          verbose=0, warm_start=False)\n",
          "name": "stdout"
        }
      ]
    }
  ],
  "metadata": {
    "kernelspec": {
      "display_name": "Python 3 (ipykernel)",
      "language": "python",
      "name": "python3"
    },
    "language_info": {
      "name": "python",
      "version": "3.8.10",
      "mimetype": "text/x-python",
      "codemirror_mode": {
        "name": "ipython",
        "version": 3
      },
      "pygments_lexer": "ipython3",
      "nbconvert_exporter": "python",
      "file_extension": ".py"
    },
    "editor": "DataCamp Workspace",
    "colab": {
      "provenance": [],
      "include_colab_link": true
    }
  },
  "nbformat": 4,
  "nbformat_minor": 5
}