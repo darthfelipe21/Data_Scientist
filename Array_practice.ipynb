{
  "nbformat": 4,
  "nbformat_minor": 0,
  "metadata": {
    "colab": {
      "provenance": [],
      "include_colab_link": true
    },
    "kernelspec": {
      "name": "python3",
      "display_name": "Python 3"
    },
    "language_info": {
      "name": "python"
    }
  },
  "cells": [
    {
      "cell_type": "markdown",
      "metadata": {
        "id": "view-in-github",
        "colab_type": "text"
      },
      "source": [
        "<a href=\"https://colab.research.google.com/github/darthfelipe21/Data_Scientist/blob/main/Array_practice.ipynb\" target=\"_parent\"><img src=\"https://colab.research.google.com/assets/colab-badge.svg\" alt=\"Open In Colab\"/></a>"
      ]
    },
    {
      "cell_type": "markdown",
      "metadata": {
        "id": "gN2-JXtZLTKP"
      },
      "source": [
        "# 4. NUMPY Y PANDAS SERIES\n",
        "\n",
        "**EJERCICIOS:**"
      ]
    },
    {
      "cell_type": "markdown",
      "metadata": {
        "id": "7Z8_OktFiR2E"
      },
      "source": [
        "Antes de empezar a resolver ejercicios con Numpy y Pandas, aprendamos a importar una librería en Python.\n",
        "\n",
        "Una librería está compuesta por un conjunto de funciones que podremos usar una vez la hemos importado. Para importar cualquier libreria en Python debemos usar el comando import, pero hay dos buenas prácticas para importarlas."
      ]
    },
    {
      "cell_type": "markdown",
      "metadata": {
        "id": "7NsT64F2jYX4"
      },
      "source": [
        "1. La manera más común: **importar la librería entera y renombrarla si nos interesa** mediante la palabra 'as'. Por ejemplo numpy suele ser renombrado como np."
      ]
    },
    {
      "cell_type": "code",
      "metadata": {
        "id": "LVgwqnGKPvn2"
      },
      "source": [
        "import numpy as np"
      ],
      "execution_count": 5,
      "outputs": []
    },
    {
      "cell_type": "markdown",
      "metadata": {
        "id": "mjsjYWb7j3fQ"
      },
      "source": [
        "Con esta primera forma, cada vez que llamemos a una función de la librería deberemos poner el nombre de la librería seguido de un punto antes de la función, o en su defecto, si la hemos renombrado deberemos poner el nombre que le hemos asignado. Veamos un ejemplo a continuación:"
      ]
    },
    {
      "cell_type": "code",
      "metadata": {
        "id": "ayviI8M0jmHQ"
      },
      "source": [
        "arr = np.array([1,2,2])"
      ],
      "execution_count": 6,
      "outputs": []
    },
    {
      "cell_type": "markdown",
      "metadata": {
        "id": "I_Slw-MmkJT-"
      },
      "source": [
        "Como podéis ver, si no ponemos la librería de la que procede la función nos da error."
      ]
    },
    {
      "cell_type": "markdown",
      "metadata": {
        "id": "__EIc-LykRFQ"
      },
      "source": [
        "2. La segunda forma es muy usada cuando **solo queremos alguna función en concreto de una libreria** y no necesitamos importar toda la librería entera. Por ejemplo, si solo quisieramos la función array de numpy haríamos lo siguiente:"
      ]
    },
    {
      "cell_type": "code",
      "metadata": {
        "id": "fFNltZwrkQp_"
      },
      "source": [
        "from numpy import array"
      ],
      "execution_count": 7,
      "outputs": []
    },
    {
      "cell_type": "markdown",
      "metadata": {
        "id": "NcN3hyPCk0on"
      },
      "source": [
        "Si llevamos a cabo este procedimiento, al usar las funciones concretas que importemos no hará falta indicar la librería de la que proceden como en el punto anterior. Veámoslo a continuación:"
      ]
    },
    {
      "cell_type": "code",
      "metadata": {
        "id": "zYMNn7qekITM"
      },
      "source": [
        "arr = array([8,9,1])"
      ],
      "execution_count": 8,
      "outputs": []
    },
    {
      "cell_type": "markdown",
      "metadata": {
        "id": "WGUzyUiglFEG"
      },
      "source": [
        "Ahora no nos ha dado ningún error."
      ]
    },
    {
      "cell_type": "markdown",
      "metadata": {
        "id": "l0dA6YqdlVLY"
      },
      "source": [
        "Empecemos con los ejercicios:\n"
      ]
    },
    {
      "cell_type": "markdown",
      "metadata": {
        "id": "i0HPun6IlYu2"
      },
      "source": [
        "**Ejercicio 1**\n",
        "Importa la libreria numpy y renombrala como np"
      ]
    },
    {
      "cell_type": "code",
      "metadata": {
        "id": "egQll23hlELe"
      },
      "source": [
        "import numpy as np"
      ],
      "execution_count": 9,
      "outputs": []
    },
    {
      "cell_type": "markdown",
      "metadata": {
        "id": "tJALNb9Glhn9"
      },
      "source": [
        "**Ejercicio 2** Crea un array a partir de la lista [1,2,3] y comprueba el tipo de variable que has creado mediante la función dtype como hicimos en los ejercicios de la primera unidad"
      ]
    },
    {
      "cell_type": "code",
      "metadata": {
        "id": "kfyxG9Gzlqa2",
        "colab": {
          "base_uri": "https://localhost:8080/"
        },
        "outputId": "3813ca99-95a3-4a18-858b-6bc50dc005de"
      },
      "source": [
        "arreglo= np.array([1,2,3])\n",
        "type(arreglo)"
      ],
      "execution_count": 10,
      "outputs": [
        {
          "output_type": "execute_result",
          "data": {
            "text/plain": [
              "numpy.ndarray"
            ]
          },
          "metadata": {},
          "execution_count": 10
        }
      ]
    },
    {
      "cell_type": "markdown",
      "metadata": {
        "id": "zvdQV75Zlqv2"
      },
      "source": [
        "**Ejercicio 3** Crea un array a partir de la lista definida a continuación "
      ]
    },
    {
      "cell_type": "code",
      "metadata": {
        "id": "bZWqzpa8lvxK"
      },
      "source": [
        "#Definimos la lista\n",
        "lista1 = [3,6,2,1]"
      ],
      "execution_count": 11,
      "outputs": []
    },
    {
      "cell_type": "code",
      "metadata": {
        "id": "fcKWcj89ly1g"
      },
      "source": [
        "#Crea el array a partir de lista1\n",
        "nuevo_array= np.array(lista1)"
      ],
      "execution_count": 12,
      "outputs": []
    },
    {
      "cell_type": "markdown",
      "metadata": {
        "id": "xO-gGQ0Ul4MQ"
      },
      "source": [
        "**Ejercicio 4** Crea un array de dos dimensiones, es decir, crea un array a partir de una lista que contenga listas. Un array de dos dimensiones también se llama una **matriz**"
      ]
    },
    {
      "cell_type": "code",
      "metadata": {
        "id": "EH3F0CxxmPQo",
        "colab": {
          "base_uri": "https://localhost:8080/"
        },
        "outputId": "37ce0d87-c170-426b-9b24-30afc30e5da4"
      },
      "source": [
        "lista2=((1,2,3),(1,2,3))\n",
        "\n",
        "array_2d= np.array(lista2)\n",
        "\n",
        "print(array_2d)"
      ],
      "execution_count": 13,
      "outputs": [
        {
          "output_type": "stream",
          "name": "stdout",
          "text": [
            "[[1 2 3]\n",
            " [1 2 3]]\n"
          ]
        }
      ]
    },
    {
      "cell_type": "markdown",
      "metadata": {
        "id": "JYrKMrpJmQgj"
      },
      "source": [
        "**Ejercicio 5** Completa el código substituyendo los guiones bajos con la función necesaria para crear un array de medida 6 lleno de **ceros**"
      ]
    },
    {
      "cell_type": "code",
      "metadata": {
        "id": "aaGuqiaYng3R",
        "colab": {
          "base_uri": "https://localhost:8080/"
        },
        "outputId": "29482da2-a426-4679-e47d-517d4bf1e8bd"
      },
      "source": [
        "arr1 = np.zeros(6)\n",
        "print(arr1)"
      ],
      "execution_count": 14,
      "outputs": [
        {
          "output_type": "stream",
          "name": "stdout",
          "text": [
            "[0. 0. 0. 0. 0. 0.]\n"
          ]
        }
      ]
    },
    {
      "cell_type": "markdown",
      "metadata": {
        "id": "uyyVWinln8Bf"
      },
      "source": [
        "**Ejercicio 6** Completa el código substituyendo los guiones bajos con la función necesaria para crear un array de medida 6 lleno de **unos**"
      ]
    },
    {
      "cell_type": "code",
      "metadata": {
        "id": "W4ePwSPDnl8k",
        "colab": {
          "base_uri": "https://localhost:8080/"
        },
        "outputId": "29aff2c8-4bb4-4f98-be6f-1c175cc12d8b"
      },
      "source": [
        "arr2 = np.ones(6)\n",
        "print(arr2)"
      ],
      "execution_count": 15,
      "outputs": [
        {
          "output_type": "stream",
          "name": "stdout",
          "text": [
            "[1. 1. 1. 1. 1. 1.]\n"
          ]
        }
      ]
    },
    {
      "cell_type": "markdown",
      "metadata": {
        "id": "cJ7cqf2soKYV"
      },
      "source": [
        "**Ejercicio 7** Crea un array vacío de medida 10 mediante la función empty"
      ]
    },
    {
      "cell_type": "code",
      "metadata": {
        "id": "1-5iYzAMoKFI",
        "colab": {
          "base_uri": "https://localhost:8080/"
        },
        "outputId": "9102c831-265b-4447-da94-4cdbc674ed1c"
      },
      "source": [
        "arr3 = np.empty(10)\n",
        "print(arr3)"
      ],
      "execution_count": 16,
      "outputs": [
        {
          "output_type": "stream",
          "name": "stdout",
          "text": [
            "[2.03807691e-316 0.00000000e+000 0.00000000e+000 0.00000000e+000\n",
            " 3.03747742e-294 1.22502178e-046 3.88586756e-033 4.71771172e-090\n",
            " 2.74863854e+180 2.18254204e-289]\n"
          ]
        }
      ]
    },
    {
      "cell_type": "markdown",
      "metadata": {
        "id": "BGlz-_LFoi3t"
      },
      "source": [
        "**Ejercicio 8** Crea un array que contenga los múltiples de 5 del 0 al 25 (es decir: 0,5,10,...,25) mediante la función arange"
      ]
    },
    {
      "cell_type": "code",
      "metadata": {
        "id": "3oRrXiLqoiiW",
        "colab": {
          "base_uri": "https://localhost:8080/"
        },
        "outputId": "aaebc677-509c-4b24-a5aa-9a19de67b560"
      },
      "source": [
        "arr4= np.array(range(0,30,5))\n",
        "\n",
        "arr4"
      ],
      "execution_count": 17,
      "outputs": [
        {
          "output_type": "execute_result",
          "data": {
            "text/plain": [
              "array([ 0,  5, 10, 15, 20, 25])"
            ]
          },
          "metadata": {},
          "execution_count": 17
        }
      ]
    },
    {
      "cell_type": "markdown",
      "metadata": {
        "id": "jLZ1mtv0o3H3"
      },
      "source": [
        "**Ejercicio 9** Escribe la medida que crees que tiene el array arr3 y luego comprueba si has acertado con la función np.size()"
      ]
    },
    {
      "cell_type": "code",
      "metadata": {
        "id": "tnNhv8jrpjWV"
      },
      "source": [
        "#definimos el array arr3\n",
        "arr3 = np.array([4,7,8, 5])"
      ],
      "execution_count": 18,
      "outputs": []
    },
    {
      "cell_type": "code",
      "metadata": {
        "id": "nDNcnaILpoRE",
        "colab": {
          "base_uri": "https://localhost:8080/"
        },
        "outputId": "e4709b7e-96d5-433c-c6fb-6580e25ebff7"
      },
      "source": [
        "#comprueba su medida\n",
        "np.size(arr3)"
      ],
      "execution_count": 19,
      "outputs": [
        {
          "output_type": "execute_result",
          "data": {
            "text/plain": [
              "4"
            ]
          },
          "metadata": {},
          "execution_count": 19
        }
      ]
    },
    {
      "cell_type": "markdown",
      "metadata": {
        "id": "LwyFHZpoqcQu"
      },
      "source": [
        "**Ejercicio 10** Ahora escribe las dimensiones (forma) que crees que tiene arr3 y luego compruebalo con la función np.shape()"
      ]
    },
    {
      "cell_type": "code",
      "metadata": {
        "id": "TwfTXWtbpv3w",
        "colab": {
          "base_uri": "https://localhost:8080/"
        },
        "outputId": "e4edafb3-b471-4bc5-e221-505bb5cc7486"
      },
      "source": [
        "arr3.shape"
      ],
      "execution_count": 20,
      "outputs": [
        {
          "output_type": "execute_result",
          "data": {
            "text/plain": [
              "(4,)"
            ]
          },
          "metadata": {},
          "execution_count": 20
        }
      ]
    },
    {
      "cell_type": "markdown",
      "metadata": {
        "id": "N0nw9DeqymN0"
      },
      "source": [
        "**Ejercicio 11** Substituye la almohadilla # y obtén el primer elemento de arr3, definido en el ejercicio 9, y guardalo en la variable first_item:"
      ]
    },
    {
      "cell_type": "code",
      "metadata": {
        "id": "0n14arXJyxmF"
      },
      "source": [
        "first_item = arr3[0]"
      ],
      "execution_count": 21,
      "outputs": []
    },
    {
      "cell_type": "code",
      "source": [
        "print(first_item)"
      ],
      "metadata": {
        "id": "JWLend1egnZe",
        "colab": {
          "base_uri": "https://localhost:8080/"
        },
        "outputId": "01153910-0b55-4cbd-9a93-72839cec85be"
      },
      "execution_count": 22,
      "outputs": [
        {
          "output_type": "stream",
          "name": "stdout",
          "text": [
            "4\n"
          ]
        }
      ]
    },
    {
      "cell_type": "markdown",
      "metadata": {
        "id": "gHxX8hetzC9l"
      },
      "source": [
        "Ahora substituye la almohadilla # y obtén el último elemento de arr3 guardado en last_item. Recuerda que puedes usar también números negativos:"
      ]
    },
    {
      "cell_type": "code",
      "metadata": {
        "id": "z_kQEhcAzVMN"
      },
      "source": [
        "last_item = arr3[-1]"
      ],
      "execution_count": 23,
      "outputs": []
    },
    {
      "cell_type": "code",
      "source": [
        "print(last_item)"
      ],
      "metadata": {
        "id": "NKq9ZLfkg0cm",
        "colab": {
          "base_uri": "https://localhost:8080/"
        },
        "outputId": "0416e63a-e7a6-4132-c906-9d42206fe89c"
      },
      "execution_count": 24,
      "outputs": [
        {
          "output_type": "stream",
          "name": "stdout",
          "text": [
            "5\n"
          ]
        }
      ]
    },
    {
      "cell_type": "markdown",
      "metadata": {
        "id": "anTud5OWq44w"
      },
      "source": [
        "**Ejercicio 12** Haz lo mismo que en los ejercicios 9, 10 y 11 pero para arr4"
      ]
    },
    {
      "cell_type": "code",
      "metadata": {
        "id": "oywjTscwq-GV",
        "colab": {
          "base_uri": "https://localhost:8080/"
        },
        "outputId": "c68e9723-5b75-4b21-c0af-b9126e51e742"
      },
      "source": [
        "arr4 = np.array([[2,6,4], [1,3,8]])\n",
        "print(np.size(arr4))\n",
        "print(arr4.shape)\n",
        "print(arr4[-1])"
      ],
      "execution_count": 25,
      "outputs": [
        {
          "output_type": "stream",
          "name": "stdout",
          "text": [
            "6\n",
            "(2, 3)\n",
            "[1 3 8]\n"
          ]
        }
      ]
    },
    {
      "cell_type": "markdown",
      "metadata": {
        "id": "se-QNeVwsuEJ"
      },
      "source": [
        "**Ejercicio 13** Substituye las almohadillas # por los número correspondientes para que arr4_item = 6, teniendo en cuenta que arr4 es el array definido en el ejercicio anterior\n"
      ]
    },
    {
      "cell_type": "code",
      "metadata": {
        "id": "1fzq1YANtATk",
        "colab": {
          "base_uri": "https://localhost:8080/"
        },
        "outputId": "d01103c0-21b3-4dec-85bd-e6836e40a656"
      },
      "source": [
        "#forma 1\n",
        "arr4_item = arr4[0][1]\n",
        "print(arr4_item)"
      ],
      "execution_count": 26,
      "outputs": [
        {
          "output_type": "stream",
          "name": "stdout",
          "text": [
            "6\n"
          ]
        }
      ]
    },
    {
      "cell_type": "code",
      "metadata": {
        "id": "TjryUtORvHqI",
        "colab": {
          "base_uri": "https://localhost:8080/"
        },
        "outputId": "85826852-1474-43ef-d3e8-077b557bf46c"
      },
      "source": [
        "#forma 2\n",
        "arr4_item = arr4[0,1]\n",
        "print(arr4_item)"
      ],
      "execution_count": 27,
      "outputs": [
        {
          "output_type": "stream",
          "name": "stdout",
          "text": [
            "6\n"
          ]
        }
      ]
    },
    {
      "cell_type": "markdown",
      "metadata": {
        "id": "u68ac421vOqX"
      },
      "source": [
        "**Ejercicio 14** Substituye la almohadilla para que new_arr4 = [1,3,8]"
      ]
    },
    {
      "cell_type": "code",
      "metadata": {
        "id": "ZC4KJ41Kvail",
        "colab": {
          "base_uri": "https://localhost:8080/"
        },
        "outputId": "ca1bdf56-99e4-485f-a0f3-dbbf7bbfb2d8"
      },
      "source": [
        "new_arr4 = arr4[-1]\n",
        "print(new_arr4)"
      ],
      "execution_count": 28,
      "outputs": [
        {
          "output_type": "stream",
          "name": "stdout",
          "text": [
            "[1 3 8]\n"
          ]
        }
      ]
    },
    {
      "cell_type": "markdown",
      "metadata": {
        "id": "RKcKPg3ave2U"
      },
      "source": [
        "**Ejercicio 15** Define un array llamado my_array de manera que my_slice = my_array[2][3] sea igual a 2 y my_second_slice = my_array[0][1] sea igual a 4. Comprueba que lo haas hecho bien ejecutando la segunda celda."
      ]
    },
    {
      "cell_type": "code",
      "metadata": {
        "id": "jz3-4L31veQm"
      },
      "source": [
        "#Define my_array\n",
        "my_array= [[0,4,2,3],[0,1,2,3],[0,1,3,2]]"
      ],
      "execution_count": 29,
      "outputs": []
    },
    {
      "cell_type": "code",
      "metadata": {
        "id": "6yGvhM8Av9Dz",
        "colab": {
          "base_uri": "https://localhost:8080/"
        },
        "outputId": "c1846b6c-102e-4ca1-9b85-d6f6f092c007"
      },
      "source": [
        "#Comprobamos que my_array esté definido correctamente (solo ejecutar)\n",
        "\n",
        "my_slice = my_array[2][3]\n",
        "my_second_slice = my_array[0][1]\n",
        "\n",
        "if my_slice!=2 or my_second_slice!=4:\n",
        "  print('Error! O bien my_slice o bien my_second_slice no corresponden a los resultados indicados')\n",
        "else:\n",
        "  print('Correcto! my_slice y my_second_slice contienen los resultados esperados')"
      ],
      "execution_count": 30,
      "outputs": [
        {
          "output_type": "stream",
          "name": "stdout",
          "text": [
            "Correcto! my_slice y my_second_slice contienen los resultados esperados\n"
          ]
        }
      ]
    },
    {
      "cell_type": "markdown",
      "metadata": {
        "id": "CVLoDrwOrC6F"
      },
      "source": [
        "**Ejercicio 16** Substituye los guiones bajos de manera que en w1 tengamos todos los elementos menores o iguales que 5 de v1. Imprime w1 para comprobarlo."
      ]
    },
    {
      "cell_type": "code",
      "metadata": {
        "id": "FtXwSPGf0KEp"
      },
      "source": [
        "v1 = np.array([2,7,1,8,9,5,4])"
      ],
      "execution_count": 31,
      "outputs": []
    },
    {
      "cell_type": "code",
      "metadata": {
        "id": "ws3IflJq0O4a",
        "colab": {
          "base_uri": "https://localhost:8080/"
        },
        "outputId": "6348c851-c925-41f5-e3d4-e0e335aae270"
      },
      "source": [
        "w1 = v1[v1 <= 5]\n",
        "print(w1)"
      ],
      "execution_count": 32,
      "outputs": [
        {
          "output_type": "stream",
          "name": "stdout",
          "text": [
            "[2 1 5 4]\n"
          ]
        }
      ]
    },
    {
      "cell_type": "markdown",
      "metadata": {
        "id": "Uww3ddVL0Zy0"
      },
      "source": [
        "Ahora haz que w2 contenga todos los elementos mayores que 5 de v1 y el número 2 de v1. Imprime w2 para comprobarlo."
      ]
    },
    {
      "cell_type": "code",
      "metadata": {
        "id": "kKPtctJ70ZWr",
        "colab": {
          "base_uri": "https://localhost:8080/"
        },
        "outputId": "79bf3928-edbe-4d67-fd8e-a14ebfcc890c"
      },
      "source": [
        "w2 = v1[v1 > 5]\n",
        "print(w2)"
      ],
      "execution_count": 33,
      "outputs": [
        {
          "output_type": "stream",
          "name": "stdout",
          "text": [
            "[7 8 9]\n"
          ]
        }
      ]
    },
    {
      "cell_type": "markdown",
      "metadata": {
        "id": "_ecgS0aD0pMF"
      },
      "source": [
        "**Ejercicio 17** Multiplica w1 por 2 y sumale w2 al resultado, guárdalo en w3 e imprímelo."
      ]
    },
    {
      "cell_type": "code",
      "metadata": {
        "id": "3aNA0ZEFp4Er",
        "colab": {
          "base_uri": "https://localhost:8080/"
        },
        "outputId": "d7fe8745-bd34-4cd2-cffb-73c3ce920874"
      },
      "source": [
        "from itertools import zip_longest\n",
        "w1= w1*2\n",
        "w3= [x + y for x, y in zip_longest(w1, w2, fillvalue=0)]\n",
        "print(w3)"
      ],
      "execution_count": 34,
      "outputs": [
        {
          "output_type": "stream",
          "name": "stdout",
          "text": [
            "[11, 10, 19, 8]\n"
          ]
        }
      ]
    },
    {
      "cell_type": "markdown",
      "metadata": {
        "id": "yeK2x-ovqGfJ"
      },
      "source": [
        "**Ejercicio 18** Concatena los arrays w1 y w2 con la función np.concatenate() e imprime el resultado"
      ]
    },
    {
      "cell_type": "code",
      "metadata": {
        "id": "dYaMCgJeqGMQ",
        "colab": {
          "base_uri": "https://localhost:8080/"
        },
        "outputId": "478bbc3e-0d57-4d66-e2cf-04441442a143"
      },
      "source": [
        "w4= np.concatenate([w1,w2])\n",
        "print(w4)"
      ],
      "execution_count": 35,
      "outputs": [
        {
          "output_type": "stream",
          "name": "stdout",
          "text": [
            "[ 4  2 10  8  7  8  9]\n"
          ]
        }
      ]
    },
    {
      "cell_type": "markdown",
      "metadata": {
        "id": "FcxsMZs6uN3M"
      },
      "source": [
        "**Ejercicio 19** Sean a y b los arrays definidos a continuación, piensa en que resultados crees que tendrán las operaciones siguientes. Luego programalas, ejecuta y comprueba si has acertado el resultado\n",
        "\n",
        "* a-b*2\n",
        "* (a+b)/3\n",
        "* b**2\n",
        "* a%2\n"
      ]
    },
    {
      "cell_type": "code",
      "metadata": {
        "id": "2x6710vDuNlL",
        "colab": {
          "base_uri": "https://localhost:8080/"
        },
        "outputId": "1d6cb92d-da0c-40e0-ef98-3b1d1cbe3a09"
      },
      "source": [
        "#Definimos los arrays a y b\n",
        "a = np.array([2,1,1,5,4])\n",
        "b = np.array([0,7,0,4,6])\n",
        "\n",
        "print(a-b*2)\n",
        "print((a+b)/3)\n",
        "print(b**2)\n",
        "print(a%2)"
      ],
      "execution_count": 36,
      "outputs": [
        {
          "output_type": "stream",
          "name": "stdout",
          "text": [
            "[  2 -13   1  -3  -8]\n",
            "[0.66666667 2.66666667 0.33333333 3.         3.33333333]\n",
            "[ 0 49  0 16 36]\n",
            "[0 1 1 1 0]\n"
          ]
        }
      ]
    },
    {
      "cell_type": "markdown",
      "metadata": {
        "id": "_CCjJtHuMG27"
      },
      "source": [
        "**Ejercicio 20** Crea una array con las alturas de los 10 alumnos de una clase, luego calcula la media y la mediana de las alturas de los alumnos con las funciones np.mean() y np.median()"
      ]
    },
    {
      "cell_type": "code",
      "source": [
        "alumnos= np.array([1.50, 1.75, 1.61, 1.80, 1.45, 1.65, 1.62, 1.70, 1.69, 1.76])\n",
        "\n",
        "print(np.mean(alumnos))\n",
        "print(np.median(alumnos))"
      ],
      "metadata": {
        "id": "oqiFxvIDHpDF",
        "colab": {
          "base_uri": "https://localhost:8080/"
        },
        "outputId": "79f3d268-4619-45da-e67b-15ffb7b1cdfb"
      },
      "execution_count": 37,
      "outputs": [
        {
          "output_type": "stream",
          "name": "stdout",
          "text": [
            "1.653\n",
            "1.67\n"
          ]
        }
      ]
    },
    {
      "cell_type": "markdown",
      "metadata": {
        "id": "Jst3ll1V87qM"
      },
      "source": [
        "**Ejercicio 21** Ha llegado una chica nueva a la clase, añade su altura en el array del ejercicio anterior mediante la función np.append() y luego ordena las alturas de menor a mayor con la función np.sort(). Piensa también una manera de ordenar las alturas de mayor a menor."
      ]
    },
    {
      "cell_type": "code",
      "source": [
        "np.append(alumnos, 1.57)\n",
        "alumnos=np.sort(alumnos)[::-1]"
      ],
      "metadata": {
        "id": "FlE88VNbH06c"
      },
      "execution_count": 38,
      "outputs": []
    },
    {
      "cell_type": "markdown",
      "metadata": {
        "id": "90E0Z5r5qiCw"
      },
      "source": [
        "**Ejercicio 22** Importa la librería Pandas y crea una serie de Pandas a partir del array del ejercicio anterior"
      ]
    },
    {
      "cell_type": "code",
      "source": [
        "import pandas as pd"
      ],
      "metadata": {
        "id": "-Ko2qmWKH41p"
      },
      "execution_count": 39,
      "outputs": []
    },
    {
      "cell_type": "markdown",
      "metadata": {
        "id": "qfU8HjBbrp10"
      },
      "source": [
        "**Ejercicio 23** Guarda en un nuevo array las 3 últimas alturas del ejercicio 21, las de los alumnos más altos. Luego crea una Serie con estas tres alturas y define como index de la Serie los nombres de los alumnos asociados (invéntatelos)"
      ]
    },
    {
      "cell_type": "code",
      "source": [
        "w5= alumnos[-3:]\n",
        "serie1= pd.Series(w5, index=('maria', 'jose', 'jesus'))\n",
        "serie1"
      ],
      "metadata": {
        "id": "J9unJBybH8C1",
        "colab": {
          "base_uri": "https://localhost:8080/"
        },
        "outputId": "9ce3e785-0124-4bff-f0eb-b00f59cc1763"
      },
      "execution_count": 40,
      "outputs": [
        {
          "output_type": "execute_result",
          "data": {
            "text/plain": [
              "maria    1.61\n",
              "jose     1.50\n",
              "jesus    1.45\n",
              "dtype: float64"
            ]
          },
          "metadata": {},
          "execution_count": 40
        }
      ]
    },
    {
      "cell_type": "markdown",
      "metadata": {
        "id": "eWWoocpXsEmh"
      },
      "source": [
        "**Ejercicio 24** Selecciona el alumno más alto de la serie del ejercicio anterior. Puedes hacerlo usando los corchetes [ ], o también recuerda que en Pandas Series tenemos las funciones head() y tail()"
      ]
    },
    {
      "cell_type": "code",
      "metadata": {
        "id": "cyhwvjbpsmyS",
        "colab": {
          "base_uri": "https://localhost:8080/"
        },
        "outputId": "0c194f03-56b4-43db-ee54-69c91856b14c"
      },
      "source": [
        "serie1.head(1)"
      ],
      "execution_count": 41,
      "outputs": [
        {
          "output_type": "execute_result",
          "data": {
            "text/plain": [
              "maria    1.61\n",
              "dtype: float64"
            ]
          },
          "metadata": {},
          "execution_count": 41
        }
      ]
    },
    {
      "cell_type": "markdown",
      "metadata": {
        "id": "0B3KZgIFsEjm"
      },
      "source": [
        "**Ejercicio 25** Definimos el diccionario dict1 formado por los nombres de 5 personas junto con sus edades. Crea una serie de Pandas a partir de este diccionario, definiendo el nombre como index y la edad como values."
      ]
    },
    {
      "cell_type": "code",
      "source": [
        "dict1=  [{'nombre':'Felipe', 'edad':37},\n",
        "        {'nombre':'Maria', 'edad': 27},\n",
        "        {'nombre':'Jose', 'edad': 30},\n",
        "        {'nombre':'Caramelo', 'edad': 17},\n",
        "        {'nombre':'Azucar', 'edad': 25}]\n",
        "\n",
        "new_series= pd.Series([d['edad'] for d in dict1], index=[d['nombre'] for d in dict1])\n",
        "\n",
        "new_series"
      ],
      "metadata": {
        "id": "NibxGduvICyF",
        "colab": {
          "base_uri": "https://localhost:8080/"
        },
        "outputId": "8e843c30-9258-4dd3-e906-15b8ef443a9a"
      },
      "execution_count": 42,
      "outputs": [
        {
          "output_type": "execute_result",
          "data": {
            "text/plain": [
              "Felipe      37\n",
              "Maria       27\n",
              "Jose        30\n",
              "Caramelo    17\n",
              "Azucar      25\n",
              "dtype: int64"
            ]
          },
          "metadata": {},
          "execution_count": 42
        }
      ]
    },
    {
      "cell_type": "markdown",
      "metadata": {
        "id": "H1oiBnzovLd-"
      },
      "source": [
        "**Ejercicio 26** Selecciona la edad de Marta a partir del labeled index de la serie creada en el ejercicio anterior "
      ]
    },
    {
      "cell_type": "code",
      "source": [
        "new_series.loc['Felipe']"
      ],
      "metadata": {
        "id": "cUFcVxtOIFD0",
        "colab": {
          "base_uri": "https://localhost:8080/"
        },
        "outputId": "ba57c6d6-b4ea-4c14-e663-433d7d5f1802"
      },
      "execution_count": 43,
      "outputs": [
        {
          "output_type": "execute_result",
          "data": {
            "text/plain": [
              "37"
            ]
          },
          "metadata": {},
          "execution_count": 43
        }
      ]
    },
    {
      "cell_type": "markdown",
      "metadata": {
        "id": "ql1phoO1v-Qy"
      },
      "source": [
        "**Ejercicio 27** Selecciona la edad de la persona más mayor de dict1. Recuerda que podemos usar las funciones max() o nlargest()"
      ]
    },
    {
      "cell_type": "code",
      "source": [
        "new_series.max()"
      ],
      "metadata": {
        "id": "064JQijKIFsc",
        "colab": {
          "base_uri": "https://localhost:8080/"
        },
        "outputId": "14a31e6a-cb5f-466f-8934-55c658d13ee0"
      },
      "execution_count": 44,
      "outputs": [
        {
          "output_type": "execute_result",
          "data": {
            "text/plain": [
              "37"
            ]
          },
          "metadata": {},
          "execution_count": 44
        }
      ]
    },
    {
      "cell_type": "markdown",
      "metadata": {
        "id": "EjQBoL-wxiZh"
      },
      "source": [
        "**Ejercicio 28** Calcula la media de las edades de la serie elaborada a partir de dict1 mediante la función mean()"
      ]
    },
    {
      "cell_type": "code",
      "source": [
        "new_series.mean()"
      ],
      "metadata": {
        "id": "_YJRfU3mIHhI",
        "colab": {
          "base_uri": "https://localhost:8080/"
        },
        "outputId": "1694f2e3-90a1-4ac7-b768-438b1118c3ae"
      },
      "execution_count": 45,
      "outputs": [
        {
          "output_type": "execute_result",
          "data": {
            "text/plain": [
              "27.2"
            ]
          },
          "metadata": {},
          "execution_count": 45
        }
      ]
    }
  ]
}