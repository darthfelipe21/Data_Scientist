{
 "cells": [
  {
   "cell_type": "markdown",
   "id": "f5935ecb",
   "metadata": {},
   "source": [
    "## Clusters"
   ]
  },
  {
   "cell_type": "code",
   "execution_count": 1,
   "id": "2a252a56",
   "metadata": {},
   "outputs": [],
   "source": [
    "import pandas as pd\n",
    "import numpy as np\n",
    "import matplotlib.pyplot as plt\n",
    "import seaborn as sns\n",
    "from sklearn.cluster import KMeans\n",
    "import math\n",
    "from sklearn.preprocessing import StandardScaler\n",
    "%matplotlib inline\n",
    "import warnings\n",
    "warnings.filterwarnings('ignore')"
   ]
  },
  {
   "cell_type": "code",
   "execution_count": 2,
   "id": "7ece7019",
   "metadata": {},
   "outputs": [],
   "source": [
    "import warnings\n",
    "warnings.filterwarnings('ignore')"
   ]
  },
  {
   "cell_type": "code",
   "execution_count": 3,
   "id": "3825ea95",
   "metadata": {},
   "outputs": [
    {
     "data": {
      "text/html": [
       "<div>\n",
       "<style scoped>\n",
       "    .dataframe tbody tr th:only-of-type {\n",
       "        vertical-align: middle;\n",
       "    }\n",
       "\n",
       "    .dataframe tbody tr th {\n",
       "        vertical-align: top;\n",
       "    }\n",
       "\n",
       "    .dataframe thead th {\n",
       "        text-align: right;\n",
       "    }\n",
       "</style>\n",
       "<table border=\"1\" class=\"dataframe\">\n",
       "  <thead>\n",
       "    <tr style=\"text-align: right;\">\n",
       "      <th></th>\n",
       "      <th>id</th>\n",
       "      <th>address</th>\n",
       "      <th>city</th>\n",
       "      <th>state</th>\n",
       "      <th>zipcode</th>\n",
       "      <th>latitude</th>\n",
       "      <th>longitude</th>\n",
       "      <th>bedrooms</th>\n",
       "      <th>bathrooms</th>\n",
       "      <th>rooms</th>\n",
       "      <th>squareFootage</th>\n",
       "      <th>lotSize</th>\n",
       "      <th>yearBuilt</th>\n",
       "      <th>lastSaleDate</th>\n",
       "      <th>lastSaleAmount</th>\n",
       "      <th>priorSaleDate</th>\n",
       "      <th>priorSaleAmount</th>\n",
       "      <th>estimated_value</th>\n",
       "    </tr>\n",
       "  </thead>\n",
       "  <tbody>\n",
       "    <tr>\n",
       "      <th>0</th>\n",
       "      <td>39525749</td>\n",
       "      <td>8171 E 84th Ave</td>\n",
       "      <td>Denver</td>\n",
       "      <td>CO</td>\n",
       "      <td>80022</td>\n",
       "      <td>39.849160</td>\n",
       "      <td>-104.893468</td>\n",
       "      <td>3</td>\n",
       "      <td>2.0</td>\n",
       "      <td>6</td>\n",
       "      <td>1378</td>\n",
       "      <td>9968</td>\n",
       "      <td>2003.0</td>\n",
       "      <td>2009-12-17</td>\n",
       "      <td>75000</td>\n",
       "      <td>2004-05-13</td>\n",
       "      <td>165700.0</td>\n",
       "      <td>239753</td>\n",
       "    </tr>\n",
       "    <tr>\n",
       "      <th>1</th>\n",
       "      <td>184578398</td>\n",
       "      <td>10556 Wheeling St</td>\n",
       "      <td>Denver</td>\n",
       "      <td>CO</td>\n",
       "      <td>80022</td>\n",
       "      <td>39.888020</td>\n",
       "      <td>-104.830930</td>\n",
       "      <td>2</td>\n",
       "      <td>2.0</td>\n",
       "      <td>6</td>\n",
       "      <td>1653</td>\n",
       "      <td>6970</td>\n",
       "      <td>2004.0</td>\n",
       "      <td>2004-09-23</td>\n",
       "      <td>216935</td>\n",
       "      <td>NaN</td>\n",
       "      <td>NaN</td>\n",
       "      <td>343963</td>\n",
       "    </tr>\n",
       "    <tr>\n",
       "      <th>2</th>\n",
       "      <td>184430015</td>\n",
       "      <td>3190 Wadsworth Blvd</td>\n",
       "      <td>Denver</td>\n",
       "      <td>CO</td>\n",
       "      <td>80033</td>\n",
       "      <td>39.761710</td>\n",
       "      <td>-105.081070</td>\n",
       "      <td>3</td>\n",
       "      <td>1.0</td>\n",
       "      <td>0</td>\n",
       "      <td>1882</td>\n",
       "      <td>23875</td>\n",
       "      <td>1917.0</td>\n",
       "      <td>2008-04-03</td>\n",
       "      <td>330000</td>\n",
       "      <td>NaN</td>\n",
       "      <td>NaN</td>\n",
       "      <td>488840</td>\n",
       "    </tr>\n",
       "    <tr>\n",
       "      <th>3</th>\n",
       "      <td>155129946</td>\n",
       "      <td>3040 Wadsworth Blvd</td>\n",
       "      <td>Denver</td>\n",
       "      <td>CO</td>\n",
       "      <td>80033</td>\n",
       "      <td>39.760780</td>\n",
       "      <td>-105.081060</td>\n",
       "      <td>4</td>\n",
       "      <td>3.0</td>\n",
       "      <td>0</td>\n",
       "      <td>2400</td>\n",
       "      <td>11500</td>\n",
       "      <td>1956.0</td>\n",
       "      <td>2008-12-02</td>\n",
       "      <td>185000</td>\n",
       "      <td>2008-06-27</td>\n",
       "      <td>0.0</td>\n",
       "      <td>494073</td>\n",
       "    </tr>\n",
       "    <tr>\n",
       "      <th>4</th>\n",
       "      <td>245107</td>\n",
       "      <td>5615 S Eaton St</td>\n",
       "      <td>Denver</td>\n",
       "      <td>CO</td>\n",
       "      <td>80123</td>\n",
       "      <td>39.616181</td>\n",
       "      <td>-105.058812</td>\n",
       "      <td>3</td>\n",
       "      <td>4.0</td>\n",
       "      <td>8</td>\n",
       "      <td>2305</td>\n",
       "      <td>5600</td>\n",
       "      <td>1998.0</td>\n",
       "      <td>2012-07-18</td>\n",
       "      <td>308000</td>\n",
       "      <td>2011-12-29</td>\n",
       "      <td>0.0</td>\n",
       "      <td>513676</td>\n",
       "    </tr>\n",
       "  </tbody>\n",
       "</table>\n",
       "</div>"
      ],
      "text/plain": [
       "          id              address    city state  zipcode   latitude  \\\n",
       "0   39525749      8171 E 84th Ave  Denver    CO    80022  39.849160   \n",
       "1  184578398    10556 Wheeling St  Denver    CO    80022  39.888020   \n",
       "2  184430015  3190 Wadsworth Blvd  Denver    CO    80033  39.761710   \n",
       "3  155129946  3040 Wadsworth Blvd  Denver    CO    80033  39.760780   \n",
       "4     245107      5615 S Eaton St  Denver    CO    80123  39.616181   \n",
       "\n",
       "    longitude  bedrooms  bathrooms  rooms  squareFootage  lotSize  yearBuilt  \\\n",
       "0 -104.893468         3        2.0      6           1378     9968     2003.0   \n",
       "1 -104.830930         2        2.0      6           1653     6970     2004.0   \n",
       "2 -105.081070         3        1.0      0           1882    23875     1917.0   \n",
       "3 -105.081060         4        3.0      0           2400    11500     1956.0   \n",
       "4 -105.058812         3        4.0      8           2305     5600     1998.0   \n",
       "\n",
       "  lastSaleDate  lastSaleAmount priorSaleDate  priorSaleAmount  estimated_value  \n",
       "0   2009-12-17           75000    2004-05-13         165700.0           239753  \n",
       "1   2004-09-23          216935           NaN              NaN           343963  \n",
       "2   2008-04-03          330000           NaN              NaN           488840  \n",
       "3   2008-12-02          185000    2008-06-27              0.0           494073  \n",
       "4   2012-07-18          308000    2011-12-29              0.0           513676  "
      ]
     },
     "execution_count": 3,
     "metadata": {},
     "output_type": "execute_result"
    }
   ],
   "source": [
    "df= pd.read_csv('single_family_home_values.csv')\n",
    "df.head()"
   ]
  },
  {
   "cell_type": "code",
   "execution_count": 4,
   "id": "19a40f07",
   "metadata": {},
   "outputs": [
    {
     "name": "stdout",
     "output_type": "stream",
     "text": [
      "<class 'pandas.core.frame.DataFrame'>\n",
      "RangeIndex: 15000 entries, 0 to 14999\n",
      "Data columns (total 18 columns):\n",
      " #   Column           Non-Null Count  Dtype  \n",
      "---  ------           --------------  -----  \n",
      " 0   id               15000 non-null  int64  \n",
      " 1   address          15000 non-null  object \n",
      " 2   city             15000 non-null  object \n",
      " 3   state            15000 non-null  object \n",
      " 4   zipcode          15000 non-null  int64  \n",
      " 5   latitude         14985 non-null  float64\n",
      " 6   longitude        14985 non-null  float64\n",
      " 7   bedrooms         15000 non-null  int64  \n",
      " 8   bathrooms        15000 non-null  float64\n",
      " 9   rooms            15000 non-null  int64  \n",
      " 10  squareFootage    15000 non-null  int64  \n",
      " 11  lotSize          15000 non-null  int64  \n",
      " 12  yearBuilt        14999 non-null  float64\n",
      " 13  lastSaleDate     15000 non-null  object \n",
      " 14  lastSaleAmount   15000 non-null  int64  \n",
      " 15  priorSaleDate    11173 non-null  object \n",
      " 16  priorSaleAmount  11287 non-null  float64\n",
      " 17  estimated_value  15000 non-null  int64  \n",
      "dtypes: float64(5), int64(8), object(5)\n",
      "memory usage: 2.1+ MB\n"
     ]
    }
   ],
   "source": [
    "df.info()"
   ]
  },
  {
   "cell_type": "code",
   "execution_count": 5,
   "id": "17613859",
   "metadata": {},
   "outputs": [
    {
     "data": {
      "text/html": [
       "<div>\n",
       "<style scoped>\n",
       "    .dataframe tbody tr th:only-of-type {\n",
       "        vertical-align: middle;\n",
       "    }\n",
       "\n",
       "    .dataframe tbody tr th {\n",
       "        vertical-align: top;\n",
       "    }\n",
       "\n",
       "    .dataframe thead th {\n",
       "        text-align: right;\n",
       "    }\n",
       "</style>\n",
       "<table border=\"1\" class=\"dataframe\">\n",
       "  <thead>\n",
       "    <tr style=\"text-align: right;\">\n",
       "      <th></th>\n",
       "      <th>id</th>\n",
       "      <th>zipcode</th>\n",
       "      <th>latitude</th>\n",
       "      <th>longitude</th>\n",
       "      <th>bedrooms</th>\n",
       "      <th>bathrooms</th>\n",
       "      <th>rooms</th>\n",
       "      <th>squareFootage</th>\n",
       "      <th>lotSize</th>\n",
       "      <th>yearBuilt</th>\n",
       "      <th>lastSaleAmount</th>\n",
       "      <th>priorSaleAmount</th>\n",
       "      <th>estimated_value</th>\n",
       "    </tr>\n",
       "  </thead>\n",
       "  <tbody>\n",
       "    <tr>\n",
       "      <th>count</th>\n",
       "      <td>1.500000e+04</td>\n",
       "      <td>15000.000000</td>\n",
       "      <td>14985.000000</td>\n",
       "      <td>14985.000000</td>\n",
       "      <td>15000.000000</td>\n",
       "      <td>15000.000000</td>\n",
       "      <td>15000.000000</td>\n",
       "      <td>15000.000000</td>\n",
       "      <td>15000.00000</td>\n",
       "      <td>14999.000000</td>\n",
       "      <td>1.500000e+04</td>\n",
       "      <td>1.128700e+04</td>\n",
       "      <td>1.500000e+04</td>\n",
       "    </tr>\n",
       "    <tr>\n",
       "      <th>mean</th>\n",
       "      <td>5.176229e+07</td>\n",
       "      <td>80204.919467</td>\n",
       "      <td>39.740538</td>\n",
       "      <td>-104.964076</td>\n",
       "      <td>2.708400</td>\n",
       "      <td>2.195067</td>\n",
       "      <td>6.164133</td>\n",
       "      <td>1514.504400</td>\n",
       "      <td>5820.76620</td>\n",
       "      <td>1929.517168</td>\n",
       "      <td>4.053563e+05</td>\n",
       "      <td>2.594350e+05</td>\n",
       "      <td>6.371625e+05</td>\n",
       "    </tr>\n",
       "    <tr>\n",
       "      <th>std</th>\n",
       "      <td>6.190876e+07</td>\n",
       "      <td>9.715263</td>\n",
       "      <td>0.023555</td>\n",
       "      <td>0.039788</td>\n",
       "      <td>0.897231</td>\n",
       "      <td>1.166279</td>\n",
       "      <td>1.958601</td>\n",
       "      <td>830.635999</td>\n",
       "      <td>3013.27947</td>\n",
       "      <td>29.937051</td>\n",
       "      <td>7.756998e+05</td>\n",
       "      <td>3.379387e+05</td>\n",
       "      <td>5.044185e+05</td>\n",
       "    </tr>\n",
       "    <tr>\n",
       "      <th>min</th>\n",
       "      <td>1.433670e+05</td>\n",
       "      <td>80022.000000</td>\n",
       "      <td>39.614531</td>\n",
       "      <td>-105.108440</td>\n",
       "      <td>0.000000</td>\n",
       "      <td>0.000000</td>\n",
       "      <td>0.000000</td>\n",
       "      <td>350.000000</td>\n",
       "      <td>278.00000</td>\n",
       "      <td>1874.000000</td>\n",
       "      <td>2.590000e+02</td>\n",
       "      <td>0.000000e+00</td>\n",
       "      <td>1.477670e+05</td>\n",
       "    </tr>\n",
       "    <tr>\n",
       "      <th>25%</th>\n",
       "      <td>1.004802e+07</td>\n",
       "      <td>80205.000000</td>\n",
       "      <td>39.727634</td>\n",
       "      <td>-104.978737</td>\n",
       "      <td>2.000000</td>\n",
       "      <td>1.000000</td>\n",
       "      <td>5.000000</td>\n",
       "      <td>986.000000</td>\n",
       "      <td>4620.00000</td>\n",
       "      <td>1907.000000</td>\n",
       "      <td>1.940000e+05</td>\n",
       "      <td>1.100000e+05</td>\n",
       "      <td>3.984348e+05</td>\n",
       "    </tr>\n",
       "    <tr>\n",
       "      <th>50%</th>\n",
       "      <td>2.563241e+07</td>\n",
       "      <td>80206.000000</td>\n",
       "      <td>39.748048</td>\n",
       "      <td>-104.957689</td>\n",
       "      <td>3.000000</td>\n",
       "      <td>2.000000</td>\n",
       "      <td>6.000000</td>\n",
       "      <td>1267.500000</td>\n",
       "      <td>5950.00000</td>\n",
       "      <td>1925.000000</td>\n",
       "      <td>3.200000e+05</td>\n",
       "      <td>2.100000e+05</td>\n",
       "      <td>5.183575e+05</td>\n",
       "    </tr>\n",
       "    <tr>\n",
       "      <th>75%</th>\n",
       "      <td>5.114222e+07</td>\n",
       "      <td>80207.000000</td>\n",
       "      <td>39.758214</td>\n",
       "      <td>-104.937522</td>\n",
       "      <td>3.000000</td>\n",
       "      <td>3.000000</td>\n",
       "      <td>7.000000</td>\n",
       "      <td>1766.250000</td>\n",
       "      <td>6270.00000</td>\n",
       "      <td>1949.000000</td>\n",
       "      <td>4.632000e+05</td>\n",
       "      <td>3.302400e+05</td>\n",
       "      <td>6.879692e+05</td>\n",
       "    </tr>\n",
       "    <tr>\n",
       "      <th>max</th>\n",
       "      <td>3.209481e+08</td>\n",
       "      <td>80209.000000</td>\n",
       "      <td>39.888020</td>\n",
       "      <td>-104.830930</td>\n",
       "      <td>15.000000</td>\n",
       "      <td>12.000000</td>\n",
       "      <td>39.000000</td>\n",
       "      <td>10907.000000</td>\n",
       "      <td>122839.00000</td>\n",
       "      <td>2016.000000</td>\n",
       "      <td>4.560000e+07</td>\n",
       "      <td>1.600000e+07</td>\n",
       "      <td>1.014531e+07</td>\n",
       "    </tr>\n",
       "  </tbody>\n",
       "</table>\n",
       "</div>"
      ],
      "text/plain": [
       "                 id       zipcode      latitude     longitude      bedrooms  \\\n",
       "count  1.500000e+04  15000.000000  14985.000000  14985.000000  15000.000000   \n",
       "mean   5.176229e+07  80204.919467     39.740538   -104.964076      2.708400   \n",
       "std    6.190876e+07      9.715263      0.023555      0.039788      0.897231   \n",
       "min    1.433670e+05  80022.000000     39.614531   -105.108440      0.000000   \n",
       "25%    1.004802e+07  80205.000000     39.727634   -104.978737      2.000000   \n",
       "50%    2.563241e+07  80206.000000     39.748048   -104.957689      3.000000   \n",
       "75%    5.114222e+07  80207.000000     39.758214   -104.937522      3.000000   \n",
       "max    3.209481e+08  80209.000000     39.888020   -104.830930     15.000000   \n",
       "\n",
       "          bathrooms         rooms  squareFootage       lotSize     yearBuilt  \\\n",
       "count  15000.000000  15000.000000   15000.000000   15000.00000  14999.000000   \n",
       "mean       2.195067      6.164133    1514.504400    5820.76620   1929.517168   \n",
       "std        1.166279      1.958601     830.635999    3013.27947     29.937051   \n",
       "min        0.000000      0.000000     350.000000     278.00000   1874.000000   \n",
       "25%        1.000000      5.000000     986.000000    4620.00000   1907.000000   \n",
       "50%        2.000000      6.000000    1267.500000    5950.00000   1925.000000   \n",
       "75%        3.000000      7.000000    1766.250000    6270.00000   1949.000000   \n",
       "max       12.000000     39.000000   10907.000000  122839.00000   2016.000000   \n",
       "\n",
       "       lastSaleAmount  priorSaleAmount  estimated_value  \n",
       "count    1.500000e+04     1.128700e+04     1.500000e+04  \n",
       "mean     4.053563e+05     2.594350e+05     6.371625e+05  \n",
       "std      7.756998e+05     3.379387e+05     5.044185e+05  \n",
       "min      2.590000e+02     0.000000e+00     1.477670e+05  \n",
       "25%      1.940000e+05     1.100000e+05     3.984348e+05  \n",
       "50%      3.200000e+05     2.100000e+05     5.183575e+05  \n",
       "75%      4.632000e+05     3.302400e+05     6.879692e+05  \n",
       "max      4.560000e+07     1.600000e+07     1.014531e+07  "
      ]
     },
     "execution_count": 5,
     "metadata": {},
     "output_type": "execute_result"
    }
   ],
   "source": [
    "df.describe()"
   ]
  },
  {
   "cell_type": "code",
   "execution_count": 6,
   "id": "05427ba3",
   "metadata": {},
   "outputs": [],
   "source": [
    "df2= df[['bedrooms', 'bathrooms', 'rooms', 'squareFootage', 'lotSize', 'yearBuilt', 'priorSaleAmount']]\n",
    "df3= df[['bedrooms', 'bathrooms', 'rooms', 'squareFootage', 'lotSize', 'yearBuilt', 'priorSaleAmount']]"
   ]
  },
  {
   "cell_type": "code",
   "execution_count": 7,
   "id": "c77a211c",
   "metadata": {},
   "outputs": [
    {
     "data": {
      "text/html": [
       "<div>\n",
       "<style scoped>\n",
       "    .dataframe tbody tr th:only-of-type {\n",
       "        vertical-align: middle;\n",
       "    }\n",
       "\n",
       "    .dataframe tbody tr th {\n",
       "        vertical-align: top;\n",
       "    }\n",
       "\n",
       "    .dataframe thead th {\n",
       "        text-align: right;\n",
       "    }\n",
       "</style>\n",
       "<table border=\"1\" class=\"dataframe\">\n",
       "  <thead>\n",
       "    <tr style=\"text-align: right;\">\n",
       "      <th></th>\n",
       "      <th>bedrooms</th>\n",
       "      <th>bathrooms</th>\n",
       "      <th>rooms</th>\n",
       "      <th>squareFootage</th>\n",
       "      <th>lotSize</th>\n",
       "      <th>yearBuilt</th>\n",
       "      <th>priorSaleAmount</th>\n",
       "    </tr>\n",
       "  </thead>\n",
       "  <tbody>\n",
       "    <tr>\n",
       "      <th>0</th>\n",
       "      <td>3</td>\n",
       "      <td>2.0</td>\n",
       "      <td>6</td>\n",
       "      <td>1378</td>\n",
       "      <td>9968</td>\n",
       "      <td>2003.0</td>\n",
       "      <td>165700.0</td>\n",
       "    </tr>\n",
       "    <tr>\n",
       "      <th>1</th>\n",
       "      <td>2</td>\n",
       "      <td>2.0</td>\n",
       "      <td>6</td>\n",
       "      <td>1653</td>\n",
       "      <td>6970</td>\n",
       "      <td>2004.0</td>\n",
       "      <td>NaN</td>\n",
       "    </tr>\n",
       "    <tr>\n",
       "      <th>2</th>\n",
       "      <td>3</td>\n",
       "      <td>1.0</td>\n",
       "      <td>0</td>\n",
       "      <td>1882</td>\n",
       "      <td>23875</td>\n",
       "      <td>1917.0</td>\n",
       "      <td>NaN</td>\n",
       "    </tr>\n",
       "    <tr>\n",
       "      <th>3</th>\n",
       "      <td>4</td>\n",
       "      <td>3.0</td>\n",
       "      <td>0</td>\n",
       "      <td>2400</td>\n",
       "      <td>11500</td>\n",
       "      <td>1956.0</td>\n",
       "      <td>0.0</td>\n",
       "    </tr>\n",
       "    <tr>\n",
       "      <th>4</th>\n",
       "      <td>3</td>\n",
       "      <td>4.0</td>\n",
       "      <td>8</td>\n",
       "      <td>2305</td>\n",
       "      <td>5600</td>\n",
       "      <td>1998.0</td>\n",
       "      <td>0.0</td>\n",
       "    </tr>\n",
       "  </tbody>\n",
       "</table>\n",
       "</div>"
      ],
      "text/plain": [
       "   bedrooms  bathrooms  rooms  squareFootage  lotSize  yearBuilt  \\\n",
       "0         3        2.0      6           1378     9968     2003.0   \n",
       "1         2        2.0      6           1653     6970     2004.0   \n",
       "2         3        1.0      0           1882    23875     1917.0   \n",
       "3         4        3.0      0           2400    11500     1956.0   \n",
       "4         3        4.0      8           2305     5600     1998.0   \n",
       "\n",
       "   priorSaleAmount  \n",
       "0         165700.0  \n",
       "1              NaN  \n",
       "2              NaN  \n",
       "3              0.0  \n",
       "4              0.0  "
      ]
     },
     "execution_count": 7,
     "metadata": {},
     "output_type": "execute_result"
    }
   ],
   "source": [
    "df2.head()"
   ]
  },
  {
   "cell_type": "code",
   "execution_count": 8,
   "id": "af45e691",
   "metadata": {},
   "outputs": [],
   "source": [
    "df2.fillna(0, inplace=True)\n",
    "df3.fillna(0, inplace=True)"
   ]
  },
  {
   "cell_type": "code",
   "execution_count": 9,
   "id": "99746492",
   "metadata": {},
   "outputs": [
    {
     "name": "stdout",
     "output_type": "stream",
     "text": [
      "<class 'pandas.core.frame.DataFrame'>\n",
      "RangeIndex: 15000 entries, 0 to 14999\n",
      "Data columns (total 7 columns):\n",
      " #   Column           Non-Null Count  Dtype  \n",
      "---  ------           --------------  -----  \n",
      " 0   bedrooms         15000 non-null  int64  \n",
      " 1   bathrooms        15000 non-null  float64\n",
      " 2   rooms            15000 non-null  int64  \n",
      " 3   squareFootage    15000 non-null  int64  \n",
      " 4   lotSize          15000 non-null  int64  \n",
      " 5   yearBuilt        15000 non-null  float64\n",
      " 6   priorSaleAmount  15000 non-null  float64\n",
      "dtypes: float64(3), int64(4)\n",
      "memory usage: 820.4 KB\n"
     ]
    }
   ],
   "source": [
    "df2.info()"
   ]
  },
  {
   "cell_type": "code",
   "execution_count": 10,
   "id": "f2b378fb",
   "metadata": {},
   "outputs": [],
   "source": [
    "kmeans= KMeans(n_clusters= 5, random_state= 42)\n",
    "kmeans.fit(df2)\n",
    "labels= kmeans.labels_"
   ]
  },
  {
   "cell_type": "code",
   "execution_count": 11,
   "id": "6bf7dd80",
   "metadata": {},
   "outputs": [
    {
     "data": {
      "text/plain": [
       "array([[2.64373588e+00, 1.93760984e+00, 5.86806427e+00, 1.39591150e+03,\n",
       "        5.94720500e+03, 1.93061122e+03, 3.78418574e+04],\n",
       "       [3.29567308e+00, 3.77884615e+00, 8.35817308e+00, 2.64782572e+03,\n",
       "        6.87523798e+03, 1.94106130e+03, 7.28504756e+05],\n",
       "       [3.00000000e+00, 4.50000000e+00, 9.00000000e+00, 3.74800000e+03,\n",
       "        8.59750000e+03, 1.99800000e+03, 1.37500550e+07],\n",
       "       [2.69675623e+00, 2.26032110e+00, 6.18299476e+00, 1.46704817e+03,\n",
       "        5.39934371e+03, 1.92557176e+03, 2.89554681e+05],\n",
       "       [3.71875000e+00, 5.63541667e+00, 1.04583333e+01, 4.50402083e+03,\n",
       "        1.29278229e+04, 1.96802083e+03, 2.35142638e+06]])"
      ]
     },
     "execution_count": 11,
     "metadata": {},
     "output_type": "execute_result"
    }
   ],
   "source": [
    "# Centroides por cada columna\n",
    "kmeans.cluster_centers_"
   ]
  },
  {
   "cell_type": "code",
   "execution_count": 12,
   "id": "e8dbfe55",
   "metadata": {},
   "outputs": [
    {
     "data": {
      "text/html": [
       "<div>\n",
       "<style scoped>\n",
       "    .dataframe tbody tr th:only-of-type {\n",
       "        vertical-align: middle;\n",
       "    }\n",
       "\n",
       "    .dataframe tbody tr th {\n",
       "        vertical-align: top;\n",
       "    }\n",
       "\n",
       "    .dataframe thead th {\n",
       "        text-align: right;\n",
       "    }\n",
       "</style>\n",
       "<table border=\"1\" class=\"dataframe\">\n",
       "  <thead>\n",
       "    <tr style=\"text-align: right;\">\n",
       "      <th></th>\n",
       "      <th>bedrooms</th>\n",
       "      <th>bathrooms</th>\n",
       "      <th>rooms</th>\n",
       "      <th>squareFootage</th>\n",
       "      <th>lotSize</th>\n",
       "      <th>yearBuilt</th>\n",
       "      <th>priorSaleAmount</th>\n",
       "      <th>clusters</th>\n",
       "    </tr>\n",
       "  </thead>\n",
       "  <tbody>\n",
       "    <tr>\n",
       "      <th>0</th>\n",
       "      <td>3</td>\n",
       "      <td>2.0</td>\n",
       "      <td>6</td>\n",
       "      <td>1378</td>\n",
       "      <td>9968</td>\n",
       "      <td>2003.0</td>\n",
       "      <td>165700.0</td>\n",
       "      <td>3</td>\n",
       "    </tr>\n",
       "    <tr>\n",
       "      <th>1</th>\n",
       "      <td>2</td>\n",
       "      <td>2.0</td>\n",
       "      <td>6</td>\n",
       "      <td>1653</td>\n",
       "      <td>6970</td>\n",
       "      <td>2004.0</td>\n",
       "      <td>0.0</td>\n",
       "      <td>0</td>\n",
       "    </tr>\n",
       "    <tr>\n",
       "      <th>2</th>\n",
       "      <td>3</td>\n",
       "      <td>1.0</td>\n",
       "      <td>0</td>\n",
       "      <td>1882</td>\n",
       "      <td>23875</td>\n",
       "      <td>1917.0</td>\n",
       "      <td>0.0</td>\n",
       "      <td>0</td>\n",
       "    </tr>\n",
       "    <tr>\n",
       "      <th>3</th>\n",
       "      <td>4</td>\n",
       "      <td>3.0</td>\n",
       "      <td>0</td>\n",
       "      <td>2400</td>\n",
       "      <td>11500</td>\n",
       "      <td>1956.0</td>\n",
       "      <td>0.0</td>\n",
       "      <td>0</td>\n",
       "    </tr>\n",
       "    <tr>\n",
       "      <th>4</th>\n",
       "      <td>3</td>\n",
       "      <td>4.0</td>\n",
       "      <td>8</td>\n",
       "      <td>2305</td>\n",
       "      <td>5600</td>\n",
       "      <td>1998.0</td>\n",
       "      <td>0.0</td>\n",
       "      <td>0</td>\n",
       "    </tr>\n",
       "  </tbody>\n",
       "</table>\n",
       "</div>"
      ],
      "text/plain": [
       "   bedrooms  bathrooms  rooms  squareFootage  lotSize  yearBuilt  \\\n",
       "0         3        2.0      6           1378     9968     2003.0   \n",
       "1         2        2.0      6           1653     6970     2004.0   \n",
       "2         3        1.0      0           1882    23875     1917.0   \n",
       "3         4        3.0      0           2400    11500     1956.0   \n",
       "4         3        4.0      8           2305     5600     1998.0   \n",
       "\n",
       "   priorSaleAmount  clusters  \n",
       "0         165700.0         3  \n",
       "1              0.0         0  \n",
       "2              0.0         0  \n",
       "3              0.0         0  \n",
       "4              0.0         0  "
      ]
     },
     "execution_count": 12,
     "metadata": {},
     "output_type": "execute_result"
    }
   ],
   "source": [
    "# Incorporar los cluster al Data Frame\n",
    "df2['clusters']= labels\n",
    "df2.head()"
   ]
  },
  {
   "cell_type": "code",
   "execution_count": 13,
   "id": "dd42b6ed",
   "metadata": {},
   "outputs": [
    {
     "data": {
      "text/html": [
       "<div>\n",
       "<style scoped>\n",
       "    .dataframe tbody tr th:only-of-type {\n",
       "        vertical-align: middle;\n",
       "    }\n",
       "\n",
       "    .dataframe tbody tr th {\n",
       "        vertical-align: top;\n",
       "    }\n",
       "\n",
       "    .dataframe thead th {\n",
       "        text-align: right;\n",
       "    }\n",
       "</style>\n",
       "<table border=\"1\" class=\"dataframe\">\n",
       "  <thead>\n",
       "    <tr style=\"text-align: right;\">\n",
       "      <th></th>\n",
       "      <th>bedrooms</th>\n",
       "      <th>bathrooms</th>\n",
       "      <th>rooms</th>\n",
       "      <th>squareFootage</th>\n",
       "      <th>lotSize</th>\n",
       "      <th>yearBuilt</th>\n",
       "      <th>priorSaleAmount</th>\n",
       "    </tr>\n",
       "    <tr>\n",
       "      <th>clusters</th>\n",
       "      <th></th>\n",
       "      <th></th>\n",
       "      <th></th>\n",
       "      <th></th>\n",
       "      <th></th>\n",
       "      <th></th>\n",
       "      <th></th>\n",
       "    </tr>\n",
       "  </thead>\n",
       "  <tbody>\n",
       "    <tr>\n",
       "      <th>0</th>\n",
       "      <td>2.643736</td>\n",
       "      <td>1.937610</td>\n",
       "      <td>5.868064</td>\n",
       "      <td>1395.911499</td>\n",
       "      <td>5947.204996</td>\n",
       "      <td>1930.611223</td>\n",
       "      <td>3.784186e+04</td>\n",
       "    </tr>\n",
       "    <tr>\n",
       "      <th>1</th>\n",
       "      <td>3.297590</td>\n",
       "      <td>3.781928</td>\n",
       "      <td>8.361446</td>\n",
       "      <td>2650.091566</td>\n",
       "      <td>6877.125301</td>\n",
       "      <td>1941.112048</td>\n",
       "      <td>7.290337e+05</td>\n",
       "    </tr>\n",
       "    <tr>\n",
       "      <th>2</th>\n",
       "      <td>3.000000</td>\n",
       "      <td>4.500000</td>\n",
       "      <td>9.000000</td>\n",
       "      <td>3748.000000</td>\n",
       "      <td>8597.500000</td>\n",
       "      <td>1998.000000</td>\n",
       "      <td>1.375006e+07</td>\n",
       "    </tr>\n",
       "    <tr>\n",
       "      <th>3</th>\n",
       "      <td>2.696692</td>\n",
       "      <td>2.260400</td>\n",
       "      <td>6.183262</td>\n",
       "      <td>1467.126924</td>\n",
       "      <td>5399.570586</td>\n",
       "      <td>1925.569931</td>\n",
       "      <td>2.896266e+05</td>\n",
       "    </tr>\n",
       "    <tr>\n",
       "      <th>4</th>\n",
       "      <td>3.718750</td>\n",
       "      <td>5.635417</td>\n",
       "      <td>10.458333</td>\n",
       "      <td>4504.020833</td>\n",
       "      <td>12927.822917</td>\n",
       "      <td>1968.020833</td>\n",
       "      <td>2.351426e+06</td>\n",
       "    </tr>\n",
       "  </tbody>\n",
       "</table>\n",
       "</div>"
      ],
      "text/plain": [
       "          bedrooms  bathrooms      rooms  squareFootage       lotSize  \\\n",
       "clusters                                                                \n",
       "0         2.643736   1.937610   5.868064    1395.911499   5947.204996   \n",
       "1         3.297590   3.781928   8.361446    2650.091566   6877.125301   \n",
       "2         3.000000   4.500000   9.000000    3748.000000   8597.500000   \n",
       "3         2.696692   2.260400   6.183262    1467.126924   5399.570586   \n",
       "4         3.718750   5.635417  10.458333    4504.020833  12927.822917   \n",
       "\n",
       "            yearBuilt  priorSaleAmount  \n",
       "clusters                                \n",
       "0         1930.611223     3.784186e+04  \n",
       "1         1941.112048     7.290337e+05  \n",
       "2         1998.000000     1.375006e+07  \n",
       "3         1925.569931     2.896266e+05  \n",
       "4         1968.020833     2.351426e+06  "
      ]
     },
     "execution_count": 13,
     "metadata": {},
     "output_type": "execute_result"
    }
   ],
   "source": [
    "df2.groupby('clusters').mean()  # Se puede verificar la comparación de los centroides con esta consulta"
   ]
  },
  {
   "cell_type": "code",
   "execution_count": 14,
   "id": "e2d00929",
   "metadata": {},
   "outputs": [],
   "source": [
    "from sklearn.metrics import silhouette_score"
   ]
  },
  {
   "cell_type": "markdown",
   "id": "9f652aed",
   "metadata": {},
   "source": [
    "El silhouette score proporciona una medida para la calidad de los clusters formados. \n",
    "Un alto valor de silueta indica que el objeto está bien situado en su cluster y, por lo tanto, \n",
    "el clustering es apropiado. Esta métrica es útil cuando se necesita determinar el número \n",
    "óptimo de clusters para un conjunto de datos o para comparar diferentes algoritmos de clustering. \n",
    "Un conjunto de datos con un alto silhouette score tiene clusters claramente definidos y bien separados."
   ]
  },
  {
   "cell_type": "code",
   "execution_count": 15,
   "id": "c2cf707c",
   "metadata": {},
   "outputs": [
    {
     "name": "stdout",
     "output_type": "stream",
     "text": [
      "Número de clusters: 3 Puntuación de la silueta: 0.6145730276990463\n",
      "Número de clusters: 4 Puntuación de la silueta: 0.6167009931907006\n",
      "Número de clusters: 5 Puntuación de la silueta: 0.6335733333779898\n",
      "Número de clusters: 6 Puntuación de la silueta: 0.6446120181544541\n",
      "Número de clusters: 7 Puntuación de la silueta: 0.6576023767617936\n",
      "Número de clusters: 8 Puntuación de la silueta: 0.6609859463366399\n",
      "Número de clusters: 9 Puntuación de la silueta: 0.6569891108825006\n"
     ]
    }
   ],
   "source": [
    "for i in range(3, 10):\n",
    "    kmeans = KMeans(n_clusters=i)\n",
    "    labels = kmeans.fit_predict(df3)  # Asegúrate de usar fit_predict en lugar de solo fit\n",
    "    print(\"Número de clusters:\", i, \"Puntuación de la silueta:\", silhouette_score(df3, labels))"
   ]
  },
  {
   "cell_type": "markdown",
   "id": "ecc8e095",
   "metadata": {},
   "source": [
    "#### 8 sería un número óptimo de clusters, ya que te tiene la puntación más alta"
   ]
  },
  {
   "cell_type": "markdown",
   "id": "22cbe316",
   "metadata": {},
   "source": [
    "## Classification and Regression"
   ]
  },
  {
   "cell_type": "code",
   "execution_count": 16,
   "id": "3e75ee1d",
   "metadata": {},
   "outputs": [],
   "source": [
    "from sklearn.linear_model import LinearRegression, LogisticRegression\n",
    "from sklearn.svm import SVC, SVR\n",
    "from sklearn.neighbors import KNeighborsClassifier, KNeighborsRegressor\n",
    "from sklearn.model_selection import train_test_split\n",
    "from sklearn.metrics import confusion_matrix"
   ]
  },
  {
   "cell_type": "code",
   "execution_count": 17,
   "id": "c39339a9",
   "metadata": {},
   "outputs": [],
   "source": [
    "X= df2.drop('clusters', axis=1)\n",
    "y= df.estimated_value"
   ]
  },
  {
   "cell_type": "code",
   "execution_count": 18,
   "id": "6b3e6a96",
   "metadata": {},
   "outputs": [],
   "source": [
    "X_train, X_test, y_train, y_test= train_test_split(X, y)"
   ]
  },
  {
   "cell_type": "code",
   "execution_count": 19,
   "id": "9843c137",
   "metadata": {},
   "outputs": [
    {
     "name": "stdout",
     "output_type": "stream",
     "text": [
      "<class 'pandas.core.frame.DataFrame'>\n",
      "RangeIndex: 15000 entries, 0 to 14999\n",
      "Data columns (total 7 columns):\n",
      " #   Column           Non-Null Count  Dtype  \n",
      "---  ------           --------------  -----  \n",
      " 0   bedrooms         15000 non-null  int64  \n",
      " 1   bathrooms        15000 non-null  float64\n",
      " 2   rooms            15000 non-null  int64  \n",
      " 3   squareFootage    15000 non-null  int64  \n",
      " 4   lotSize          15000 non-null  int64  \n",
      " 5   yearBuilt        15000 non-null  float64\n",
      " 6   priorSaleAmount  15000 non-null  float64\n",
      "dtypes: float64(3), int64(4)\n",
      "memory usage: 820.4 KB\n"
     ]
    }
   ],
   "source": [
    "X.info()"
   ]
  },
  {
   "cell_type": "code",
   "execution_count": 20,
   "id": "b03ccbd2",
   "metadata": {},
   "outputs": [
    {
     "name": "stdout",
     "output_type": "stream",
     "text": [
      "<class 'pandas.core.series.Series'>\n",
      "RangeIndex: 15000 entries, 0 to 14999\n",
      "Series name: estimated_value\n",
      "Non-Null Count  Dtype\n",
      "--------------  -----\n",
      "15000 non-null  int64\n",
      "dtypes: int64(1)\n",
      "memory usage: 117.3 KB\n"
     ]
    }
   ],
   "source": [
    "y.info()"
   ]
  },
  {
   "cell_type": "code",
   "execution_count": 21,
   "id": "07640e09",
   "metadata": {},
   "outputs": [
    {
     "data": {
      "text/plain": [
       "0.7648477834199695"
      ]
     },
     "execution_count": 21,
     "metadata": {},
     "output_type": "execute_result"
    }
   ],
   "source": [
    "lr= LinearRegression()\n",
    "lr.fit(X,y)\n",
    "lr.score(X,y)"
   ]
  },
  {
   "cell_type": "code",
   "execution_count": 22,
   "id": "585d393b",
   "metadata": {},
   "outputs": [
    {
     "name": "stdout",
     "output_type": "stream",
     "text": [
      "<class 'pandas.core.frame.DataFrame'>\n",
      "Int64Index: 11250 entries, 333 to 12674\n",
      "Data columns (total 7 columns):\n",
      " #   Column           Non-Null Count  Dtype  \n",
      "---  ------           --------------  -----  \n",
      " 0   bedrooms         11250 non-null  int64  \n",
      " 1   bathrooms        11250 non-null  float64\n",
      " 2   rooms            11250 non-null  int64  \n",
      " 3   squareFootage    11250 non-null  int64  \n",
      " 4   lotSize          11250 non-null  int64  \n",
      " 5   yearBuilt        11250 non-null  float64\n",
      " 6   priorSaleAmount  11250 non-null  float64\n",
      "dtypes: float64(3), int64(4)\n",
      "memory usage: 703.1 KB\n"
     ]
    }
   ],
   "source": [
    "X_train.info()"
   ]
  },
  {
   "cell_type": "code",
   "execution_count": 23,
   "id": "068e4b1d",
   "metadata": {},
   "outputs": [
    {
     "data": {
      "text/plain": [
       "0.7761183857211689"
      ]
     },
     "execution_count": 23,
     "metadata": {},
     "output_type": "execute_result"
    }
   ],
   "source": [
    "lr_1= LinearRegression()\n",
    "lr_1.fit(X_train, y_train)\n",
    "lr_1.score(X_test, y_test)"
   ]
  },
  {
   "cell_type": "code",
   "execution_count": 24,
   "id": "0e8f47f3",
   "metadata": {},
   "outputs": [],
   "source": [
    "df['estimated_value_bins']= df['estimated_value'].apply(lambda x: 'high' if x> 500000 else 'low')"
   ]
  },
  {
   "cell_type": "code",
   "execution_count": 25,
   "id": "5fa02c92",
   "metadata": {},
   "outputs": [
    {
     "data": {
      "text/plain": [
       "high    7963\n",
       "low     7037\n",
       "Name: estimated_value_bins, dtype: int64"
      ]
     },
     "execution_count": 25,
     "metadata": {},
     "output_type": "execute_result"
    }
   ],
   "source": [
    "df['estimated_value_bins'].value_counts()"
   ]
  },
  {
   "cell_type": "code",
   "execution_count": 26,
   "id": "82bee7f9",
   "metadata": {},
   "outputs": [],
   "source": [
    "y2= df['estimated_value_bins']"
   ]
  },
  {
   "cell_type": "code",
   "execution_count": 27,
   "id": "9c926dce",
   "metadata": {},
   "outputs": [],
   "source": [
    "X_train, X_test, y2_train, y2_test= train_test_split(X, y2)"
   ]
  },
  {
   "cell_type": "code",
   "execution_count": 28,
   "id": "8639e4f2",
   "metadata": {},
   "outputs": [
    {
     "data": {
      "text/plain": [
       "0.8213333333333334"
      ]
     },
     "execution_count": 28,
     "metadata": {},
     "output_type": "execute_result"
    }
   ],
   "source": [
    "log= LogisticRegression()\n",
    "log.fit(X_train, y2_train)\n",
    "log.score(X_test, y2_test)"
   ]
  },
  {
   "cell_type": "code",
   "execution_count": 29,
   "id": "ae5ebec6",
   "metadata": {},
   "outputs": [],
   "source": [
    "y_pred= log.predict(X_test)"
   ]
  },
  {
   "cell_type": "code",
   "execution_count": 30,
   "id": "2e58d96b",
   "metadata": {},
   "outputs": [
    {
     "data": {
      "text/plain": [
       "array([[1602,  359],\n",
       "       [ 311, 1478]])"
      ]
     },
     "execution_count": 30,
     "metadata": {},
     "output_type": "execute_result"
    }
   ],
   "source": [
    "confusion_matrix(y2_test, y_pred)"
   ]
  },
  {
   "cell_type": "code",
   "execution_count": 31,
   "id": "97a12317",
   "metadata": {},
   "outputs": [
    {
     "data": {
      "text/plain": [
       "-0.06392932427466347"
      ]
     },
     "execution_count": 31,
     "metadata": {},
     "output_type": "execute_result"
    }
   ],
   "source": [
    "svr= SVR()\n",
    "svr.fit(X_train, y_train)\n",
    "svr.score(X_test, y_test)"
   ]
  },
  {
   "cell_type": "code",
   "execution_count": 32,
   "id": "32cf58e8",
   "metadata": {},
   "outputs": [
    {
     "data": {
      "text/plain": [
       "0.7114666666666667"
      ]
     },
     "execution_count": 32,
     "metadata": {},
     "output_type": "execute_result"
    }
   ],
   "source": [
    "svc= SVC()\n",
    "svc.fit(X_train, y2_train)\n",
    "svc.score(X_test, y2_test)"
   ]
  },
  {
   "cell_type": "code",
   "execution_count": 33,
   "id": "394add27",
   "metadata": {},
   "outputs": [],
   "source": [
    "y2_pred= svc.predict(X_test)"
   ]
  },
  {
   "cell_type": "code",
   "execution_count": 34,
   "id": "caa37082",
   "metadata": {},
   "outputs": [
    {
     "data": {
      "text/plain": [
       "array([[1031,  930],\n",
       "       [ 152, 1637]])"
      ]
     },
     "execution_count": 34,
     "metadata": {},
     "output_type": "execute_result"
    }
   ],
   "source": [
    "confusion_matrix(y2_test, y2_pred)"
   ]
  },
  {
   "cell_type": "code",
   "execution_count": 35,
   "id": "8bec8881",
   "metadata": {},
   "outputs": [],
   "source": [
    "knnr= KNeighborsRegressor()"
   ]
  },
  {
   "cell_type": "code",
   "execution_count": 36,
   "id": "f134e993",
   "metadata": {},
   "outputs": [
    {
     "data": {
      "text/plain": [
       "-0.11405194053972267"
      ]
     },
     "execution_count": 36,
     "metadata": {},
     "output_type": "execute_result"
    }
   ],
   "source": [
    "knnr.fit(X_train, y_train)\n",
    "knnr.score(X_test, y_test)"
   ]
  },
  {
   "cell_type": "code",
   "execution_count": 37,
   "id": "6e0636ba",
   "metadata": {},
   "outputs": [
    {
     "data": {
      "text/plain": [
       "0.8237333333333333"
      ]
     },
     "execution_count": 37,
     "metadata": {},
     "output_type": "execute_result"
    }
   ],
   "source": [
    "knnc= KNeighborsClassifier()\n",
    "knnc.fit(X_train, y2_train)\n",
    "knnc.score(X_test, y2_test)"
   ]
  },
  {
   "cell_type": "code",
   "execution_count": 38,
   "id": "03c58667",
   "metadata": {},
   "outputs": [],
   "source": [
    "y2_pred= knnc.predict(X_test)"
   ]
  },
  {
   "cell_type": "code",
   "execution_count": 39,
   "id": "a30f8869",
   "metadata": {},
   "outputs": [
    {
     "data": {
      "text/plain": [
       "array([[1624,  337],\n",
       "       [ 324, 1465]])"
      ]
     },
     "execution_count": 39,
     "metadata": {},
     "output_type": "execute_result"
    }
   ],
   "source": [
    "confusion_matrix(y2_test, y2_pred)"
   ]
  },
  {
   "cell_type": "markdown",
   "id": "46067d88",
   "metadata": {},
   "source": [
    "El **Mahalanobis** Rule (Regla de Mahalanobis) se utiliza en el contexto del análisis estadístico para identificar valores atípicos (outliers) en un conjunto de datos multivariado. La regla establece que si la distancia de Mahalanobis de un punto es mayor que un cierto umbral, entonces ese punto se considera un valor atípico. El umbral se determina a menudo utilizando una distribución chi-cuadrado, y los puntos que caen fuera de este umbral se consideran atípicos."
   ]
  },
  {
   "cell_type": "markdown",
   "id": "a8dfa184",
   "metadata": {},
   "source": [
    "## Association and Correlation"
   ]
  },
  {
   "cell_type": "code",
   "execution_count": 40,
   "id": "a1d98141",
   "metadata": {},
   "outputs": [
    {
     "data": {
      "text/html": [
       "<div>\n",
       "<style scoped>\n",
       "    .dataframe tbody tr th:only-of-type {\n",
       "        vertical-align: middle;\n",
       "    }\n",
       "\n",
       "    .dataframe tbody tr th {\n",
       "        vertical-align: top;\n",
       "    }\n",
       "\n",
       "    .dataframe thead th {\n",
       "        text-align: right;\n",
       "    }\n",
       "</style>\n",
       "<table border=\"1\" class=\"dataframe\">\n",
       "  <thead>\n",
       "    <tr style=\"text-align: right;\">\n",
       "      <th></th>\n",
       "      <th>id</th>\n",
       "      <th>zipcode</th>\n",
       "      <th>latitude</th>\n",
       "      <th>longitude</th>\n",
       "      <th>bedrooms</th>\n",
       "      <th>bathrooms</th>\n",
       "      <th>rooms</th>\n",
       "      <th>squareFootage</th>\n",
       "      <th>lotSize</th>\n",
       "      <th>yearBuilt</th>\n",
       "      <th>lastSaleAmount</th>\n",
       "      <th>priorSaleAmount</th>\n",
       "      <th>estimated_value</th>\n",
       "    </tr>\n",
       "  </thead>\n",
       "  <tbody>\n",
       "    <tr>\n",
       "      <th>id</th>\n",
       "      <td>1.000000</td>\n",
       "      <td>-0.007972</td>\n",
       "      <td>-0.092638</td>\n",
       "      <td>0.039591</td>\n",
       "      <td>0.076366</td>\n",
       "      <td>0.128491</td>\n",
       "      <td>0.094063</td>\n",
       "      <td>0.143069</td>\n",
       "      <td>0.045336</td>\n",
       "      <td>0.041342</td>\n",
       "      <td>0.069275</td>\n",
       "      <td>0.012363</td>\n",
       "      <td>0.126193</td>\n",
       "    </tr>\n",
       "    <tr>\n",
       "      <th>zipcode</th>\n",
       "      <td>-0.007972</td>\n",
       "      <td>1.000000</td>\n",
       "      <td>0.461953</td>\n",
       "      <td>0.394500</td>\n",
       "      <td>-0.018420</td>\n",
       "      <td>-0.007543</td>\n",
       "      <td>0.031346</td>\n",
       "      <td>0.000812</td>\n",
       "      <td>-0.037696</td>\n",
       "      <td>-0.174142</td>\n",
       "      <td>0.032898</td>\n",
       "      <td>0.033123</td>\n",
       "      <td>0.089104</td>\n",
       "    </tr>\n",
       "    <tr>\n",
       "      <th>latitude</th>\n",
       "      <td>-0.092638</td>\n",
       "      <td>0.461953</td>\n",
       "      <td>1.000000</td>\n",
       "      <td>0.499432</td>\n",
       "      <td>-0.083083</td>\n",
       "      <td>-0.237716</td>\n",
       "      <td>-0.213634</td>\n",
       "      <td>-0.256475</td>\n",
       "      <td>-0.092881</td>\n",
       "      <td>-0.105518</td>\n",
       "      <td>-0.126800</td>\n",
       "      <td>-0.225513</td>\n",
       "      <td>-0.266116</td>\n",
       "    </tr>\n",
       "    <tr>\n",
       "      <th>longitude</th>\n",
       "      <td>0.039591</td>\n",
       "      <td>0.394500</td>\n",
       "      <td>0.499432</td>\n",
       "      <td>1.000000</td>\n",
       "      <td>0.022375</td>\n",
       "      <td>0.107666</td>\n",
       "      <td>0.026108</td>\n",
       "      <td>0.067845</td>\n",
       "      <td>0.066228</td>\n",
       "      <td>0.060827</td>\n",
       "      <td>0.036747</td>\n",
       "      <td>0.097487</td>\n",
       "      <td>0.121984</td>\n",
       "    </tr>\n",
       "    <tr>\n",
       "      <th>bedrooms</th>\n",
       "      <td>0.076366</td>\n",
       "      <td>-0.018420</td>\n",
       "      <td>-0.083083</td>\n",
       "      <td>0.022375</td>\n",
       "      <td>1.000000</td>\n",
       "      <td>0.505931</td>\n",
       "      <td>0.712343</td>\n",
       "      <td>0.620965</td>\n",
       "      <td>0.158497</td>\n",
       "      <td>-0.061681</td>\n",
       "      <td>0.135036</td>\n",
       "      <td>0.211982</td>\n",
       "      <td>0.369125</td>\n",
       "    </tr>\n",
       "    <tr>\n",
       "      <th>bathrooms</th>\n",
       "      <td>0.128491</td>\n",
       "      <td>-0.007543</td>\n",
       "      <td>-0.237716</td>\n",
       "      <td>0.107666</td>\n",
       "      <td>0.505931</td>\n",
       "      <td>1.000000</td>\n",
       "      <td>0.686296</td>\n",
       "      <td>0.804179</td>\n",
       "      <td>0.259073</td>\n",
       "      <td>0.194597</td>\n",
       "      <td>0.296577</td>\n",
       "      <td>0.453678</td>\n",
       "      <td>0.715926</td>\n",
       "    </tr>\n",
       "    <tr>\n",
       "      <th>rooms</th>\n",
       "      <td>0.094063</td>\n",
       "      <td>0.031346</td>\n",
       "      <td>-0.213634</td>\n",
       "      <td>0.026108</td>\n",
       "      <td>0.712343</td>\n",
       "      <td>0.686296</td>\n",
       "      <td>1.000000</td>\n",
       "      <td>0.771194</td>\n",
       "      <td>0.175949</td>\n",
       "      <td>-0.047720</td>\n",
       "      <td>0.230537</td>\n",
       "      <td>0.370929</td>\n",
       "      <td>0.581023</td>\n",
       "    </tr>\n",
       "    <tr>\n",
       "      <th>squareFootage</th>\n",
       "      <td>0.143069</td>\n",
       "      <td>0.000812</td>\n",
       "      <td>-0.256475</td>\n",
       "      <td>0.067845</td>\n",
       "      <td>0.620965</td>\n",
       "      <td>0.804179</td>\n",
       "      <td>0.771194</td>\n",
       "      <td>1.000000</td>\n",
       "      <td>0.369244</td>\n",
       "      <td>0.115298</td>\n",
       "      <td>0.334441</td>\n",
       "      <td>0.506272</td>\n",
       "      <td>0.824506</td>\n",
       "    </tr>\n",
       "    <tr>\n",
       "      <th>lotSize</th>\n",
       "      <td>0.045336</td>\n",
       "      <td>-0.037696</td>\n",
       "      <td>-0.092881</td>\n",
       "      <td>0.066228</td>\n",
       "      <td>0.158497</td>\n",
       "      <td>0.259073</td>\n",
       "      <td>0.175949</td>\n",
       "      <td>0.369244</td>\n",
       "      <td>1.000000</td>\n",
       "      <td>0.285517</td>\n",
       "      <td>0.193421</td>\n",
       "      <td>0.226043</td>\n",
       "      <td>0.456539</td>\n",
       "    </tr>\n",
       "    <tr>\n",
       "      <th>yearBuilt</th>\n",
       "      <td>0.041342</td>\n",
       "      <td>-0.174142</td>\n",
       "      <td>-0.105518</td>\n",
       "      <td>0.060827</td>\n",
       "      <td>-0.061681</td>\n",
       "      <td>0.194597</td>\n",
       "      <td>-0.047720</td>\n",
       "      <td>0.115298</td>\n",
       "      <td>0.285517</td>\n",
       "      <td>1.000000</td>\n",
       "      <td>0.077553</td>\n",
       "      <td>0.113356</td>\n",
       "      <td>0.174430</td>\n",
       "    </tr>\n",
       "    <tr>\n",
       "      <th>lastSaleAmount</th>\n",
       "      <td>0.069275</td>\n",
       "      <td>0.032898</td>\n",
       "      <td>-0.126800</td>\n",
       "      <td>0.036747</td>\n",
       "      <td>0.135036</td>\n",
       "      <td>0.296577</td>\n",
       "      <td>0.230537</td>\n",
       "      <td>0.334441</td>\n",
       "      <td>0.193421</td>\n",
       "      <td>0.077553</td>\n",
       "      <td>1.000000</td>\n",
       "      <td>0.381526</td>\n",
       "      <td>0.418460</td>\n",
       "    </tr>\n",
       "    <tr>\n",
       "      <th>priorSaleAmount</th>\n",
       "      <td>0.012363</td>\n",
       "      <td>0.033123</td>\n",
       "      <td>-0.225513</td>\n",
       "      <td>0.097487</td>\n",
       "      <td>0.211982</td>\n",
       "      <td>0.453678</td>\n",
       "      <td>0.370929</td>\n",
       "      <td>0.506272</td>\n",
       "      <td>0.226043</td>\n",
       "      <td>0.113356</td>\n",
       "      <td>0.381526</td>\n",
       "      <td>1.000000</td>\n",
       "      <td>0.590177</td>\n",
       "    </tr>\n",
       "    <tr>\n",
       "      <th>estimated_value</th>\n",
       "      <td>0.126193</td>\n",
       "      <td>0.089104</td>\n",
       "      <td>-0.266116</td>\n",
       "      <td>0.121984</td>\n",
       "      <td>0.369125</td>\n",
       "      <td>0.715926</td>\n",
       "      <td>0.581023</td>\n",
       "      <td>0.824506</td>\n",
       "      <td>0.456539</td>\n",
       "      <td>0.174430</td>\n",
       "      <td>0.418460</td>\n",
       "      <td>0.590177</td>\n",
       "      <td>1.000000</td>\n",
       "    </tr>\n",
       "  </tbody>\n",
       "</table>\n",
       "</div>"
      ],
      "text/plain": [
       "                       id   zipcode  latitude  longitude  bedrooms  bathrooms  \\\n",
       "id               1.000000 -0.007972 -0.092638   0.039591  0.076366   0.128491   \n",
       "zipcode         -0.007972  1.000000  0.461953   0.394500 -0.018420  -0.007543   \n",
       "latitude        -0.092638  0.461953  1.000000   0.499432 -0.083083  -0.237716   \n",
       "longitude        0.039591  0.394500  0.499432   1.000000  0.022375   0.107666   \n",
       "bedrooms         0.076366 -0.018420 -0.083083   0.022375  1.000000   0.505931   \n",
       "bathrooms        0.128491 -0.007543 -0.237716   0.107666  0.505931   1.000000   \n",
       "rooms            0.094063  0.031346 -0.213634   0.026108  0.712343   0.686296   \n",
       "squareFootage    0.143069  0.000812 -0.256475   0.067845  0.620965   0.804179   \n",
       "lotSize          0.045336 -0.037696 -0.092881   0.066228  0.158497   0.259073   \n",
       "yearBuilt        0.041342 -0.174142 -0.105518   0.060827 -0.061681   0.194597   \n",
       "lastSaleAmount   0.069275  0.032898 -0.126800   0.036747  0.135036   0.296577   \n",
       "priorSaleAmount  0.012363  0.033123 -0.225513   0.097487  0.211982   0.453678   \n",
       "estimated_value  0.126193  0.089104 -0.266116   0.121984  0.369125   0.715926   \n",
       "\n",
       "                    rooms  squareFootage   lotSize  yearBuilt  lastSaleAmount  \\\n",
       "id               0.094063       0.143069  0.045336   0.041342        0.069275   \n",
       "zipcode          0.031346       0.000812 -0.037696  -0.174142        0.032898   \n",
       "latitude        -0.213634      -0.256475 -0.092881  -0.105518       -0.126800   \n",
       "longitude        0.026108       0.067845  0.066228   0.060827        0.036747   \n",
       "bedrooms         0.712343       0.620965  0.158497  -0.061681        0.135036   \n",
       "bathrooms        0.686296       0.804179  0.259073   0.194597        0.296577   \n",
       "rooms            1.000000       0.771194  0.175949  -0.047720        0.230537   \n",
       "squareFootage    0.771194       1.000000  0.369244   0.115298        0.334441   \n",
       "lotSize          0.175949       0.369244  1.000000   0.285517        0.193421   \n",
       "yearBuilt       -0.047720       0.115298  0.285517   1.000000        0.077553   \n",
       "lastSaleAmount   0.230537       0.334441  0.193421   0.077553        1.000000   \n",
       "priorSaleAmount  0.370929       0.506272  0.226043   0.113356        0.381526   \n",
       "estimated_value  0.581023       0.824506  0.456539   0.174430        0.418460   \n",
       "\n",
       "                 priorSaleAmount  estimated_value  \n",
       "id                      0.012363         0.126193  \n",
       "zipcode                 0.033123         0.089104  \n",
       "latitude               -0.225513        -0.266116  \n",
       "longitude               0.097487         0.121984  \n",
       "bedrooms                0.211982         0.369125  \n",
       "bathrooms               0.453678         0.715926  \n",
       "rooms                   0.370929         0.581023  \n",
       "squareFootage           0.506272         0.824506  \n",
       "lotSize                 0.226043         0.456539  \n",
       "yearBuilt               0.113356         0.174430  \n",
       "lastSaleAmount          0.381526         0.418460  \n",
       "priorSaleAmount         1.000000         0.590177  \n",
       "estimated_value         0.590177         1.000000  "
      ]
     },
     "execution_count": 40,
     "metadata": {},
     "output_type": "execute_result"
    }
   ],
   "source": [
    "df.corr()"
   ]
  },
  {
   "cell_type": "code",
   "execution_count": 41,
   "id": "169c5442",
   "metadata": {},
   "outputs": [
    {
     "data": {
      "text/plain": [
       "<Axes: >"
      ]
     },
     "execution_count": 41,
     "metadata": {},
     "output_type": "execute_result"
    },
    {
     "data": {
      "image/png": "[encoded data removed]",
      "text/plain": [
       "<Figure size 640x480 with 2 Axes>"
      ]
     },
     "metadata": {},
     "output_type": "display_data"
    }
   ],
   "source": [
    "sns.heatmap(df.corr())"
   ]
  },
  {
   "cell_type": "code",
   "execution_count": 42,
   "id": "deab6c0f",
   "metadata": {},
   "outputs": [
    {
     "data": {
      "text/html": [
       "<div>\n",
       "<style scoped>\n",
       "    .dataframe tbody tr th:only-of-type {\n",
       "        vertical-align: middle;\n",
       "    }\n",
       "\n",
       "    .dataframe tbody tr th {\n",
       "        vertical-align: top;\n",
       "    }\n",
       "\n",
       "    .dataframe thead th {\n",
       "        text-align: right;\n",
       "    }\n",
       "</style>\n",
       "<table border=\"1\" class=\"dataframe\">\n",
       "  <thead>\n",
       "    <tr style=\"text-align: right;\">\n",
       "      <th></th>\n",
       "      <th>id</th>\n",
       "      <th>zipcode</th>\n",
       "      <th>latitude</th>\n",
       "      <th>longitude</th>\n",
       "      <th>bedrooms</th>\n",
       "      <th>bathrooms</th>\n",
       "      <th>rooms</th>\n",
       "      <th>squareFootage</th>\n",
       "      <th>lotSize</th>\n",
       "      <th>yearBuilt</th>\n",
       "      <th>lastSaleAmount</th>\n",
       "      <th>priorSaleAmount</th>\n",
       "      <th>estimated_value</th>\n",
       "    </tr>\n",
       "  </thead>\n",
       "  <tbody>\n",
       "    <tr>\n",
       "      <th>id</th>\n",
       "      <td>3.832695e+15</td>\n",
       "      <td>-4.794798e+06</td>\n",
       "      <td>-134755.796294</td>\n",
       "      <td>97277.793396</td>\n",
       "      <td>4.241855e+06</td>\n",
       "      <td>9.277448e+06</td>\n",
       "      <td>1.140562e+07</td>\n",
       "      <td>7.357116e+09</td>\n",
       "      <td>8.457335e+09</td>\n",
       "      <td>7.661356e+07</td>\n",
       "      <td>3.326786e+12</td>\n",
       "      <td>2.403030e+11</td>\n",
       "      <td>3.940756e+12</td>\n",
       "    </tr>\n",
       "    <tr>\n",
       "      <th>zipcode</th>\n",
       "      <td>-4.794798e+06</td>\n",
       "      <td>9.438634e+01</td>\n",
       "      <td>0.105769</td>\n",
       "      <td>0.152571</td>\n",
       "      <td>-1.605609e-01</td>\n",
       "      <td>-8.546300e-02</td>\n",
       "      <td>5.964580e-01</td>\n",
       "      <td>6.549458e+00</td>\n",
       "      <td>-1.103540e+03</td>\n",
       "      <td>-5.065034e+01</td>\n",
       "      <td>2.479246e+05</td>\n",
       "      <td>1.030079e+05</td>\n",
       "      <td>4.366604e+05</td>\n",
       "    </tr>\n",
       "    <tr>\n",
       "      <th>latitude</th>\n",
       "      <td>-1.347558e+05</td>\n",
       "      <td>1.057691e-01</td>\n",
       "      <td>0.000555</td>\n",
       "      <td>0.000468</td>\n",
       "      <td>-1.754563e-03</td>\n",
       "      <td>-6.524595e-03</td>\n",
       "      <td>-9.848155e-03</td>\n",
       "      <td>-5.015548e+00</td>\n",
       "      <td>-6.593470e+00</td>\n",
       "      <td>-7.428908e-02</td>\n",
       "      <td>-2.317704e+03</td>\n",
       "      <td>-1.773170e+03</td>\n",
       "      <td>-3.163364e+03</td>\n",
       "    </tr>\n",
       "    <tr>\n",
       "      <th>longitude</th>\n",
       "      <td>9.727779e+04</td>\n",
       "      <td>1.525709e-01</td>\n",
       "      <td>0.000468</td>\n",
       "      <td>0.001583</td>\n",
       "      <td>7.981594e-04</td>\n",
       "      <td>4.991539e-03</td>\n",
       "      <td>2.032934e-03</td>\n",
       "      <td>2.241057e+00</td>\n",
       "      <td>7.941290e+00</td>\n",
       "      <td>7.233661e-02</td>\n",
       "      <td>1.134553e+03</td>\n",
       "      <td>1.306180e+03</td>\n",
       "      <td>2.449320e+03</td>\n",
       "    </tr>\n",
       "    <tr>\n",
       "      <th>bedrooms</th>\n",
       "      <td>4.241855e+06</td>\n",
       "      <td>-1.605609e-01</td>\n",
       "      <td>-0.001755</td>\n",
       "      <td>0.000798</td>\n",
       "      <td>8.050231e-01</td>\n",
       "      <td>5.294167e-01</td>\n",
       "      <td>1.251811e+00</td>\n",
       "      <td>4.627877e+02</td>\n",
       "      <td>4.285138e+02</td>\n",
       "      <td>-1.656479e+00</td>\n",
       "      <td>9.398271e+04</td>\n",
       "      <td>6.326439e+04</td>\n",
       "      <td>1.670586e+05</td>\n",
       "    </tr>\n",
       "    <tr>\n",
       "      <th>bathrooms</th>\n",
       "      <td>9.277448e+06</td>\n",
       "      <td>-8.546300e-02</td>\n",
       "      <td>-0.006525</td>\n",
       "      <td>0.004992</td>\n",
       "      <td>5.294167e-01</td>\n",
       "      <td>1.360206e+00</td>\n",
       "      <td>1.567688e+00</td>\n",
       "      <td>7.790507e+02</td>\n",
       "      <td>9.104679e+02</td>\n",
       "      <td>6.793260e+00</td>\n",
       "      <td>2.683082e+05</td>\n",
       "      <td>1.783968e+05</td>\n",
       "      <td>4.211742e+05</td>\n",
       "    </tr>\n",
       "    <tr>\n",
       "      <th>rooms</th>\n",
       "      <td>1.140562e+07</td>\n",
       "      <td>5.964580e-01</td>\n",
       "      <td>-0.009848</td>\n",
       "      <td>0.002033</td>\n",
       "      <td>1.251811e+00</td>\n",
       "      <td>1.567688e+00</td>\n",
       "      <td>3.836116e+00</td>\n",
       "      <td>1.254643e+03</td>\n",
       "      <td>1.038417e+03</td>\n",
       "      <td>-2.797016e+00</td>\n",
       "      <td>3.502513e+05</td>\n",
       "      <td>2.430849e+05</td>\n",
       "      <td>5.740237e+05</td>\n",
       "    </tr>\n",
       "    <tr>\n",
       "      <th>squareFootage</th>\n",
       "      <td>7.357116e+09</td>\n",
       "      <td>6.549458e+00</td>\n",
       "      <td>-5.015548</td>\n",
       "      <td>2.241057</td>\n",
       "      <td>4.627877e+02</td>\n",
       "      <td>7.790507e+02</td>\n",
       "      <td>1.254643e+03</td>\n",
       "      <td>6.899562e+05</td>\n",
       "      <td>9.241945e+05</td>\n",
       "      <td>2.866840e+03</td>\n",
       "      <td>2.154884e+08</td>\n",
       "      <td>1.377630e+08</td>\n",
       "      <td>3.454582e+08</td>\n",
       "    </tr>\n",
       "    <tr>\n",
       "      <th>lotSize</th>\n",
       "      <td>8.457335e+09</td>\n",
       "      <td>-1.103540e+03</td>\n",
       "      <td>-6.593470</td>\n",
       "      <td>7.941290</td>\n",
       "      <td>4.285138e+02</td>\n",
       "      <td>9.104679e+02</td>\n",
       "      <td>1.038417e+03</td>\n",
       "      <td>9.241945e+05</td>\n",
       "      <td>9.079853e+06</td>\n",
       "      <td>2.575406e+04</td>\n",
       "      <td>4.521032e+08</td>\n",
       "      <td>1.919438e+08</td>\n",
       "      <td>6.939180e+08</td>\n",
       "    </tr>\n",
       "    <tr>\n",
       "      <th>yearBuilt</th>\n",
       "      <td>7.661356e+07</td>\n",
       "      <td>-5.065034e+01</td>\n",
       "      <td>-0.074289</td>\n",
       "      <td>0.072337</td>\n",
       "      <td>-1.656479e+00</td>\n",
       "      <td>6.793260e+00</td>\n",
       "      <td>-2.797016e+00</td>\n",
       "      <td>2.866840e+03</td>\n",
       "      <td>2.575406e+04</td>\n",
       "      <td>8.962271e+02</td>\n",
       "      <td>1.801012e+06</td>\n",
       "      <td>1.141169e+06</td>\n",
       "      <td>2.634072e+06</td>\n",
       "    </tr>\n",
       "    <tr>\n",
       "      <th>lastSaleAmount</th>\n",
       "      <td>3.326786e+12</td>\n",
       "      <td>2.479246e+05</td>\n",
       "      <td>-2317.703724</td>\n",
       "      <td>1134.552961</td>\n",
       "      <td>9.398271e+04</td>\n",
       "      <td>2.683082e+05</td>\n",
       "      <td>3.502513e+05</td>\n",
       "      <td>2.154884e+08</td>\n",
       "      <td>4.521032e+08</td>\n",
       "      <td>1.801012e+06</td>\n",
       "      <td>6.017103e+11</td>\n",
       "      <td>7.543743e+10</td>\n",
       "      <td>1.637338e+11</td>\n",
       "    </tr>\n",
       "    <tr>\n",
       "      <th>priorSaleAmount</th>\n",
       "      <td>2.403030e+11</td>\n",
       "      <td>1.030079e+05</td>\n",
       "      <td>-1773.169570</td>\n",
       "      <td>1306.179672</td>\n",
       "      <td>6.326439e+04</td>\n",
       "      <td>1.783968e+05</td>\n",
       "      <td>2.430849e+05</td>\n",
       "      <td>1.377630e+08</td>\n",
       "      <td>1.919438e+08</td>\n",
       "      <td>1.141169e+06</td>\n",
       "      <td>7.543743e+10</td>\n",
       "      <td>1.142026e+11</td>\n",
       "      <td>9.951301e+10</td>\n",
       "    </tr>\n",
       "    <tr>\n",
       "      <th>estimated_value</th>\n",
       "      <td>3.940756e+12</td>\n",
       "      <td>4.366604e+05</td>\n",
       "      <td>-3163.363716</td>\n",
       "      <td>2449.320289</td>\n",
       "      <td>1.670586e+05</td>\n",
       "      <td>4.211742e+05</td>\n",
       "      <td>5.740237e+05</td>\n",
       "      <td>3.454582e+08</td>\n",
       "      <td>6.939180e+08</td>\n",
       "      <td>2.634072e+06</td>\n",
       "      <td>1.637338e+11</td>\n",
       "      <td>9.951301e+10</td>\n",
       "      <td>2.544380e+11</td>\n",
       "    </tr>\n",
       "  </tbody>\n",
       "</table>\n",
       "</div>"
      ],
      "text/plain": [
       "                           id       zipcode       latitude     longitude  \\\n",
       "id               3.832695e+15 -4.794798e+06 -134755.796294  97277.793396   \n",
       "zipcode         -4.794798e+06  9.438634e+01       0.105769      0.152571   \n",
       "latitude        -1.347558e+05  1.057691e-01       0.000555      0.000468   \n",
       "longitude        9.727779e+04  1.525709e-01       0.000468      0.001583   \n",
       "bedrooms         4.241855e+06 -1.605609e-01      -0.001755      0.000798   \n",
       "bathrooms        9.277448e+06 -8.546300e-02      -0.006525      0.004992   \n",
       "rooms            1.140562e+07  5.964580e-01      -0.009848      0.002033   \n",
       "squareFootage    7.357116e+09  6.549458e+00      -5.015548      2.241057   \n",
       "lotSize          8.457335e+09 -1.103540e+03      -6.593470      7.941290   \n",
       "yearBuilt        7.661356e+07 -5.065034e+01      -0.074289      0.072337   \n",
       "lastSaleAmount   3.326786e+12  2.479246e+05   -2317.703724   1134.552961   \n",
       "priorSaleAmount  2.403030e+11  1.030079e+05   -1773.169570   1306.179672   \n",
       "estimated_value  3.940756e+12  4.366604e+05   -3163.363716   2449.320289   \n",
       "\n",
       "                     bedrooms     bathrooms         rooms  squareFootage  \\\n",
       "id               4.241855e+06  9.277448e+06  1.140562e+07   7.357116e+09   \n",
       "zipcode         -1.605609e-01 -8.546300e-02  5.964580e-01   6.549458e+00   \n",
       "latitude        -1.754563e-03 -6.524595e-03 -9.848155e-03  -5.015548e+00   \n",
       "longitude        7.981594e-04  4.991539e-03  2.032934e-03   2.241057e+00   \n",
       "bedrooms         8.050231e-01  5.294167e-01  1.251811e+00   4.627877e+02   \n",
       "bathrooms        5.294167e-01  1.360206e+00  1.567688e+00   7.790507e+02   \n",
       "rooms            1.251811e+00  1.567688e+00  3.836116e+00   1.254643e+03   \n",
       "squareFootage    4.627877e+02  7.790507e+02  1.254643e+03   6.899562e+05   \n",
       "lotSize          4.285138e+02  9.104679e+02  1.038417e+03   9.241945e+05   \n",
       "yearBuilt       -1.656479e+00  6.793260e+00 -2.797016e+00   2.866840e+03   \n",
       "lastSaleAmount   9.398271e+04  2.683082e+05  3.502513e+05   2.154884e+08   \n",
       "priorSaleAmount  6.326439e+04  1.783968e+05  2.430849e+05   1.377630e+08   \n",
       "estimated_value  1.670586e+05  4.211742e+05  5.740237e+05   3.454582e+08   \n",
       "\n",
       "                      lotSize     yearBuilt  lastSaleAmount  priorSaleAmount  \\\n",
       "id               8.457335e+09  7.661356e+07    3.326786e+12     2.403030e+11   \n",
       "zipcode         -1.103540e+03 -5.065034e+01    2.479246e+05     1.030079e+05   \n",
       "latitude        -6.593470e+00 -7.428908e-02   -2.317704e+03    -1.773170e+03   \n",
       "longitude        7.941290e+00  7.233661e-02    1.134553e+03     1.306180e+03   \n",
       "bedrooms         4.285138e+02 -1.656479e+00    9.398271e+04     6.326439e+04   \n",
       "bathrooms        9.104679e+02  6.793260e+00    2.683082e+05     1.783968e+05   \n",
       "rooms            1.038417e+03 -2.797016e+00    3.502513e+05     2.430849e+05   \n",
       "squareFootage    9.241945e+05  2.866840e+03    2.154884e+08     1.377630e+08   \n",
       "lotSize          9.079853e+06  2.575406e+04    4.521032e+08     1.919438e+08   \n",
       "yearBuilt        2.575406e+04  8.962271e+02    1.801012e+06     1.141169e+06   \n",
       "lastSaleAmount   4.521032e+08  1.801012e+06    6.017103e+11     7.543743e+10   \n",
       "priorSaleAmount  1.919438e+08  1.141169e+06    7.543743e+10     1.142026e+11   \n",
       "estimated_value  6.939180e+08  2.634072e+06    1.637338e+11     9.951301e+10   \n",
       "\n",
       "                 estimated_value  \n",
       "id                  3.940756e+12  \n",
       "zipcode             4.366604e+05  \n",
       "latitude           -3.163364e+03  \n",
       "longitude           2.449320e+03  \n",
       "bedrooms            1.670586e+05  \n",
       "bathrooms           4.211742e+05  \n",
       "rooms               5.740237e+05  \n",
       "squareFootage       3.454582e+08  \n",
       "lotSize             6.939180e+08  \n",
       "yearBuilt           2.634072e+06  \n",
       "lastSaleAmount      1.637338e+11  \n",
       "priorSaleAmount     9.951301e+10  \n",
       "estimated_value     2.544380e+11  "
      ]
     },
     "execution_count": 42,
     "metadata": {},
     "output_type": "execute_result"
    }
   ],
   "source": [
    "# Covarianza\n",
    "df.cov()"
   ]
  },
  {
   "cell_type": "code",
   "execution_count": 43,
   "id": "0895a189",
   "metadata": {},
   "outputs": [
    {
     "name": "stdout",
     "output_type": "stream",
     "text": [
      "=======\n",
      "bedrooms\n",
      "mean 2.7084\n",
      "std 0.8972307998543382\n"
     ]
    },
    {
     "data": {
      "image/png": "[encoded data removed]",
      "text/plain": [
       "<Figure size 640x480 with 1 Axes>"
      ]
     },
     "metadata": {},
     "output_type": "display_data"
    },
    {
     "name": "stdout",
     "output_type": "stream",
     "text": [
      "=======\n",
      "bathrooms\n",
      "mean 2.1950666666666665\n",
      "std 1.1662788442928953\n"
     ]
    },
    {
     "data": {
      "image/png": "[encoded data removed]",
      "text/plain": [
       "<Figure size 640x480 with 1 Axes>"
      ]
     },
     "metadata": {},
     "output_type": "display_data"
    },
    {
     "name": "stdout",
     "output_type": "stream",
     "text": [
      "=======\n",
      "rooms\n",
      "mean 6.164133333333333\n",
      "std 1.958600518215801\n"
     ]
    },
    {
     "data": {
      "image/png": "[encoded data removed]",
      "text/plain": [
       "<Figure size 640x480 with 1 Axes>"
      ]
     },
     "metadata": {},
     "output_type": "display_data"
    },
    {
     "name": "stdout",
     "output_type": "stream",
     "text": [
      "=======\n",
      "squareFootage\n",
      "mean 1514.5044\n",
      "std 830.6359987331762\n"
     ]
    },
    {
     "data": {
      "image/png": "[encoded data removed]",
      "text/plain": [
       "<Figure size 640x480 with 1 Axes>"
      ]
     },
     "metadata": {},
     "output_type": "display_data"
    },
    {
     "name": "stdout",
     "output_type": "stream",
     "text": [
      "=======\n",
      "lotSize\n",
      "mean 5820.7662\n",
      "std 3013.279470369183\n"
     ]
    },
    {
     "data": {
      "image/png": "[encoded data removed]",
      "text/plain": [
       "<Figure size 640x480 with 1 Axes>"
      ]
     },
     "metadata": {},
     "output_type": "display_data"
    },
    {
     "name": "stdout",
     "output_type": "stream",
     "text": [
      "=======\n",
      "yearBuilt\n",
      "mean 1929.3885333333333\n",
      "std 33.82853430411162\n"
     ]
    },
    {
     "data": {
      "image/png": "[encoded data removed]",
      "text/plain": [
       "<Figure size 640x480 with 1 Axes>"
      ]
     },
     "metadata": {},
     "output_type": "display_data"
    },
    {
     "name": "stdout",
     "output_type": "stream",
     "text": [
      "=======\n",
      "priorSaleAmount\n",
      "mean 195216.20066666667\n",
      "std 313797.90664518543\n"
     ]
    },
    {
     "data": {
      "image/png": "[encoded data removed]",
      "text/plain": [
       "<Figure size 640x480 with 1 Axes>"
      ]
     },
     "metadata": {},
     "output_type": "display_data"
    }
   ],
   "source": [
    "for i in X.columns:\n",
    "    print(\"=======\")\n",
    "    print(i)\n",
    "    X.loc[:,i].hist()\n",
    "    print('mean', X.loc[:,i].mean())\n",
    "    print('std', X.loc[:,i].std())\n",
    "    plt.show()"
   ]
  },
  {
   "cell_type": "code",
   "execution_count": 44,
   "id": "6419defd",
   "metadata": {},
   "outputs": [],
   "source": [
    "from IPython.display import display, FileLink"
   ]
  },
  {
   "cell_type": "code",
   "execution_count": 45,
   "id": "6fb3d830",
   "metadata": {},
   "outputs": [
    {
     "data": {
      "text/html": [
       "<a href='Snowflake Resource.pdf' target='_blank'>Snowflake Resource.pdf</a><br>"
      ],
      "text/plain": [
       "/Users/felipemartinez/Snowflake Resource.pdf"
      ]
     },
     "metadata": {},
     "output_type": "display_data"
    }
   ],
   "source": [
    "display(FileLink('Snowflake Resource.pdf'))"
   ]
  },
  {
   "cell_type": "code",
   "execution_count": 46,
   "id": "4ae517ef",
   "metadata": {},
   "outputs": [],
   "source": [
    "import fitz\n",
    "from PIL import Image as PILImage\n",
    "from IPython.display import display\n",
    "\n",
    "# Ruta al archivo PDF que quieres mostrar\n",
    "pdf_path = 'Snowflake Resource.pdf'  # Reemplázalo con la ruta real de tu archivo PDF\n",
    "\n",
    "# Función para mostrar el PDF como imágenes en el output\n",
    "def display_pdf_images(pdf_path):\n",
    "    # Abre el archivo PDF\n",
    "    pdf_document = fitz.open(pdf_path)\n",
    "    \n",
    "    # Recorre las páginas del PDF y muestra cada página como una imagen\n",
    "    for page_num in range(pdf_document.page_count):\n",
    "        page = pdf_document.load_page(page_num)\n",
    "        \n",
    "        # Obtiene la rotación de la página\n",
    "        rotation = page.rotation\n",
    "        \n",
    "        # Renderiza la página como una imagen\n",
    "        image_data = page.get_pixmap()\n",
    "        \n",
    "        # Corrige la orientación de la imagen\n",
    "        if rotation == 0:\n",
    "            image = PILImage.frombytes(\"RGB\", [image_data.width, image_data.height], image_data.samples)\n",
    "        elif rotation == 90:\n",
    "            image = PILImage.frombytes(\"RGB\", [image_data.height, image_data.width], image_data.samples)\n",
    "            image = image.rotate(-90, expand=True)\n",
    "        elif rotation == 180:\n",
    "            image = PILImage.frombytes(\"RGB\", [image_data.width, image_data.height], image_data.samples)\n",
    "            image = image.rotate(180, expand=True)\n",
    "        elif rotation == 270:\n",
    "            image = PILImage.frombytes(\"RGB\", [image_data.height, image_data.width], image_data.samples)\n",
    "            image = image.rotate(-270, expand=True)\n",
    "        \n",
    "        # Muestra la imagen en el output\n",
    "        display(image)\n",
    "    \n",
    "    # Cierra el documento PDF\n",
    "    pdf_document.close()\n",
    "\n",
    "# Llama a la función para mostrar el PDF como imágenes\n",
    "#display_pdf_images(pdf_path)\n",
    "\n"
   ]
  },
  {
   "cell_type": "markdown",
   "id": "ec61f23b",
   "metadata": {},
   "source": [
    "## Dimensionality Reduction"
   ]
  },
  {
   "cell_type": "code",
   "execution_count": 47,
   "id": "adfcf276",
   "metadata": {},
   "outputs": [],
   "source": [
    "from sklearn.decomposition import PCA"
   ]
  },
  {
   "cell_type": "code",
   "execution_count": 48,
   "id": "a69b96bd",
   "metadata": {},
   "outputs": [
    {
     "name": "stdout",
     "output_type": "stream",
     "text": [
      "(15000, 7)\n",
      "(15000, 4)\n",
      "(4, 7)\n"
     ]
    },
    {
     "data": {
      "text/plain": [
       "array([4.34835866e-07, 1.39033126e-06, 1.76645671e-06, 9.91884229e-04,\n",
       "       1.22556479e-03, 8.13159056e-06, 9.99998757e-01])"
      ]
     },
     "execution_count": 48,
     "metadata": {},
     "output_type": "execute_result"
    }
   ],
   "source": [
    "pca= PCA(4)\n",
    "x_transformed= pca.fit_transform(X)\n",
    "print(X.shape)\n",
    "print(x_transformed.shape)\n",
    "print(pca.components_.shape)\n",
    "pca.components_[0]"
   ]
  },
  {
   "cell_type": "code",
   "execution_count": 49,
   "id": "30a42f20",
   "metadata": {},
   "outputs": [],
   "source": [
    "X_train, X_test, y_train, y_test= train_test_split(x_transformed, y)"
   ]
  },
  {
   "cell_type": "code",
   "execution_count": 50,
   "id": "8b163852",
   "metadata": {},
   "outputs": [
    {
     "data": {
      "text/plain": [
       "0.7130663461754254"
      ]
     },
     "execution_count": 50,
     "metadata": {},
     "output_type": "execute_result"
    }
   ],
   "source": [
    "lr= LinearRegression()\n",
    "lr.fit(X_train, y_train)\n",
    "lr.score(X_test, y_test)"
   ]
  },
  {
   "cell_type": "markdown",
   "id": "fbc04f0a",
   "metadata": {},
   "source": [
    "### New Dataset from Kaggle"
   ]
  },
  {
   "cell_type": "code",
   "execution_count": 51,
   "id": "4aedab21",
   "metadata": {},
   "outputs": [],
   "source": [
    "sns.set_style('white')"
   ]
  },
  {
   "cell_type": "code",
   "execution_count": 52,
   "id": "95685a6e",
   "metadata": {},
   "outputs": [],
   "source": [
    "df= pd.read_csv('ESSdata.csv')"
   ]
  },
  {
   "cell_type": "code",
   "execution_count": 53,
   "id": "65280deb",
   "metadata": {},
   "outputs": [
    {
     "data": {
      "text/html": [
       "<div>\n",
       "<style scoped>\n",
       "    .dataframe tbody tr th:only-of-type {\n",
       "        vertical-align: middle;\n",
       "    }\n",
       "\n",
       "    .dataframe tbody tr th {\n",
       "        vertical-align: top;\n",
       "    }\n",
       "\n",
       "    .dataframe thead th {\n",
       "        text-align: right;\n",
       "    }\n",
       "</style>\n",
       "<table border=\"1\" class=\"dataframe\">\n",
       "  <thead>\n",
       "    <tr style=\"text-align: right;\">\n",
       "      <th></th>\n",
       "      <th>cntry</th>\n",
       "      <th>idno</th>\n",
       "      <th>year</th>\n",
       "      <th>tvtot</th>\n",
       "      <th>ppltrst</th>\n",
       "      <th>pplfair</th>\n",
       "      <th>pplhlp</th>\n",
       "      <th>happy</th>\n",
       "      <th>sclmeet</th>\n",
       "      <th>sclact</th>\n",
       "      <th>gndr</th>\n",
       "      <th>agea</th>\n",
       "      <th>partner</th>\n",
       "    </tr>\n",
       "  </thead>\n",
       "  <tbody>\n",
       "    <tr>\n",
       "      <th>0</th>\n",
       "      <td>CH</td>\n",
       "      <td>5.0</td>\n",
       "      <td>6</td>\n",
       "      <td>3.0</td>\n",
       "      <td>3.0</td>\n",
       "      <td>10.0</td>\n",
       "      <td>5.0</td>\n",
       "      <td>8.0</td>\n",
       "      <td>5.0</td>\n",
       "      <td>4.0</td>\n",
       "      <td>2.0</td>\n",
       "      <td>60.0</td>\n",
       "      <td>1.0</td>\n",
       "    </tr>\n",
       "    <tr>\n",
       "      <th>1</th>\n",
       "      <td>CH</td>\n",
       "      <td>25.0</td>\n",
       "      <td>6</td>\n",
       "      <td>6.0</td>\n",
       "      <td>5.0</td>\n",
       "      <td>7.0</td>\n",
       "      <td>5.0</td>\n",
       "      <td>9.0</td>\n",
       "      <td>3.0</td>\n",
       "      <td>2.0</td>\n",
       "      <td>2.0</td>\n",
       "      <td>59.0</td>\n",
       "      <td>1.0</td>\n",
       "    </tr>\n",
       "    <tr>\n",
       "      <th>2</th>\n",
       "      <td>CH</td>\n",
       "      <td>26.0</td>\n",
       "      <td>6</td>\n",
       "      <td>1.0</td>\n",
       "      <td>8.0</td>\n",
       "      <td>8.0</td>\n",
       "      <td>8.0</td>\n",
       "      <td>7.0</td>\n",
       "      <td>6.0</td>\n",
       "      <td>3.0</td>\n",
       "      <td>1.0</td>\n",
       "      <td>24.0</td>\n",
       "      <td>2.0</td>\n",
       "    </tr>\n",
       "    <tr>\n",
       "      <th>3</th>\n",
       "      <td>CH</td>\n",
       "      <td>28.0</td>\n",
       "      <td>6</td>\n",
       "      <td>4.0</td>\n",
       "      <td>6.0</td>\n",
       "      <td>6.0</td>\n",
       "      <td>7.0</td>\n",
       "      <td>10.0</td>\n",
       "      <td>6.0</td>\n",
       "      <td>2.0</td>\n",
       "      <td>2.0</td>\n",
       "      <td>64.0</td>\n",
       "      <td>1.0</td>\n",
       "    </tr>\n",
       "    <tr>\n",
       "      <th>4</th>\n",
       "      <td>CH</td>\n",
       "      <td>29.0</td>\n",
       "      <td>6</td>\n",
       "      <td>5.0</td>\n",
       "      <td>6.0</td>\n",
       "      <td>7.0</td>\n",
       "      <td>5.0</td>\n",
       "      <td>8.0</td>\n",
       "      <td>7.0</td>\n",
       "      <td>2.0</td>\n",
       "      <td>2.0</td>\n",
       "      <td>55.0</td>\n",
       "      <td>1.0</td>\n",
       "    </tr>\n",
       "  </tbody>\n",
       "</table>\n",
       "</div>"
      ],
      "text/plain": [
       "  cntry  idno  year  tvtot  ppltrst  pplfair  pplhlp  happy  sclmeet  sclact  \\\n",
       "0    CH   5.0     6    3.0      3.0     10.0     5.0    8.0      5.0     4.0   \n",
       "1    CH  25.0     6    6.0      5.0      7.0     5.0    9.0      3.0     2.0   \n",
       "2    CH  26.0     6    1.0      8.0      8.0     8.0    7.0      6.0     3.0   \n",
       "3    CH  28.0     6    4.0      6.0      6.0     7.0   10.0      6.0     2.0   \n",
       "4    CH  29.0     6    5.0      6.0      7.0     5.0    8.0      7.0     2.0   \n",
       "\n",
       "   gndr  agea  partner  \n",
       "0   2.0  60.0      1.0  \n",
       "1   2.0  59.0      1.0  \n",
       "2   1.0  24.0      2.0  \n",
       "3   2.0  64.0      1.0  \n",
       "4   2.0  55.0      1.0  "
      ]
     },
     "execution_count": 53,
     "metadata": {},
     "output_type": "execute_result"
    }
   ],
   "source": [
    "df.head()"
   ]
  },
  {
   "cell_type": "code",
   "execution_count": 54,
   "id": "4b8f7c59",
   "metadata": {},
   "outputs": [
    {
     "data": {
      "text/plain": [
       "cntry        0\n",
       "idno         0\n",
       "year         0\n",
       "tvtot        8\n",
       "ppltrst     14\n",
       "pplfair     39\n",
       "pplhlp      25\n",
       "happy       31\n",
       "sclmeet     15\n",
       "sclact      94\n",
       "gndr        10\n",
       "agea       239\n",
       "partner     17\n",
       "dtype: int64"
      ]
     },
     "execution_count": 54,
     "metadata": {},
     "output_type": "execute_result"
    }
   ],
   "source": [
    "df.isnull().sum()"
   ]
  },
  {
   "cell_type": "code",
   "execution_count": 55,
   "id": "0ef22ab1",
   "metadata": {},
   "outputs": [
    {
     "data": {
      "text/plain": [
       "(8594, 13)"
      ]
     },
     "execution_count": 55,
     "metadata": {},
     "output_type": "execute_result"
    }
   ],
   "source": [
    "df.shape"
   ]
  },
  {
   "cell_type": "code",
   "execution_count": 56,
   "id": "29bbd8e1",
   "metadata": {},
   "outputs": [],
   "source": [
    "import math"
   ]
  },
  {
   "cell_type": "code",
   "execution_count": 57,
   "id": "26bd829c",
   "metadata": {},
   "outputs": [
    {
     "data": {
      "text/html": [
       "<div>\n",
       "<style scoped>\n",
       "    .dataframe tbody tr th:only-of-type {\n",
       "        vertical-align: middle;\n",
       "    }\n",
       "\n",
       "    .dataframe tbody tr th {\n",
       "        vertical-align: top;\n",
       "    }\n",
       "\n",
       "    .dataframe thead th {\n",
       "        text-align: right;\n",
       "    }\n",
       "</style>\n",
       "<table border=\"1\" class=\"dataframe\">\n",
       "  <thead>\n",
       "    <tr style=\"text-align: right;\">\n",
       "      <th></th>\n",
       "      <th>tvtot</th>\n",
       "      <th>ppltrst</th>\n",
       "      <th>pplfair</th>\n",
       "      <th>pplhlp</th>\n",
       "    </tr>\n",
       "  </thead>\n",
       "  <tbody>\n",
       "    <tr>\n",
       "      <th>0</th>\n",
       "      <td>3.0</td>\n",
       "      <td>3.0</td>\n",
       "      <td>10.0</td>\n",
       "      <td>5.0</td>\n",
       "    </tr>\n",
       "    <tr>\n",
       "      <th>1</th>\n",
       "      <td>6.0</td>\n",
       "      <td>5.0</td>\n",
       "      <td>7.0</td>\n",
       "      <td>5.0</td>\n",
       "    </tr>\n",
       "    <tr>\n",
       "      <th>2</th>\n",
       "      <td>1.0</td>\n",
       "      <td>8.0</td>\n",
       "      <td>8.0</td>\n",
       "      <td>8.0</td>\n",
       "    </tr>\n",
       "    <tr>\n",
       "      <th>3</th>\n",
       "      <td>4.0</td>\n",
       "      <td>6.0</td>\n",
       "      <td>6.0</td>\n",
       "      <td>7.0</td>\n",
       "    </tr>\n",
       "    <tr>\n",
       "      <th>4</th>\n",
       "      <td>5.0</td>\n",
       "      <td>6.0</td>\n",
       "      <td>7.0</td>\n",
       "      <td>5.0</td>\n",
       "    </tr>\n",
       "    <tr>\n",
       "      <th>...</th>\n",
       "      <td>...</td>\n",
       "      <td>...</td>\n",
       "      <td>...</td>\n",
       "      <td>...</td>\n",
       "    </tr>\n",
       "    <tr>\n",
       "      <th>2199</th>\n",
       "      <td>6.0</td>\n",
       "      <td>3.0</td>\n",
       "      <td>5.0</td>\n",
       "      <td>4.0</td>\n",
       "    </tr>\n",
       "    <tr>\n",
       "      <th>2200</th>\n",
       "      <td>3.0</td>\n",
       "      <td>9.0</td>\n",
       "      <td>7.0</td>\n",
       "      <td>5.0</td>\n",
       "    </tr>\n",
       "    <tr>\n",
       "      <th>2201</th>\n",
       "      <td>5.0</td>\n",
       "      <td>0.0</td>\n",
       "      <td>2.0</td>\n",
       "      <td>0.0</td>\n",
       "    </tr>\n",
       "    <tr>\n",
       "      <th>2202</th>\n",
       "      <td>4.0</td>\n",
       "      <td>4.0</td>\n",
       "      <td>4.0</td>\n",
       "      <td>4.0</td>\n",
       "    </tr>\n",
       "    <tr>\n",
       "      <th>2203</th>\n",
       "      <td>5.0</td>\n",
       "      <td>4.0</td>\n",
       "      <td>4.0</td>\n",
       "      <td>5.0</td>\n",
       "    </tr>\n",
       "  </tbody>\n",
       "</table>\n",
       "<p>1406 rows × 4 columns</p>\n",
       "</div>"
      ],
      "text/plain": [
       "      tvtot  ppltrst  pplfair  pplhlp\n",
       "0       3.0      3.0     10.0     5.0\n",
       "1       6.0      5.0      7.0     5.0\n",
       "2       1.0      8.0      8.0     8.0\n",
       "3       4.0      6.0      6.0     7.0\n",
       "4       5.0      6.0      7.0     5.0\n",
       "...     ...      ...      ...     ...\n",
       "2199    6.0      3.0      5.0     4.0\n",
       "2200    3.0      9.0      7.0     5.0\n",
       "2201    5.0      0.0      2.0     0.0\n",
       "2202    4.0      4.0      4.0     4.0\n",
       "2203    5.0      4.0      4.0     5.0\n",
       "\n",
       "[1406 rows x 4 columns]"
      ]
     },
     "execution_count": 57,
     "metadata": {},
     "output_type": "execute_result"
    }
   ],
   "source": [
    "df_pca= df.loc[((df['cntry']== 'CZ') | (df['cntry']== 'CH')) & (df['year']==6),['tvtot', 'ppltrst', 'pplfair', 'pplhlp']].dropna()\n",
    "df_pca"
   ]
  },
  {
   "cell_type": "code",
   "execution_count": 58,
   "id": "2eb4549c",
   "metadata": {},
   "outputs": [
    {
     "data": {
      "image/png": "[encoded data removed]",
      "text/plain": [
       "<Figure size 640x480 with 1 Axes>"
      ]
     },
     "metadata": {},
     "output_type": "display_data"
    }
   ],
   "source": [
    "t= sns.regplot(x='ppltrst', y='pplfair', data=df_pca, x_jitter= 0.49, y_jitter= 0.49, fit_reg= False)\n",
    "t.set(xlim=(-1,11), ylim=(-1,11))\n",
    "t.axhline(0, color='k', linestyle='-', linewidth=2)\n",
    "t.axvline(0, color='k', linestyle='-', linewidth=2)\n",
    "t.axes.set_title('Raw data')\n",
    "plt.show()"
   ]
  },
  {
   "cell_type": "code",
   "execution_count": 59,
   "id": "2d83c693",
   "metadata": {},
   "outputs": [],
   "source": [
    "#Standarizing variables by subtracting the mean and dividing by the standard deviation\n",
    "df_pca['ppltrst_z']= (df_pca['ppltrst'] - df_pca['ppltrst'].mean()) / df_pca['ppltrst'].std()\n",
    "df_pca['pplfair_z']= (df_pca['pplfair'] - df_pca['pplfair'].mean()) / df_pca['pplfair'].std()"
   ]
  },
  {
   "cell_type": "markdown",
   "id": "b2dab4a4",
   "metadata": {},
   "source": [
    "A **z-score** is a measure of how many standard deviations a particular value is away from the mean of the population. Z-scores are calculated by subtracting the mean from each value and then dividing by the standard deviation.\n",
    "\n",
    "The resulting z-scores are standardized, meaning that they have a mean of 0 and a standard deviation of 1. This makes it easy to compare values from different distributions."
   ]
  },
  {
   "cell_type": "markdown",
   "id": "de779226",
   "metadata": {},
   "source": [
    "La principal diferencia entre los **z-scores y el standard scaler** es que los z-scores se basan en la media y la desviación estándar de la **población**, mientras que el standard scaler se basa en la media y la desviación estándar de la **muestra**.\n",
    "\n",
    "La media y la desviación estándar de la población son valores que se calculan a partir de una gran cantidad de datos. Esto significa que son más precisos que la media y la desviación estándar de la muestra, que se calculan a partir de un conjunto de datos más pequeño.\n",
    "\n",
    "Por lo tanto, los z-scores son más precisos que el standard scaler para comparar valores de diferentes distribuciones. Esto se debe a que los z-scores se basan en la media y la desviación estándar de la población, que son valores que son más probables que sean representativos de la distribución completa de los datos.\n",
    "\n",
    "El standard scaler, por otro lado, es más adecuado para preparar datos para el aprendizaje automático. Esto se debe a que el standard scaler hace que los datos tengan una media de 0 y una desviación estándar de 1, lo que puede mejorar el rendimiento de los algoritmos de aprendizaje automático.\n",
    "\n",
    "En general, los z-scores son más adecuados para los siguientes casos:\n",
    "\n",
    "Comparar valores de diferentes distribuciones\n",
    "Analizar datos de una población\n",
    "Obtener una medida precisa de la distancia de un valor a la media\n",
    "El standard scaler es más adecuado para los siguientes casos:\n",
    "\n",
    "Preparar datos para el aprendizaje automático\n",
    "Normalizar los datos para que tengan una distribución similar\n",
    "En el caso específico del código que proporcionaste, los z-scores y el standard scaler producirían resultados similares. Sin embargo, los z-scores serían más precisos, ya que se basan en la media y la desviación estándar de la población.\n",
    "\n",
    "En resumen, la elección entre z-scores y standard scaler depende del propósito de tu análisis. Si necesitas comparar valores de diferentes distribuciones o analizar datos de una población, los z-scores son la mejor opción. Si necesitas preparar datos para el aprendizaje automático, el standard scaler es la mejor opción."
   ]
  },
  {
   "cell_type": "code",
   "execution_count": 60,
   "id": "027bcab3",
   "metadata": {},
   "outputs": [
    {
     "data": {
      "image/png": "[encoded data removed]",
      "text/plain": [
       "<Figure size 640x480 with 1 Axes>"
      ]
     },
     "metadata": {},
     "output_type": "display_data"
    }
   ],
   "source": [
    "t= sns.regplot(x='ppltrst_z', y='pplfair_z', data=df_pca, x_jitter= 0.49, y_jitter= 0.49, fit_reg= False)\n",
    "t.axhline(0, color='k', linestyle='-', linewidth=2)\n",
    "t.axvline(0, color='k', linestyle='-', linewidth=2)\n",
    "t.axes.set_title('Standarized data')\n",
    "plt.show()"
   ]
  },
  {
   "cell_type": "code",
   "execution_count": 61,
   "id": "b885b840",
   "metadata": {},
   "outputs": [],
   "source": [
    "df_pca= df.loc[((df['cntry']== 'CZ') | (df['cntry']== 'CH')) & (df['year']==6),['tvtot', 'ppltrst', 'pplfair', 'pplhlp']].dropna()"
   ]
  },
  {
   "cell_type": "code",
   "execution_count": 62,
   "id": "0fa5b83d",
   "metadata": {},
   "outputs": [
    {
     "name": "stdout",
     "output_type": "stream",
     "text": [
      "Covariance Matrix: \n",
      " [[ 1.00071174 -0.24535312 -0.23531159 -0.17820482]\n",
      " [-0.24535312  1.00071174  0.60528939  0.49609931]\n",
      " [-0.23531159  0.60528939  1.00071174  0.53193085]\n",
      " [-0.17820482  0.49609931  0.53193085  1.00071174]]\n"
     ]
    }
   ],
   "source": [
    "X= StandardScaler().fit_transform(df_pca)\n",
    "Xt= X.T\n",
    "Cx= np.cov(Xt)\n",
    "print('Covariance Matrix: \\n', Cx)"
   ]
  },
  {
   "cell_type": "markdown",
   "id": "59182a8f",
   "metadata": {},
   "source": [
    "### Eigenvectors & Eigenvalues\n",
    "\n",
    "Los autovectores y autovalores se utilizan para reducir la dimensionalidad de los datos. La reducción de la dimensionalidad es el proceso de convertir un conjunto de datos de alta dimensionalidad en un conjunto de datos de baja dimensionalidad que conserva la información importante.\n",
    "\n",
    "Los autovectores y autovalores se pueden utilizar para reducir la dimensionalidad de los datos mediante un proceso llamado análisis de componentes principales (PCA). El PCA encuentra los autovectores y autovalores de la matriz de covarianza de los datos. Los autovectores con autovalores más altos se utilizan para crear nuevas variables que representan las características más importantes de los datos.\n",
    "\n",
    "Conclusión\n",
    "\n",
    "Los autovectores y autovalores son herramientas poderosas que tienen una amplia gama de aplicaciones en la ciencia, la ingeniería y las matemáticas. En el aprendizaje automático, los autovectores y autovalores se utilizan para reducir la dimensionalidad de los datos y mejorar el rendimiento de los modelos de aprendizaje automático."
   ]
  },
  {
   "cell_type": "code",
   "execution_count": 63,
   "id": "174e36ce",
   "metadata": {},
   "outputs": [
    {
     "name": "stdout",
     "output_type": "stream",
     "text": [
      "Eigenvector 1: \n",
      "[[-0.30084526]\n",
      " [ 0.55945823]\n",
      " [ 0.5681188 ]\n",
      " [ 0.52320135]]\n",
      "Eigenvalue 1: 2.2112568631998215\n",
      "---------------\n",
      "Eigenvector 2: \n",
      "[[0.94786152]\n",
      " [0.11600843]\n",
      " [0.15403897]\n",
      " [0.25371751]]\n",
      "Eigenvalue 2: 0.8847413570711695\n",
      "---------------\n",
      "Eigenvector 3: \n",
      "[[ 0.10491426]\n",
      " [ 0.51597659]\n",
      " [ 0.28505945]\n",
      " [-0.80093836]]\n",
      "Eigenvalue 3: 0.5151421389236891\n",
      "---------------\n",
      "Eigenvector 4: \n",
      "[[ 0.00660771]\n",
      " [ 0.63821367]\n",
      " [-0.75647481]\n",
      " [ 0.14277786]]\n",
      "Eigenvalue 4: 0.391706615894286\n",
      "---------------\n"
     ]
    }
   ],
   "source": [
    "# Calculating eigenvalues and eigenvectors\n",
    "eig_val_cov, eig_vec_cov= np.linalg.eig(Cx)\n",
    "\n",
    "# Inspecting the Eigenvalues and Eigenvectors\n",
    "for i in range(len(eig_val_cov)):\n",
    "    eigvec_cov= eig_vec_cov[:,i].reshape(1,4).T\n",
    "    print('Eigenvector {}: \\n{}'.format(i+1, eigvec_cov))\n",
    "    print('Eigenvalue {}: {}'.format(i+1, eig_val_cov[i]))\n",
    "    print('---------------')"
   ]
  },
  {
   "cell_type": "code",
   "execution_count": 64,
   "id": "26c39f7f",
   "metadata": {},
   "outputs": [
    {
     "data": {
      "image/png": "[encoded data removed]",
      "text/plain": [
       "<Figure size 640x480 with 1 Axes>"
      ]
     },
     "metadata": {},
     "output_type": "display_data"
    }
   ],
   "source": [
    "plt.plot(eig_val_cov)\n",
    "plt.show()"
   ]
  },
  {
   "cell_type": "code",
   "execution_count": 65,
   "id": "cc9134b1",
   "metadata": {},
   "outputs": [
    {
     "name": "stdout",
     "output_type": "stream",
     "text": [
      "[2.21125686 0.88474136 0.51514214 0.39170662] \n",
      " [[-0.30084526  0.94786152  0.10491426  0.00660771]\n",
      " [ 0.55945823  0.11600843  0.51597659  0.63821367]\n",
      " [ 0.5681188   0.15403897  0.28505945 -0.75647481]\n",
      " [ 0.52320135  0.25371751 -0.80093836  0.14277786]]\n"
     ]
    }
   ],
   "source": [
    "print(eig_val_cov,'\\n', eig_vec_cov)"
   ]
  },
  {
   "cell_type": "markdown",
   "id": "81e05151",
   "metadata": {},
   "source": [
    "## PuLP library"
   ]
  },
  {
   "cell_type": "code",
   "execution_count": 66,
   "id": "d0c04f22",
   "metadata": {},
   "outputs": [
    {
     "name": "stdout",
     "output_type": "stream",
     "text": [
      "Welcome to the CBC MILP Solver \n",
      "Version: 2.10.3 \n",
      "Build Date: Dec 15 2019 \n",
      "\n",
      "command line - /Users/felipemartinez/anaconda3/lib/python3.10/site-packages/pulp/solverdir/cbc/osx/64/cbc /var/folders/m5/nk71q_3n7hlftqfwdbrktxn40000gn/T/b8eacddaa373446197e7c31c956d3ab9-pulp.mps timeMode elapsed branch printingOptions all solution /var/folders/m5/nk71q_3n7hlftqfwdbrktxn40000gn/T/b8eacddaa373446197e7c31c956d3ab9-pulp.sol (default strategy 1)\n",
      "At line 2 NAME          MODEL\n",
      "At line 3 ROWS\n",
      "At line 11 COLUMNS\n",
      "At line 57 RHS\n",
      "At line 64 BOUNDS\n",
      "At line 74 ENDATA\n",
      "Problem MODEL has 6 rows, 9 columns and 18 elements\n",
      "Coin0008I MODEL read with 0 errors\n",
      "Option for timeMode changed from cpu to elapsed\n",
      "Continuous objective value is 13 - 0.00 seconds\n",
      "Cgl0004I processed model has 6 rows, 9 columns (9 integer (9 of which binary)) and 18 elements\n",
      "Cutoff increment increased from 1e-05 to 0.9999\n",
      "Cbc0038I Initial state - 0 integers unsatisfied sum - 0\n",
      "Cbc0038I Solution found of 13\n",
      "Cbc0038I Before mini branch and bound, 9 integers at bound fixed and 0 continuous\n",
      "Cbc0038I Mini branch and bound did not improve solution (0.01 seconds)\n",
      "Cbc0038I After 0.01 seconds - Feasibility pump exiting with objective of 13 - took 0.00 seconds\n",
      "Cbc0012I Integer solution of 13 found by feasibility pump after 0 iterations and 0 nodes (0.01 seconds)\n",
      "Cbc0001I Search completed - best objective 13, took 0 iterations and 0 nodes (0.01 seconds)\n",
      "Cbc0035I Maximum depth 0, 0 variables fixed on reduced cost\n",
      "Cuts at root node changed objective from 13 to 13\n",
      "Probing was tried 0 times and created 0 cuts of which 0 were active after adding rounds of cuts (0.000 seconds)\n",
      "Gomory was tried 0 times and created 0 cuts of which 0 were active after adding rounds of cuts (0.000 seconds)\n",
      "Knapsack was tried 0 times and created 0 cuts of which 0 were active after adding rounds of cuts (0.000 seconds)\n",
      "Clique was tried 0 times and created 0 cuts of which 0 were active after adding rounds of cuts (0.000 seconds)\n",
      "MixedIntegerRounding2 was tried 0 times and created 0 cuts of which 0 were active after adding rounds of cuts (0.000 seconds)\n",
      "FlowCover was tried 0 times and created 0 cuts of which 0 were active after adding rounds of cuts (0.000 seconds)\n",
      "TwoMirCuts was tried 0 times and created 0 cuts of which 0 were active after adding rounds of cuts (0.000 seconds)\n",
      "ZeroHalf was tried 0 times and created 0 cuts of which 0 were active after adding rounds of cuts (0.000 seconds)\n",
      "\n",
      "Result - Optimal solution found\n",
      "\n",
      "Objective value:                13.00000000\n",
      "Enumerated nodes:               0\n",
      "Total iterations:               0\n",
      "Time (CPU seconds):             0.00\n",
      "Time (Wallclock seconds):       0.01\n",
      "\n",
      "Option for printingOptions changed from normal to all\n",
      "Total time (CPU seconds):       0.00   (Wallclock seconds):       0.02\n",
      "\n",
      "Estado: 1\n",
      "Asignación óptima de tareas:\n",
      "W1 realiza T2\n",
      "W2 realiza T3\n",
      "W3 realiza T1\n",
      "Costo total de asignación: 13.0\n"
     ]
    }
   ],
   "source": [
    "# Importar la biblioteca PuLP\n",
    "from pulp import LpProblem, LpMinimize, LpVariable, lpSum, LpBinary\n",
    "\n",
    "# Crear un problema de optimización\n",
    "problema = LpProblem(\"Asignacion_De_Tareas\", LpMinimize)\n",
    "\n",
    "# Definir las trabajadores y tareas\n",
    "trabajadores = [\"W1\", \"W2\", \"W3\"]\n",
    "tareas = [\"T1\", \"T2\", \"T3\"]\n",
    "\n",
    "# Crear un diccionario para almacenar los costos de asignación\n",
    "costos = {\n",
    "    (\"W1\", \"T1\"): 10,\n",
    "    (\"W1\", \"T2\"): 6,\n",
    "    (\"W1\", \"T3\"): 8,\n",
    "    (\"W2\", \"T1\"): 9,\n",
    "    (\"W2\", \"T2\"): 7,\n",
    "    (\"W2\", \"T3\"): 4,\n",
    "    (\"W3\", \"T1\"): 3,\n",
    "    (\"W3\", \"T2\"): 5,\n",
    "    (\"W3\", \"T3\"): 11\n",
    "}\n",
    "\n",
    "# Crear variables de decisión (binarias)\n",
    "asignacion = LpVariable.dicts(\"Asignacion\", (trabajadores, tareas), 0, 1, LpBinary)\n",
    "\n",
    "# Definir la función objetivo\n",
    "problema += lpSum(asignacion[worker][task] * costos[(worker, task)] for worker in trabajadores for task in tareas)\n",
    "\n",
    "# Restricciones: cada tarea debe asignarse a exactamente un trabajador\n",
    "for task in tareas:\n",
    "    problema += lpSum(asignacion[worker][task] for worker in trabajadores) == 1\n",
    "\n",
    "# Restricciones: cada trabajador puede realizar como máximo una tarea\n",
    "for worker in trabajadores:\n",
    "    problema += lpSum(asignacion[worker][task] for task in tareas) <= 1\n",
    "\n",
    "# Resolver el problema\n",
    "problema.solve()\n",
    "\n",
    "# Imprimir los resultados\n",
    "print(\"Estado:\", problema.status)\n",
    "print(\"Asignación óptima de tareas:\")\n",
    "for worker in trabajadores:\n",
    "    for task in tareas:\n",
    "        if asignacion[worker][task].value() == 1:\n",
    "            print(f\"{worker} realiza {task}\")\n",
    "\n",
    "# Imprimir el costo total de asignación\n",
    "print(\"Costo total de asignación:\", round(problema.objective.value(), 2))\n"
   ]
  },
  {
   "cell_type": "markdown",
   "id": "ebd0b66c",
   "metadata": {},
   "source": [
    "### Apache Spark"
   ]
  },
  {
   "cell_type": "code",
   "execution_count": 67,
   "id": "1785f272",
   "metadata": {},
   "outputs": [],
   "source": [
    "import pyspark as ps"
   ]
  },
  {
   "cell_type": "code",
   "execution_count": 68,
   "id": "f9fcd379",
   "metadata": {},
   "outputs": [
    {
     "name": "stderr",
     "output_type": "stream",
     "text": [
      "Setting default log level to \"WARN\".\n",
      "To adjust logging level use sc.setLogLevel(newLevel). For SparkR, use setLogLevel(newLevel).\n",
      "23/10/24 16:43:15 WARN NativeCodeLoader: Unable to load native-hadoop library for your platform... using builtin-java classes where applicable\n"
     ]
    }
   ],
   "source": [
    "spark= ps.sql.SparkSession.builder.master('local[4]')\\\n",
    ".appName('spark-lecture').getOrCreate()\n",
    "\n",
    "sc= spark.sparkContext"
   ]
  },
  {
   "cell_type": "code",
   "execution_count": 69,
   "id": "1528ac81",
   "metadata": {},
   "outputs": [],
   "source": [
    "import random"
   ]
  },
  {
   "cell_type": "code",
   "execution_count": 70,
   "id": "c5169aaa",
   "metadata": {},
   "outputs": [
    {
     "name": "stderr",
     "output_type": "stream",
     "text": [
      "\r",
      "[Stage 0:>                                                          (0 + 4) / 4]\r"
     ]
    },
    {
     "name": "stdout",
     "output_type": "stream",
     "text": [
      "heads=  53\n",
      "tails=  47\n",
      "ratio=  0.53\n"
     ]
    },
    {
     "name": "stderr",
     "output_type": "stream",
     "text": [
      "\r",
      "                                                                                \r"
     ]
    }
   ],
   "source": [
    "n= 100\n",
    "\n",
    "# Parallilize creates a RDD\n",
    "heads= (sc.parallelize(range(n))\n",
    "        .map(lambda _: random.random())\n",
    "        .filter(lambda r: r <= 0.5)\n",
    "        .count())\n",
    "\n",
    "tails= n - heads\n",
    "ratio= 1. * heads / n\n",
    "\n",
    "print('heads= ', heads)\n",
    "print('tails= ', tails)\n",
    "print('ratio= ', ratio)"
   ]
  },
  {
   "cell_type": "code",
   "execution_count": 71,
   "id": "6bec47c5",
   "metadata": {},
   "outputs": [],
   "source": [
    "# Resilient Distributed Datasets\n",
    "rdd= sc.parallelize(range(n))"
   ]
  },
  {
   "cell_type": "code",
   "execution_count": 72,
   "id": "c481f3df",
   "metadata": {},
   "outputs": [],
   "source": [
    "rdd2= rdd.map(lambda x: random.random())"
   ]
  },
  {
   "cell_type": "code",
   "execution_count": 73,
   "id": "5c409da2",
   "metadata": {},
   "outputs": [
    {
     "data": {
      "text/plain": [
       "[0.9566344872267278,\n",
       " 0.3184845956059248,\n",
       " 0.7565767055027394,\n",
       " 0.01421550817951589,\n",
       " 0.053286961470580985,\n",
       " 0.35943767304312146,\n",
       " 0.8026681612410782,\n",
       " 0.6851892571333252,\n",
       " 0.6322089007118558,\n",
       " 0.31310702630033527,\n",
       " 0.305165087107387,\n",
       " 0.5192578517182725,\n",
       " 0.17148007886541938,\n",
       " 0.42594040451075477,\n",
       " 0.7996227573616653,\n",
       " 0.05403775393869803,\n",
       " 0.8012661278486362,\n",
       " 0.39723912656604066,\n",
       " 0.35143785625247226,\n",
       " 0.3156301852380483,\n",
       " 0.0736447886720466,\n",
       " 0.6964216393215065,\n",
       " 0.3947420192645348,\n",
       " 0.6755854246337049,\n",
       " 0.08227026853374908,\n",
       " 0.8704696867126859,\n",
       " 0.9535157731442027,\n",
       " 0.7661317160331378,\n",
       " 0.4709585606682437,\n",
       " 0.6088497899932485,\n",
       " 0.1552028088309273,\n",
       " 0.4482259707179632,\n",
       " 0.614025461646666,\n",
       " 0.7912101587033896,\n",
       " 0.32045599131953606,\n",
       " 0.6227359918428548,\n",
       " 0.0030584414398538984,\n",
       " 0.45870324024321263,\n",
       " 0.5033454992975203,\n",
       " 0.37855199481435997,\n",
       " 0.9046096838745056,\n",
       " 0.040812217017537344,\n",
       " 0.6858325336970383,\n",
       " 0.8835454235643354,\n",
       " 0.3487564811093785,\n",
       " 0.25154093601293215,\n",
       " 0.9348870076209826,\n",
       " 0.284078548349189,\n",
       " 0.1886915989461787,\n",
       " 0.7421728249084326,\n",
       " 0.9080014664168771,\n",
       " 0.9155714871876155,\n",
       " 0.4086508435785726,\n",
       " 0.22058693768409265,\n",
       " 0.15902815564324135,\n",
       " 0.17442093091918742,\n",
       " 0.3535073484068423,\n",
       " 0.15681873965040405,\n",
       " 0.4023093594877263,\n",
       " 0.7975540518496754,\n",
       " 0.1969352553666065,\n",
       " 0.6065970669085416,\n",
       " 0.4861005297764224,\n",
       " 0.6516215543179875,\n",
       " 0.7152158985457743,\n",
       " 0.7051426230326656,\n",
       " 0.28817748487187056,\n",
       " 0.02416131296046209,\n",
       " 0.8653749556680503,\n",
       " 0.5740161495163619,\n",
       " 0.8321878074497094,\n",
       " 0.6286942741976043,\n",
       " 0.11684706148628543,\n",
       " 0.47537543776374014,\n",
       " 0.4043241235590984,\n",
       " 0.151229392182186,\n",
       " 0.6187293709683429,\n",
       " 0.26230498536595803,\n",
       " 0.026983724753748328,\n",
       " 0.031874776719247766,\n",
       " 0.12382573084039195,\n",
       " 0.8969047102571562,\n",
       " 0.853793012586884,\n",
       " 0.8116345971426007,\n",
       " 0.9807123531853446,\n",
       " 0.7007541817838071,\n",
       " 0.6201905816447263,\n",
       " 0.08199728299086029,\n",
       " 0.6108534819030472,\n",
       " 0.5496016534634491,\n",
       " 0.2486066996279912,\n",
       " 0.2851406192597371,\n",
       " 0.6956517895817389,\n",
       " 0.7023123918296356,\n",
       " 0.36270537049635543,\n",
       " 0.3449961057354899,\n",
       " 0.5058855732257472,\n",
       " 0.3982050296725337,\n",
       " 0.8276300831303226,\n",
       " 0.7733054084029743]"
      ]
     },
     "execution_count": 73,
     "metadata": {},
     "output_type": "execute_result"
    }
   ],
   "source": [
    "rdd2.collect()"
   ]
  },
  {
   "cell_type": "code",
   "execution_count": 74,
   "id": "edd9efe3",
   "metadata": {},
   "outputs": [
    {
     "data": {
      "text/plain": [
       "[0.07004858753718135,\n",
       " 0.18150653305928532,\n",
       " 0.007455821664128615,\n",
       " 0.14361643346611308,\n",
       " 0.10324171380803426,\n",
       " 0.09466829522808506,\n",
       " 0.1503365138679713,\n",
       " 0.12677559898755797,\n",
       " 0.12554642656020953,\n",
       " 0.1800723770804774,\n",
       " 0.08217164030751611,\n",
       " 0.12084965537382575,\n",
       " 0.022734522814035873,\n",
       " 0.04492267218952284,\n",
       " 0.015720688929269477,\n",
       " 0.024010595567867665,\n",
       " 0.08833907407246278,\n",
       " 0.017204271310660046,\n",
       " 0.1564543222547008,\n",
       " 0.14594393245892345,\n",
       " 0.13140041064326236,\n",
       " 0.013470053644515811,\n",
       " 0.010923157798247818,\n",
       " 0.1386519311136113]"
      ]
     },
     "execution_count": 74,
     "metadata": {},
     "output_type": "execute_result"
    }
   ],
   "source": [
    "rdd3= rdd2.filter(lambda r: r <= 0.2)\n",
    "rdd3.collect()"
   ]
  },
  {
   "cell_type": "markdown",
   "id": "6fda13c8",
   "metadata": {},
   "source": [
    "##### Action: collect, count, mean   & Transformation: map, filter "
   ]
  },
  {
   "cell_type": "code",
   "execution_count": 75,
   "id": "351ab62f",
   "metadata": {},
   "outputs": [
    {
     "name": "stdout",
     "output_type": "stream",
     "text": [
      "[2, 3, 4, 5, 6, 7, 8, 9, 10, 11, 12, 13, 14, 15, 16, 17, 18, 19, 20, 21, 22, 23, 24, 25, 26, 27, 28, 29, 30, 31, 32, 33, 34, 35, 36, 37, 38, 39, 40, 41, 42, 43, 44, 45, 46, 47, 48, 49, 50, 51, 52, 53, 54, 55, 56, 57, 58, 59, 60, 61, 62, 63, 64, 65, 66, 67, 68, 69, 70, 71, 72, 73, 74, 75, 76, 77, 78, 79, 80, 81, 82, 83, 84, 85, 86, 87, 88, 89, 90, 91, 92, 93, 94, 95, 96, 97, 98, 99]\n"
     ]
    }
   ],
   "source": [
    "def is_prime(x):\n",
    "    pri=[]\n",
    "    for a in range(1,x+1):\n",
    "        for i in range(1,a+1):\n",
    "            if a%i != 0:\n",
    "                if i in pri:\n",
    "                    continue\n",
    "                pri.append(i)\n",
    "            \n",
    "    return pri\n",
    "            \n",
    "    \n",
    "\n",
    "print(is_prime(100))"
   ]
  },
  {
   "cell_type": "code",
   "execution_count": 76,
   "id": "f2090cbf",
   "metadata": {},
   "outputs": [
    {
     "name": "stdout",
     "output_type": "stream",
     "text": [
      "[2, 3, 5, 7, 11, 13, 17, 19, 23, 29, 31, 37, 41, 43, 47, 53, 59, 61, 67, 71, 73, 79, 83, 89, 97]\n"
     ]
    }
   ],
   "source": [
    "def is_prime(x):\n",
    "    primes = []\n",
    "    for num in range(2, x + 1):\n",
    "        is_prime = True\n",
    "        for i in range(2, int(num**0.5) + 1):\n",
    "            if num % i == 0:\n",
    "                is_prime = False\n",
    "                break\n",
    "        if is_prime:\n",
    "            primes.append(num)\n",
    "    return primes\n",
    "\n",
    "print(is_prime(100))"
   ]
  },
  {
   "attachments": {
    "image.png": {
     "image/png": "[encoded data removed]"
    }
   },
   "cell_type": "markdown",
   "id": "d4a5291a",
   "metadata": {},
   "source": [
    "![image.png](attachment:image.png)"
   ]
  },
  {
   "cell_type": "code",
   "execution_count": 77,
   "id": "4146064f",
   "metadata": {},
   "outputs": [
    {
     "name": "stdout",
     "output_type": "stream",
     "text": [
      "Overwriting input.txt\n"
     ]
    }
   ],
   "source": [
    "%%writefile input.txt\n",
    "Hola esto esto es una prueba\n",
    "para usar usar spark.\n",
    "Este texto tiene tiene 4 4 \n",
    "lineas lineas"
   ]
  },
  {
   "cell_type": "code",
   "execution_count": 78,
   "id": "0e9bd3b9",
   "metadata": {},
   "outputs": [
    {
     "data": {
      "text/plain": [
       "4"
      ]
     },
     "execution_count": 78,
     "metadata": {},
     "output_type": "execute_result"
    }
   ],
   "source": [
    "# Conteo de lineas\n",
    "sc.textFile('input.txt').map(lambda x: x.split()).count()"
   ]
  },
  {
   "cell_type": "code",
   "execution_count": 79,
   "id": "46203164",
   "metadata": {},
   "outputs": [
    {
     "data": {
      "text/plain": [
       "18"
      ]
     },
     "execution_count": 79,
     "metadata": {},
     "output_type": "execute_result"
    }
   ],
   "source": [
    "# Conteo de palabras\n",
    "sc.textFile('input.txt').flatMap(lambda x: x.split()).count()"
   ]
  },
  {
   "cell_type": "code",
   "execution_count": 80,
   "id": "c5dace5a",
   "metadata": {},
   "outputs": [
    {
     "name": "stderr",
     "output_type": "stream",
     "text": [
      "                                                                                \r"
     ]
    },
    {
     "data": {
      "text/plain": [
       "[('esto', 2),\n",
       " ('prueba', 1),\n",
       " ('para', 1),\n",
       " ('spark.', 1),\n",
       " ('Este', 1),\n",
       " ('4', 2),\n",
       " ('lineas', 2),\n",
       " ('Hola', 1),\n",
       " ('es', 1),\n",
       " ('una', 1),\n",
       " ('usar', 2),\n",
       " ('texto', 1),\n",
       " ('tiene', 2)]"
      ]
     },
     "execution_count": 80,
     "metadata": {},
     "output_type": "execute_result"
    }
   ],
   "source": [
    "# Conteo de palabras\n",
    "sc.textFile('input.txt').flatMap(lambda x: x.split()).map(lambda word: (word, 1)).reduceByKey(lambda count1, count2: count1 + count2).collect()"
   ]
  },
  {
   "cell_type": "code",
   "execution_count": 81,
   "id": "6dd0250e",
   "metadata": {},
   "outputs": [
    {
     "data": {
      "text/plain": [
       "[['Hola', 'esto', 'esto', 'es', 'una', 'prueba'],\n",
       " ['para', 'usar', 'usar', 'spark.'],\n",
       " ['Este', 'texto', 'tiene', 'tiene', '4', '4'],\n",
       " ['lineas', 'lineas']]"
      ]
     },
     "execution_count": 81,
     "metadata": {},
     "output_type": "execute_result"
    }
   ],
   "source": [
    "# Varias filas de listas\n",
    "sc.textFile('input.txt').map(lambda x: x.split()).collect()"
   ]
  },
  {
   "cell_type": "code",
   "execution_count": 82,
   "id": "6ae4732a",
   "metadata": {},
   "outputs": [
    {
     "data": {
      "text/plain": [
       "['Hola',\n",
       " 'esto',\n",
       " 'esto',\n",
       " 'es',\n",
       " 'una',\n",
       " 'prueba',\n",
       " 'para',\n",
       " 'usar',\n",
       " 'usar',\n",
       " 'spark.',\n",
       " 'Este',\n",
       " 'texto',\n",
       " 'tiene',\n",
       " 'tiene',\n",
       " '4',\n",
       " '4',\n",
       " 'lineas',\n",
       " 'lineas']"
      ]
     },
     "execution_count": 82,
     "metadata": {},
     "output_type": "execute_result"
    }
   ],
   "source": [
    "# Una sola lista\n",
    "sc.textFile('input.txt').flatMap(lambda x: x.split()).collect()"
   ]
  },
  {
   "cell_type": "code",
   "execution_count": 83,
   "id": "a9010e72",
   "metadata": {},
   "outputs": [
    {
     "name": "stdout",
     "output_type": "stream",
     "text": [
      "Overwriting sales.txt\n"
     ]
    }
   ],
   "source": [
    "%%writefile sales.txt\n",
    "#ID     Date         Store      State      Product      Amount\n",
    "101     11/13/2014   100        WA         331          300.00\n",
    "104     11/18/2014   700        OR         329          450.00\n",
    "102     11/15/2014   203        CA         321          200.00\n",
    "106     11/19/2014   202        CA         331          330.00\n",
    "103     11/17/2014   101        WA         373          750.00\n",
    "105     11/19/2014   202        CA         321          200.00"
   ]
  },
  {
   "cell_type": "code",
   "execution_count": 84,
   "id": "6422d9c6",
   "metadata": {},
   "outputs": [
    {
     "data": {
      "text/plain": [
       "['#ID     Date         Store      State      Product      Amount',\n",
       " '101     11/13/2014   100        WA         331          300.00']"
      ]
     },
     "execution_count": 84,
     "metadata": {},
     "output_type": "execute_result"
    }
   ],
   "source": [
    "# Toma las 2 primeras lineas\n",
    "sc.textFile('sales.txt').take(2)"
   ]
  },
  {
   "cell_type": "code",
   "execution_count": 85,
   "id": "bc4d8035",
   "metadata": {},
   "outputs": [
    {
     "data": {
      "text/plain": [
       "['106     11/19/2014   202        CA         331          330.00',\n",
       " '105     11/19/2014   202        CA         321          200.00']"
      ]
     },
     "execution_count": 85,
     "metadata": {},
     "output_type": "execute_result"
    }
   ],
   "source": [
    "# Toma los 2 ID mas altos\n",
    "sc.textFile('sales.txt').top(2)"
   ]
  },
  {
   "cell_type": "code",
   "execution_count": 86,
   "id": "487aa782",
   "metadata": {},
   "outputs": [],
   "source": [
    "# Imprimir las 2 primeras lineas pero obviando la linea que empieza con numeral(#)\n"
   ]
  },
  {
   "cell_type": "code",
   "execution_count": 87,
   "id": "17059d3c",
   "metadata": {},
   "outputs": [
    {
     "data": {
      "text/plain": [
       "['300.00', '450.00']"
      ]
     },
     "execution_count": 87,
     "metadata": {},
     "output_type": "execute_result"
    }
   ],
   "source": [
    "# Traer los 2 primeros Amount\n",
    "sc.textFile('sales.txt').map(lambda x: x.split()).filter(lambda x: not x[0].startswith('#')).map(lambda x: x[-1]).take(2)"
   ]
  },
  {
   "cell_type": "code",
   "execution_count": 88,
   "id": "2e574685",
   "metadata": {},
   "outputs": [
    {
     "data": {
      "text/plain": [
       "2230.0"
      ]
     },
     "execution_count": 88,
     "metadata": {},
     "output_type": "execute_result"
    }
   ],
   "source": [
    "# Suma de todos los Amount\n",
    "sc.textFile('sales.txt').map(lambda x: x.split()).filter(lambda x: not x[0].startswith('#')).map(lambda x: float(x[-1])).sum()"
   ]
  },
  {
   "cell_type": "code",
   "execution_count": 89,
   "id": "bb771862",
   "metadata": {},
   "outputs": [
    {
     "data": {
      "text/plain": [
       "[('CA', 730.0), ('WA', 1050.0), ('OR', 450.0)]"
      ]
     },
     "execution_count": 89,
     "metadata": {},
     "output_type": "execute_result"
    }
   ],
   "source": [
    "# Revenue por state\n",
    "sc.textFile('sales.txt').map(lambda x: x.split()).filter(lambda x: not x[0].startswith('#')).map(lambda x: (x[-3], float(x[-1]))).reduceByKey(lambda amount1, amount2: amount1 + amount2).collect()\n",
    "\n",
    "# Reduce By Key, reduce por llave en este caso actua por tuplas"
   ]
  },
  {
   "cell_type": "code",
   "execution_count": 90,
   "id": "5e5120d6",
   "metadata": {},
   "outputs": [
    {
     "data": {
      "text/plain": [
       "[('WA', 1050.0), ('CA', 730.0), ('OR', 450.0)]"
      ]
     },
     "execution_count": 90,
     "metadata": {},
     "output_type": "execute_result"
    },
    {
     "name": "stderr",
     "output_type": "stream",
     "text": [
      "23/10/24 16:43:27 WARN GarbageCollectionMetrics: To enable non-built-in garbage collector(s) List(G1 Concurrent GC), users should configure it(them) to spark.eventLog.gcMetrics.youngGenerationGarbageCollectors or spark.eventLog.gcMetrics.oldGenerationGarbageCollectors\n"
     ]
    }
   ],
   "source": [
    "# Revenue by state order by total amount\n",
    "sc.textFile('sales.txt').map(lambda x: x.split()).filter(lambda x: not x[0].startswith('#')).map(lambda x: (x[-3], float(x[-1]))).reduceByKey(lambda amount1, amount2: amount1 + amount2).sortBy(lambda state_amount: state_amount[1], ascending= False).collect()"
   ]
  },
  {
   "cell_type": "code",
   "execution_count": 91,
   "id": "077fd5a8",
   "metadata": {},
   "outputs": [],
   "source": [
    "import pyspark.sql.functions as F\n",
    "import pyspark as ps\n",
    "from pyspark import SQLContext"
   ]
  },
  {
   "cell_type": "code",
   "execution_count": 92,
   "id": "97303459",
   "metadata": {},
   "outputs": [
    {
     "name": "stderr",
     "output_type": "stream",
     "text": [
      "23/10/24 17:35:23 WARN SparkSession: Using an existing Spark session; only runtime SQL configurations will take effect.\n"
     ]
    }
   ],
   "source": [
    "spark= ps.sql.SparkSession.builder.master('local[2]').appName('spark-ml').getOrCreate()\n",
    "\n",
    "sc= spark.sparkContext"
   ]
  },
  {
   "cell_type": "code",
   "execution_count": 93,
   "id": "08d99841",
   "metadata": {},
   "outputs": [],
   "source": [
    "sqlContext= SQLContext(sc)"
   ]
  },
  {
   "cell_type": "code",
   "execution_count": 96,
   "id": "a3e46b83",
   "metadata": {},
   "outputs": [
    {
     "name": "stdout",
     "output_type": "stream",
     "text": [
      "+----------+----------+----------+----------+----------+----------+--------+\n",
      "|      Date|      Open|      High|       Low|     Close| Adj Close|  Volume|\n",
      "+----------+----------+----------+----------+----------+----------+--------+\n",
      "|2018-05-09|186.550003|187.399994|185.220001|187.360001|186.640305|23211200|\n",
      "|2018-05-10|187.740005|190.369995|187.649994|190.039993|189.309998|27989300|\n",
      "|2018-05-11|189.490005|190.059998|187.449997|188.589996|188.589996|26212200|\n",
      "|2018-05-14|189.009995|189.529999|187.860001|188.149994|188.149994|20778800|\n",
      "|2018-05-15|186.779999|187.070007|185.100006|186.440002|186.440002|23695200|\n",
      "+----------+----------+----------+----------+----------+----------+--------+\n",
      "only showing top 5 rows\n",
      "\n"
     ]
    }
   ],
   "source": [
    "# Read CSV, use Header, char for quotes, char for separation, do we infer schema or not\n",
    "df_aapl= sqlContext.read.csv('aapl.csv', header= True, quote= '\"', sep= \",\", inferSchema= True)\n",
    "\n",
    "df_aapl.show(5)"
   ]
  },
  {
   "cell_type": "code",
   "execution_count": 97,
   "id": "10fac96b",
   "metadata": {},
   "outputs": [
    {
     "data": {
      "text/plain": [
       "StructType([StructField('Date', DateType(), True), StructField('Open', DoubleType(), True), StructField('High', DoubleType(), True), StructField('Low', DoubleType(), True), StructField('Close', DoubleType(), True), StructField('Adj Close', DoubleType(), True), StructField('Volume', IntegerType(), True)])"
      ]
     },
     "execution_count": 97,
     "metadata": {},
     "output_type": "execute_result"
    }
   ],
   "source": [
    "df_aapl.schema"
   ]
  },
  {
   "cell_type": "code",
   "execution_count": 98,
   "id": "7cbd0f93",
   "metadata": {},
   "outputs": [
    {
     "name": "stdout",
     "output_type": "stream",
     "text": [
      "+----------+----------+\n",
      "|      Date|     Close|\n",
      "+----------+----------+\n",
      "|2018-06-06|193.979996|\n",
      "|2018-06-07|193.460007|\n",
      "|2018-06-05|193.309998|\n",
      "|2018-06-04|191.830002|\n",
      "|2018-06-08|191.699997|\n",
      "+----------+----------+\n",
      "only showing top 5 rows\n",
      "\n"
     ]
    }
   ],
   "source": [
    "df_out= df_aapl.select('Date', 'Close').orderBy('Close', ascending= False)\n",
    "df_out.show(5)"
   ]
  },
  {
   "cell_type": "code",
   "execution_count": 99,
   "id": "5b4da14f",
   "metadata": {},
   "outputs": [],
   "source": [
    "from pyspark.ml.feature import MinMaxScaler, VectorAssembler"
   ]
  },
  {
   "cell_type": "code",
   "execution_count": 103,
   "id": "4bc4374c",
   "metadata": {},
   "outputs": [
    {
     "name": "stdout",
     "output_type": "stream",
     "text": [
      "+----------+----------+----------+----------+----------+----------+--------+\n",
      "|      Date|      Open|      High|       Low|     Close| Adj Close|  Volume|\n",
      "+----------+----------+----------+----------+----------+----------+--------+\n",
      "|2018-05-09|186.550003|187.399994|185.220001|187.360001|186.640305|23211200|\n",
      "|2018-05-10|187.740005|190.369995|187.649994|190.039993|189.309998|27989300|\n",
      "|2018-05-11|189.490005|190.059998|187.449997|188.589996|188.589996|26212200|\n",
      "|2018-05-14|189.009995|189.529999|187.860001|188.149994|188.149994|20778800|\n",
      "|2018-05-15|186.779999|187.070007|185.100006|186.440002|186.440002|23695200|\n",
      "+----------+----------+----------+----------+----------+----------+--------+\n",
      "only showing top 5 rows\n",
      "\n",
      "+----------+----------+----------+----------+----------+----------+--------+------------+\n",
      "|      Date|      Open|      High|       Low|     Close| Adj Close|  Volume|    Features|\n",
      "+----------+----------+----------+----------+----------+----------+--------+------------+\n",
      "|2018-05-09|186.550003|187.399994|185.220001|187.360001|186.640305|23211200|[187.360001]|\n",
      "|2018-05-10|187.740005|190.369995|187.649994|190.039993|189.309998|27989300|[190.039993]|\n",
      "|2018-05-11|189.490005|190.059998|187.449997|188.589996|188.589996|26212200|[188.589996]|\n",
      "|2018-05-14|189.009995|189.529999|187.860001|188.149994|188.149994|20778800|[188.149994]|\n",
      "|2018-05-15|186.779999|187.070007|185.100006|186.440002|186.440002|23695200|[186.440002]|\n",
      "+----------+----------+----------+----------+----------+----------+--------+------------+\n",
      "only showing top 5 rows\n",
      "\n"
     ]
    }
   ],
   "source": [
    "# Assemble values in a vector\n",
    "vectorAssembler= VectorAssembler(inputCols= ['Close'], outputCol= 'Features')\n",
    "\n",
    "df_vector= vectorAssembler.transform(df_aapl)\n",
    "df_aapl.show(5)\n",
    "df_vector.show(5)\n",
    "\n",
    "# Para usar ML se deben de pasar todos los features a vectores"
   ]
  },
  {
   "cell_type": "code",
   "execution_count": 105,
   "id": "ac89f825",
   "metadata": {},
   "outputs": [
    {
     "name": "stdout",
     "output_type": "stream",
     "text": [
      "+------------+--------------------+\n",
      "|    Features|     Scaled Features|\n",
      "+------------+--------------------+\n",
      "|[187.360001]|[0.13689742813492...|\n",
      "|[190.039993]|[0.48630977478742...|\n",
      "|[188.589996]|[0.2972618767306078]|\n",
      "|[188.149994]|[0.23989523856459...|\n",
      "|[186.440002]|[0.01694967847449...|\n",
      "|[188.179993]|[0.24380645210076...|\n",
      "|[186.990005]|[0.08865804137106...|\n",
      "|[186.309998]|               [0.0]|\n",
      "|[187.630005]|[0.17210004487615...|\n",
      "|[187.160004]|[0.11082219317397...|\n",
      "|[188.360001]|[0.26727555861161...|\n",
      "|[188.149994]|[0.23989523856459...|\n",
      "|[188.580002]|[0.2959588776946229]|\n",
      "|[187.899994]|[0.20730070594542...|\n",
      "|     [187.5]|[0.1551502360235288]|\n",
      "+------------+--------------------+\n",
      "only showing top 15 rows\n",
      "\n"
     ]
    }
   ],
   "source": [
    "scaler= MinMaxScaler(inputCol= 'Features', outputCol= 'Scaled Features')\n",
    "\n",
    "# Compute summary statistics and generate MinMaxScalerModel\n",
    "scaler_model= scaler.fit(df_vector)\n",
    "\n",
    "# Rescale each feature to range [min, max]\n",
    "scaled_data= scaler_model.transform(df_vector)\n",
    "scaled_data.select('Features', 'Scaled Features').show(15)"
   ]
  },
  {
   "cell_type": "markdown",
   "id": "e65175c5",
   "metadata": {},
   "source": [
    "### Machine Learning Pipeline"
   ]
  },
  {
   "cell_type": "code",
   "execution_count": 107,
   "id": "d845d4bc",
   "metadata": {},
   "outputs": [],
   "source": [
    "from pyspark.ml import Pipeline\n",
    "from pyspark.ml.classification import LogisticRegression\n",
    "from pyspark.ml.feature import RegexTokenizer, HashingTF\n",
    "\n",
    "# Prepare training documents from a list of (id, text, label) tuples\n",
    "training= spark.createDataFrame([\n",
    "    (0, \"spark is like hadoop mapreduce\", 1.0),\n",
    "    (1, \"spark light fire!!!\", 0.0),\n",
    "    (2, \"elephants like simba\", 0.0),\n",
    "    (3, \"hadoop is an elephant\", 1.0),\n",
    "    (4, \"hadoop mapreduce\", 1.0)\n",
    "], ['id', 'text', 'label'])"
   ]
  },
  {
   "cell_type": "code",
   "execution_count": 108,
   "id": "15ea0f1d",
   "metadata": {},
   "outputs": [
    {
     "name": "stdout",
     "output_type": "stream",
     "text": [
      "+---+--------------------+-----+\n",
      "| id|                text|label|\n",
      "+---+--------------------+-----+\n",
      "|  0|spark is like had...|  1.0|\n",
      "|  1| spark light fire!!!|  0.0|\n",
      "|  2|elephants like simba|  0.0|\n",
      "|  3|hadoop is an elep...|  1.0|\n",
      "|  4|    hadoop mapreduce|  1.0|\n",
      "+---+--------------------+-----+\n",
      "\n"
     ]
    }
   ],
   "source": [
    "training.show()"
   ]
  },
  {
   "cell_type": "code",
   "execution_count": 109,
   "id": "9e94cc71",
   "metadata": {},
   "outputs": [
    {
     "name": "stderr",
     "output_type": "stream",
     "text": [
      "23/10/24 19:14:01 WARN InstanceBuilder: Failed to load implementation from:dev.ludovic.netlib.blas.JNIBLAS\n",
      "23/10/24 19:14:01 WARN InstanceBuilder: Failed to load implementation from:dev.ludovic.netlib.blas.VectorBLAS\n"
     ]
    }
   ],
   "source": [
    "regexTokenizer= RegexTokenizer(inputCol= 'text', outputCol= 'tokens', pattern= '\\\\W')  # Value of pattern refer to white spaces\n",
    "hashing_tf= HashingTF(inputCol= 'tokens', outputCol= 'features')\n",
    "lr= LogisticRegression(maxIter= 10, regParam= 0.001)\n",
    "\n",
    "tokens= regexTokenizer.transform(training)\n",
    "hashes= hashing_tf.transform(tokens)\n",
    "logistic_model= lr.fit(hashes) # Uses columns named features/label by default"
   ]
  },
  {
   "cell_type": "code",
   "execution_count": 110,
   "id": "f3b071d4",
   "metadata": {},
   "outputs": [],
   "source": [
    "test= spark.createDataFrame([\n",
    "    (5, \"simba has a spark\"),\n",
    "    (6, \"hadoop\"),\n",
    "    (7, \"mapreduce in spark\"),\n",
    "    (8, \"apache hadoop\")\n",
    "], ['id', 'text'])"
   ]
  },
  {
   "cell_type": "code",
   "execution_count": 111,
   "id": "b4346f30",
   "metadata": {},
   "outputs": [
    {
     "name": "stdout",
     "output_type": "stream",
     "text": [
      "+------------------+----------+--------------------+\n",
      "|              text|prediction|         probability|\n",
      "+------------------+----------+--------------------+\n",
      "| simba has a spark|       0.0|[0.97028391175183...|\n",
      "|            hadoop|       1.0|[0.04044539620506...|\n",
      "|mapreduce in spark|       1.0|[0.13255280635740...|\n",
      "|     apache hadoop|       1.0|[0.04044539620506...|\n",
      "+------------------+----------+--------------------+\n",
      "\n"
     ]
    }
   ],
   "source": [
    "# What do we need to do this to get a prediction?\n",
    "preds= logistic_model.transform(hashing_tf.transform(regexTokenizer.transform(test)))\n",
    "preds.select('text', 'prediction', 'probability').show()"
   ]
  }
 ],
 "metadata": {
  "kernelspec": {
   "display_name": "Python 3 (ipykernel)",
   "language": "python",
   "name": "python3"
  },
  "language_info": {
   "codemirror_mode": {
    "name": "ipython",
    "version": 3
   },
   "file_extension": ".py",
   "mimetype": "text/x-python",
   "name": "python",
   "nbconvert_exporter": "python",
   "pygments_lexer": "ipython3",
   "version": "3.10.9"
  }
 },
 "nbformat": 4,
 "nbformat_minor": 5
}
