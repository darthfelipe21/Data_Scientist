{
  "nbformat": 4,
  "nbformat_minor": 0,
  "metadata": {
    "colab": {
      "provenance": [],
      "authorship_tag": "ABX9TyMPq5/GlX2OEadTehVEgCoD",
      "include_colab_link": true
    },
    "kernelspec": {
      "name": "python3",
      "display_name": "Python 3"
    },
    "language_info": {
      "name": "python"
    }
  },
  "cells": [
    {
      "cell_type": "markdown",
      "metadata": {
        "id": "view-in-github",
        "colab_type": "text"
      },
      "source": [
        "<a href=\"https://colab.research.google.com/github/darthfelipe21/Data_Scientist/blob/main/Electric_bikes_project.ipynb\" target=\"_parent\"><img src=\"https://colab.research.google.com/assets/colab-badge.svg\" alt=\"Open In Colab\"/></a>"
      ]
    },
    {
      "cell_type": "code",
      "execution_count": null,
      "metadata": {
        "id": "EFJQsMjbg3_1"
      },
      "outputs": [],
      "source": [
        "# Importing all the necessary libraries\n",
        "import pandas as pd\n",
        "import numpy as np\n",
        "import matplotlib.pyplot as plt\n",
        "import seaborn as sns\n",
        "import scipy.stats as stats\n",
        "from sklearn.preprocessing import StandardScaler, Normalizer, normalize, LabelEncoder\n",
        "from sklearn.impute import SimpleImputer\n",
        "from sklearn.pipeline import Pipeline, make_pipeline\n",
        "from sklearn.metrics import mean_squared_error, classification_report, roc_curve, roc_auc_score, accuracy_score\n",
        "from sklearn.model_selection import train_test_split, GridSearchCV, cross_val_score, KFold\n",
        "from sklearn.linear_model import LogisticRegression\n",
        "from sklearn.ensemble import RandomForestClassifier\n",
        "\n",
        "\n",
        "import warnings\n",
        "warnings.filterwarnings('ignore')"
      ]
    },
    {
      "cell_type": "code",
      "source": [
        "# Import Data and create Dataframe\n",
        "df= pd.read_csv('/content/electric_bike_ratings_2212.csv')"
      ],
      "metadata": {
        "id": "W1HuzXHFkETB"
      },
      "execution_count": null,
      "outputs": []
    },
    {
      "cell_type": "code",
      "source": [
        "# Print firsts rows and shape of the dataframe\n",
        "print(df.head())\n",
        "print(df.shape)"
      ],
      "metadata": {
        "colab": {
          "base_uri": "https://localhost:8080/"
        },
        "id": "iQGYHfT0kTIx",
        "outputId": "93d08e94-349c-41b4-da59-91cc445f113c"
      },
      "execution_count": null,
      "outputs": [
        {
          "output_type": "stream",
          "name": "stdout",
          "text": [
            "   owned     make_model review_month web_browser reviewer_age primary_use  \\\n",
            "0      1   Nielah-Eyden          Oct      Chrome           23   Commuting   \n",
            "1      0  Nielah-Keetra          Jun         NaN           24   Commuting   \n",
            "2      0   Lunna-Keetra       23-Oct      Chrome           28   Commuting   \n",
            "3      1   Hoang-Keetra       07-Nov          IE           41     Leisure   \n",
            "4      1   Lunna-Keetra       16-Sep      Chrome           33     Leisure   \n",
            "\n",
            "  value_for_money  overall_rating  \n",
            "0            5/10           18.62  \n",
            "1            4/10           15.55  \n",
            "2            5/10           12.76  \n",
            "3            5/10           17.07  \n",
            "4            5/10           12.29  \n",
            "(1500, 8)\n"
          ]
        }
      ]
    },
    {
      "cell_type": "code",
      "source": [
        "# Transform columns review_month to date type\n",
        "df['month_of_review'] = df['review_month'].apply(lambda months: months.split('-')[1] if '-' in months else months)\n",
        "df= df.drop('review_month', axis=1)\n",
        "df['month_of_review'] = pd.to_datetime(df['month_of_review'], format='%b', errors='coerce').dt.to_period('M').dt.strftime('%b')\n",
        "print(df)"
      ],
      "metadata": {
        "colab": {
          "base_uri": "https://localhost:8080/"
        },
        "id": "SdImNxJ5lcY8",
        "outputId": "be3c8701-9d1b-4021-97a0-68edfc55ea4b"
      },
      "execution_count": null,
      "outputs": [
        {
          "output_type": "stream",
          "name": "stdout",
          "text": [
            "      owned     make_model web_browser reviewer_age primary_use  \\\n",
            "0         1   Nielah-Eyden      Chrome           23   Commuting   \n",
            "1         0  Nielah-Keetra         NaN           24   Commuting   \n",
            "2         0   Lunna-Keetra      Chrome           28   Commuting   \n",
            "3         1   Hoang-Keetra          IE           41     Leisure   \n",
            "4         1   Lunna-Keetra      Chrome           33     Leisure   \n",
            "...     ...            ...         ...          ...         ...   \n",
            "1495      1   Nielah-Eyden      Chrome            -     Leisure   \n",
            "1496      1   Nielah-Eyden         NaN           39   Commuting   \n",
            "1497      1   Nielah-Eyden      Chrome           21   Commuting   \n",
            "1498      0   Nielah-Eyden      Safari           45   Commuting   \n",
            "1499      1    Hoang-Eyden          IE           37     Leisure   \n",
            "\n",
            "     value_for_money  overall_rating month_of_review  \n",
            "0               5/10           18.62             Oct  \n",
            "1               4/10           15.55             Jun  \n",
            "2               5/10           12.76             Oct  \n",
            "3               5/10           17.07             Nov  \n",
            "4               5/10           12.29             Sep  \n",
            "...              ...             ...             ...  \n",
            "1495            6/10           18.76             May  \n",
            "1496            5/10           18.56             Mar  \n",
            "1497            8/10           20.22             Nov  \n",
            "1498            3/10           18.51             Nov  \n",
            "1499            3/10           20.47             Jul  \n",
            "\n",
            "[1500 rows x 8 columns]\n"
          ]
        }
      ]
    },
    {
      "cell_type": "code",
      "source": [
        "# Print all nulls\n",
        "df.isnull().sum()"
      ],
      "metadata": {
        "colab": {
          "base_uri": "https://localhost:8080/"
        },
        "id": "vZTsYW-dkgvN",
        "outputId": "0e55966c-0d29-4881-aa97-b9696264b090"
      },
      "execution_count": null,
      "outputs": [
        {
          "output_type": "execute_result",
          "data": {
            "text/plain": [
              "owned                0\n",
              "make_model           0\n",
              "web_browser        150\n",
              "reviewer_age         0\n",
              "primary_use          0\n",
              "value_for_money      0\n",
              "overall_rating       0\n",
              "month_of_review      0\n",
              "dtype: int64"
            ]
          },
          "metadata": {},
          "execution_count": 37
        }
      ]
    },
    {
      "cell_type": "code",
      "source": [
        "# Fill null values with \"unkown\"\n",
        "df['web_browser'].fillna('unknown', inplace=True)"
      ],
      "metadata": {
        "id": "Sdccijut8gvi"
      },
      "execution_count": null,
      "outputs": []
    },
    {
      "cell_type": "code",
      "source": [
        "df.reviewer_age.sort_values().value_counts()"
      ],
      "metadata": {
        "colab": {
          "base_uri": "https://localhost:8080/"
        },
        "id": "w8w4XdZj83W-",
        "outputId": "466a1507-9303-40b2-9368-0664e15b3840"
      },
      "execution_count": null,
      "outputs": [
        {
          "output_type": "execute_result",
          "data": {
            "text/plain": [
              "-     105\n",
              "19     52\n",
              "41     51\n",
              "45     50\n",
              "44     46\n",
              "18     46\n",
              "20     46\n",
              "17     45\n",
              "37     45\n",
              "39     45\n",
              "30     45\n",
              "40     45\n",
              "16     43\n",
              "23     43\n",
              "48     42\n",
              "46     41\n",
              "21     41\n",
              "22     40\n",
              "36     39\n",
              "33     39\n",
              "26     39\n",
              "24     39\n",
              "27     38\n",
              "25     38\n",
              "42     37\n",
              "47     37\n",
              "31     36\n",
              "28     36\n",
              "43     36\n",
              "29     35\n",
              "50     33\n",
              "34     32\n",
              "35     31\n",
              "32     30\n",
              "38     28\n",
              "49     26\n",
              "Name: reviewer_age, dtype: int64"
            ]
          },
          "metadata": {},
          "execution_count": 39
        }
      ]
    },
    {
      "cell_type": "code",
      "source": [
        "# Change the values no numeric from 'reviewer_age' to mean_age\n",
        "mean_age= []\n",
        "\n",
        "df['reviewer_age']= df['reviewer_age'].replace('-', 0).astype(int)\n",
        "\n",
        "for _, n in df['reviewer_age'].items():\n",
        "  if  n != 0 :\n",
        "    mean_age.append(n)\n",
        "\n",
        "mean_age= np.mean(mean_age).astype(int)\n",
        "\n",
        "df['reviewer_age']= df['reviewer_age'].replace(0, mean_age).astype(int)\n",
        "\n",
        "df.reviewer_age.sort_values().value_counts()"
      ],
      "metadata": {
        "colab": {
          "base_uri": "https://localhost:8080/"
        },
        "id": "FGwgZDC2AwA0",
        "outputId": "b140acde-d201-4461-eeff-88885bdb50f3"
      },
      "execution_count": null,
      "outputs": [
        {
          "output_type": "execute_result",
          "data": {
            "text/plain": [
              "32    135\n",
              "19     52\n",
              "41     51\n",
              "45     50\n",
              "18     46\n",
              "20     46\n",
              "44     46\n",
              "37     45\n",
              "17     45\n",
              "39     45\n",
              "30     45\n",
              "40     45\n",
              "16     43\n",
              "23     43\n",
              "48     42\n",
              "21     41\n",
              "46     41\n",
              "22     40\n",
              "36     39\n",
              "33     39\n",
              "26     39\n",
              "24     39\n",
              "27     38\n",
              "25     38\n",
              "42     37\n",
              "47     37\n",
              "31     36\n",
              "28     36\n",
              "43     36\n",
              "29     35\n",
              "50     33\n",
              "34     32\n",
              "35     31\n",
              "38     28\n",
              "49     26\n",
              "Name: reviewer_age, dtype: int64"
            ]
          },
          "metadata": {},
          "execution_count": 40
        }
      ]
    },
    {
      "cell_type": "code",
      "source": [
        "# Standarize column 'value_for_money'\n",
        "df['cost-effectiveness'] = df['value_for_money'].apply(lambda score: score.split('/')[0] if '/' in score else score)\n",
        "df= df.drop('value_for_money', axis=1)\n",
        "df['cost-effectiveness'].value_counts()"
      ],
      "metadata": {
        "colab": {
          "base_uri": "https://localhost:8080/"
        },
        "id": "_GejNC9MO8F4",
        "outputId": "bfc03a5b-9815-4571-b670-884e9f3275d5"
      },
      "execution_count": null,
      "outputs": [
        {
          "output_type": "execute_result",
          "data": {
            "text/plain": [
              "5     387\n",
              "6     323\n",
              "4     315\n",
              "3     183\n",
              "7     167\n",
              "2      53\n",
              "8      52\n",
              "1      11\n",
              "9       8\n",
              "10      1\n",
              "Name: cost-effectiveness, dtype: int64"
            ]
          },
          "metadata": {},
          "execution_count": 41
        }
      ]
    },
    {
      "cell_type": "code",
      "source": [
        "# Checking that all values ​​are as description\n",
        "for col in df:\n",
        "  print('Column name:','\\n', col)\n",
        "  print('Count of values:','\\n', df[col].value_counts(),'\\n')"
      ],
      "metadata": {
        "colab": {
          "base_uri": "https://localhost:8080/"
        },
        "id": "3egz0Y4LKFZ9",
        "outputId": "86fb8d92-9356-4260-81ee-91438eaba18d"
      },
      "execution_count": null,
      "outputs": [
        {
          "output_type": "stream",
          "name": "stdout",
          "text": [
            "Column name: \n",
            " owned\n",
            "Count of values: \n",
            " 1    890\n",
            "0    610\n",
            "Name: owned, dtype: int64 \n",
            "\n",
            "Column name: \n",
            " make_model\n",
            "Count of values: \n",
            " Nielah-Eyden     652\n",
            "Lunna-Eyden      329\n",
            "Lunna-Keetra     178\n",
            "Hoang-Keetra     124\n",
            "Hoang-Eyden      124\n",
            "Nielah-Keetra     93\n",
            "Name: make_model, dtype: int64 \n",
            "\n",
            "Column name: \n",
            " web_browser\n",
            "Count of values: \n",
            " Chrome     698\n",
            "IE         239\n",
            "Firefox    233\n",
            "unknown    150\n",
            "Safari     133\n",
            "Opera       24\n",
            "Android     23\n",
            "Name: web_browser, dtype: int64 \n",
            "\n",
            "Column name: \n",
            " reviewer_age\n",
            "Count of values: \n",
            " 32    135\n",
            "19     52\n",
            "41     51\n",
            "45     50\n",
            "18     46\n",
            "44     46\n",
            "20     46\n",
            "40     45\n",
            "17     45\n",
            "37     45\n",
            "30     45\n",
            "39     45\n",
            "16     43\n",
            "23     43\n",
            "48     42\n",
            "21     41\n",
            "46     41\n",
            "22     40\n",
            "36     39\n",
            "33     39\n",
            "24     39\n",
            "26     39\n",
            "25     38\n",
            "27     38\n",
            "42     37\n",
            "47     37\n",
            "43     36\n",
            "28     36\n",
            "31     36\n",
            "29     35\n",
            "50     33\n",
            "34     32\n",
            "35     31\n",
            "38     28\n",
            "49     26\n",
            "Name: reviewer_age, dtype: int64 \n",
            "\n",
            "Column name: \n",
            " primary_use\n",
            "Count of values: \n",
            " Commuting    1095\n",
            "Leisure       405\n",
            "Name: primary_use, dtype: int64 \n",
            "\n",
            "Column name: \n",
            " overall_rating\n",
            "Count of values: \n",
            " 18.62    10\n",
            "18.63    10\n",
            "18.77    10\n",
            "18.88    10\n",
            "18.51    10\n",
            "         ..\n",
            "17.71     1\n",
            "17.15     1\n",
            "17.93     1\n",
            "20.20     1\n",
            "19.79     1\n",
            "Name: overall_rating, Length: 583, dtype: int64 \n",
            "\n",
            "Column name: \n",
            " month_of_review\n",
            "Count of values: \n",
            " Sep    141\n",
            "Mar    141\n",
            "May    138\n",
            "Nov    126\n",
            "Jan    126\n",
            "Oct    125\n",
            "Jun    124\n",
            "Apr    123\n",
            "Dec    117\n",
            "Feb    115\n",
            "Aug    114\n",
            "Jul    110\n",
            "Name: month_of_review, dtype: int64 \n",
            "\n",
            "Column name: \n",
            " cost-effectiveness\n",
            "Count of values: \n",
            " 5     387\n",
            "6     323\n",
            "4     315\n",
            "3     183\n",
            "7     167\n",
            "2      53\n",
            "8      52\n",
            "1      11\n",
            "9       8\n",
            "10      1\n",
            "Name: cost-effectiveness, dtype: int64 \n",
            "\n"
          ]
        }
      ]
    },
    {
      "cell_type": "code",
      "source": [
        "df.info()"
      ],
      "metadata": {
        "colab": {
          "base_uri": "https://localhost:8080/"
        },
        "id": "ATyZla-7RbB6",
        "outputId": "5c76baab-0db9-481c-c8d9-a8ce367d2bca"
      },
      "execution_count": null,
      "outputs": [
        {
          "output_type": "stream",
          "name": "stdout",
          "text": [
            "<class 'pandas.core.frame.DataFrame'>\n",
            "RangeIndex: 1500 entries, 0 to 1499\n",
            "Data columns (total 8 columns):\n",
            " #   Column              Non-Null Count  Dtype  \n",
            "---  ------              --------------  -----  \n",
            " 0   owned               1500 non-null   int64  \n",
            " 1   make_model          1500 non-null   object \n",
            " 2   web_browser         1500 non-null   object \n",
            " 3   reviewer_age        1500 non-null   int64  \n",
            " 4   primary_use         1500 non-null   object \n",
            " 5   overall_rating      1500 non-null   float64\n",
            " 6   month_of_review     1500 non-null   object \n",
            " 7   cost-effectiveness  1500 non-null   object \n",
            "dtypes: float64(1), int64(2), object(5)\n",
            "memory usage: 93.9+ KB\n"
          ]
        }
      ]
    },
    {
      "cell_type": "code",
      "source": [
        "# Make a count plot to show reviews from owners and not owners\n",
        "sns.countplot(data= df, y= 'owned', hue= 'make_model').set_title('Reviews from owners and non-owners')\n",
        "\n",
        "# Get the axes object\n",
        "ax = plt.gca()\n",
        "\n",
        "# Changing names from axes y\n",
        "changing_names = ['non-owners', 'owners']\n",
        "ax.set_yticklabels(changing_names)"
      ],
      "metadata": {
        "colab": {
          "base_uri": "https://localhost:8080/",
          "height": 489
        },
        "id": "cwneZLKNfCbD",
        "outputId": "42206799-8534-4ba9-d9b4-72fe01030beb"
      },
      "execution_count": null,
      "outputs": [
        {
          "output_type": "execute_result",
          "data": {
            "text/plain": [
              "[Text(0, 0, 'non-owners'), Text(0, 1, 'owners')]"
            ]
          },
          "metadata": {},
          "execution_count": 44
        },
        {
          "output_type": "display_data",
          "data": {
            "text/plain": [
              "<Figure size 640x480 with 1 Axes>"
            ],
            "image/png": "[encoded data removed]"
          },
          "metadata": {}
        }
      ]
    },
    {
      "cell_type": "markdown",
      "source": [
        "As can be seen in the graph, in at least 4 out of the 6 models, there is a higher number of reviews from owners than from non-owners, especially in the 'Nielah-Eyden' model, where at least two-thirds of the reviews come directly from owners.\n",
        "\n",
        "We can conclude, for now:\n",
        "\n",
        "1. The 'Lunna-Keetra' and 'Lunna-Eyden' models have more reviews from non-owners, while the 'Nielah-Eyden', 'Nielah-Keetra', 'Hoang-Keetra', and 'Hoang-Eyden' models have more reviews from owners.\n",
        "2. The 'Nielah-Eyden' model has the highest overall number of reviews, both from owners and non-owners.\n",
        "3. Due to the fact that the opinions of the owners are higher in 4 of the 6 models, the distribution tends to be unbalanced, less so for the 'Nielah-Keetra' model."
      ],
      "metadata": {
        "id": "x3JQ7IxljtuQ"
      }
    },
    {
      "cell_type": "code",
      "source": [
        "# Difference between owners and non-owners\n",
        "df['owned'].value_counts()"
      ],
      "metadata": {
        "id": "UOv7fAhqof1J",
        "colab": {
          "base_uri": "https://localhost:8080/"
        },
        "outputId": "1d96303e-ea61-42da-a4cc-4f394af1eab5"
      },
      "execution_count": null,
      "outputs": [
        {
          "output_type": "execute_result",
          "data": {
            "text/plain": [
              "1    890\n",
              "0    610\n",
              "Name: owned, dtype: int64"
            ]
          },
          "metadata": {},
          "execution_count": 45
        }
      ]
    },
    {
      "cell_type": "code",
      "source": [
        "# Plot Overall Rating Distribution\n",
        "fig, (ax0, ax1)= plt.subplots(nrows= 1, ncols=2, figsize=(7,4))\n",
        "\n",
        "# Making a Histogram and a Boxplot\n",
        "sns.histplot(df['overall_rating'], ax= ax0, bins=range(0,26))\n",
        "sns.boxplot(df['overall_rating'], ax= ax1)\n",
        "\n",
        "# Parameter for the axis\n",
        "ax0.set(xlabel='Overall Rating')\n",
        "ax1.set(xlabel='Overall Rating')\n",
        "ax1.set_xticklabels(['Rating'])\n",
        "plt.suptitle('Overall Rating Distribution')"
      ],
      "metadata": {
        "colab": {
          "base_uri": "https://localhost:8080/",
          "height": 445
        },
        "id": "o9gBx065BktU",
        "outputId": "1a952b54-89db-4d5b-a1e2-2f4fb641d54d"
      },
      "execution_count": null,
      "outputs": [
        {
          "output_type": "execute_result",
          "data": {
            "text/plain": [
              "Text(0.5, 0.98, 'Overall Rating Distribution')"
            ]
          },
          "metadata": {},
          "execution_count": 46
        },
        {
          "output_type": "display_data",
          "data": {
            "text/plain": [
              "<Figure size 700x400 with 2 Axes>"
            ],
            "image/png": "[encoded data removed]"
          },
          "metadata": {}
        }
      ]
    },
    {
      "cell_type": "code",
      "source": [
        "# Compute de median and the mean of overall_rating\n",
        "print('Median of rating: ', np.median(df['overall_rating']))\n",
        "print('Mean of rating: ', round(np.mean(df['overall_rating']), 2))"
      ],
      "metadata": {
        "colab": {
          "base_uri": "https://localhost:8080/"
        },
        "id": "WUXNGsrB4Deo",
        "outputId": "251f51e1-0f23-49f1-cd68-eecea6fff7b2"
      },
      "execution_count": null,
      "outputs": [
        {
          "output_type": "stream",
          "name": "stdout",
          "text": [
            "Median of rating:  18.24\n",
            "Mean of rating:  17.14\n"
          ]
        }
      ]
    },
    {
      "cell_type": "markdown",
      "source": [
        "Based on the graphs, there seems to be a distribution with a left skew, and as we can observe in the calculations of mean and median, the mean tends to be slightly lower than the median.\n",
        "\n",
        "To certify or corroborate this information, we will evaluate the coefficients of Pearson and Fisher skewness."
      ],
      "metadata": {
        "id": "oHo3cbMC29dD"
      }
    },
    {
      "cell_type": "code",
      "source": [
        "# Calculate the Pearson asymmetry coefficient\n",
        "coef_pearson = stats.skew(df['overall_rating'])\n",
        "\n",
        "# Print Results\n",
        "print(\"Pearson asymmetry coefficient:\", coef_pearson)"
      ],
      "metadata": {
        "colab": {
          "base_uri": "https://localhost:8080/"
        },
        "id": "DsUCaEjQDhJf",
        "outputId": "3dc72d8f-0653-48f7-cc60-f7f321e294f7"
      },
      "execution_count": null,
      "outputs": [
        {
          "output_type": "stream",
          "name": "stdout",
          "text": [
            "Pearson asymmetry coefficient: -0.5901576982135008\n"
          ]
        }
      ]
    },
    {
      "cell_type": "markdown",
      "source": [
        "With this calculation, we can conclude that since the Pearson skewness coefficient is -0.5901576982135008, there is indeed a negative skew in the distribution of the data. This is consistent with the interpretation of the previous graphs."
      ],
      "metadata": {
        "id": "12pUgDaL8l1c"
      }
    },
    {
      "cell_type": "code",
      "source": [
        "# Plot relationship between owned and overall_rating\n",
        "sns.boxplot(x=df['owned'], y=df['overall_rating'])\n",
        "plt.xlabel('Ownership')\n",
        "plt.ylabel('Overall Rating')\n",
        "plt.title('Relationship between Ownership and Overall Rating')\n",
        "plt.xticks([0, 1], ['Non-owners', 'Owners'])\n",
        "\n",
        "# Show the plot\n",
        "plt.show()"
      ],
      "metadata": {
        "colab": {
          "base_uri": "https://localhost:8080/",
          "height": 472
        },
        "id": "lr4qBqP99kdr",
        "outputId": "986b998e-3d9c-41cc-dcf8-ece480a47d28"
      },
      "execution_count": null,
      "outputs": [
        {
          "output_type": "display_data",
          "data": {
            "text/plain": [
              "<Figure size 640x480 with 1 Axes>"
            ],
            "image/png": "[encoded data removed]"
          },
          "metadata": {}
        }
      ]
    },
    {
      "cell_type": "markdown",
      "source": [
        "Based on the provided information, it can be observed that there is a stronger relationship between higher ratings and ownership. In fact, there are more outliers below the lower whisker for non-owners, and the median is higher than the upper quartile (Q3) for the ratings of non-owners.\n",
        "\n",
        "Based on the box plot analysis of this data for owners and non-owners, it can be concluded that a larger proportion of positive ratings comes from owners. This conclusion is supported by the presence of more outliers and a higher median for owners, suggesting that non-owners tend to have lower overall ratings compared to owners."
      ],
      "metadata": {
        "id": "__yTLyGtK1Vs"
      }
    },
    {
      "cell_type": "markdown",
      "source": [
        "### **Classification**\n",
        "\n",
        "In this case, the two categories are \"owner\" and \"non-owner,\" and the task is to classify each review into one of these categories."
      ],
      "metadata": {
        "id": "2dhFH1FWRFxu"
      }
    },
    {
      "cell_type": "code",
      "source": [
        "\n",
        "encoded_data = pd.get_dummies(df[['primary_use', 'web_browser', 'make_model']])\n",
        "\n",
        "# Combinar el dataframe codificado con el dataframe original\n",
        "data_encoded = pd.concat([df, encoded_data], axis=1)\n",
        "data_encoded= data_encoded.drop(['primary_use', 'web_browser', 'make_model'], axis=1)\n",
        "data_encoded['cost-effectiveness']= data_encoded['cost-effectiveness'].astype(int)"
      ],
      "metadata": {
        "id": "eech0-Xtd8Qv"
      },
      "execution_count": null,
      "outputs": []
    },
    {
      "cell_type": "code",
      "source": [
        "print(data_encoded.info())"
      ],
      "metadata": {
        "colab": {
          "base_uri": "https://localhost:8080/"
        },
        "id": "img952rk9uUU",
        "outputId": "9e697615-1ace-4ea5-bb5c-81e20755d9c8"
      },
      "execution_count": null,
      "outputs": [
        {
          "output_type": "stream",
          "name": "stdout",
          "text": [
            "<class 'pandas.core.frame.DataFrame'>\n",
            "RangeIndex: 1500 entries, 0 to 1499\n",
            "Data columns (total 20 columns):\n",
            " #   Column                    Non-Null Count  Dtype  \n",
            "---  ------                    --------------  -----  \n",
            " 0   owned                     1500 non-null   int64  \n",
            " 1   reviewer_age              1500 non-null   int64  \n",
            " 2   overall_rating            1500 non-null   float64\n",
            " 3   month_of_review           1500 non-null   object \n",
            " 4   cost-effectiveness        1500 non-null   int64  \n",
            " 5   primary_use_Commuting     1500 non-null   uint8  \n",
            " 6   primary_use_Leisure       1500 non-null   uint8  \n",
            " 7   web_browser_Android       1500 non-null   uint8  \n",
            " 8   web_browser_Chrome        1500 non-null   uint8  \n",
            " 9   web_browser_Firefox       1500 non-null   uint8  \n",
            " 10  web_browser_IE            1500 non-null   uint8  \n",
            " 11  web_browser_Opera         1500 non-null   uint8  \n",
            " 12  web_browser_Safari        1500 non-null   uint8  \n",
            " 13  web_browser_unknown       1500 non-null   uint8  \n",
            " 14  make_model_Hoang-Eyden    1500 non-null   uint8  \n",
            " 15  make_model_Hoang-Keetra   1500 non-null   uint8  \n",
            " 16  make_model_Lunna-Eyden    1500 non-null   uint8  \n",
            " 17  make_model_Lunna-Keetra   1500 non-null   uint8  \n",
            " 18  make_model_Nielah-Eyden   1500 non-null   uint8  \n",
            " 19  make_model_Nielah-Keetra  1500 non-null   uint8  \n",
            "dtypes: float64(1), int64(3), object(1), uint8(15)\n",
            "memory usage: 80.7+ KB\n",
            "None\n"
          ]
        }
      ]
    },
    {
      "cell_type": "code",
      "source": [
        "# Split the data in features (X) and target (y)\n",
        "X= data_encoded.drop(['owned', 'month_of_review'], axis= 1).values\n",
        "y= data_encoded['owned'].values.reshape(-1,1)"
      ],
      "metadata": {
        "id": "BIS0nGzaPGa2"
      },
      "execution_count": null,
      "outputs": []
    },
    {
      "cell_type": "code",
      "source": [
        "# Applying train test split to the features and target\n",
        "X_train, X_test, y_train, y_test= train_test_split(X, y, test_size= 0.3, random_state= 10)"
      ],
      "metadata": {
        "id": "WC5tKzpVcnn5"
      },
      "execution_count": null,
      "outputs": []
    },
    {
      "cell_type": "code",
      "source": [
        "# Instantiating a LogisticRegression Model\n",
        "logreg= LogisticRegression()\n",
        "\n",
        "# Fit model\n",
        "logreg.fit(X_train, y_train)\n",
        "\n",
        "# Predict test set labels\n",
        "y_pred_lr= logreg.predict(X_test)\n",
        "accuracy_lr= accuracy_score(y_test, y_pred_lr)\n",
        "\n",
        "# Compute the score\n",
        "print('Accuracy with default params= ', accuracy_lr)"
      ],
      "metadata": {
        "colab": {
          "base_uri": "https://localhost:8080/"
        },
        "id": "xoP083_ryI8r",
        "outputId": "ade59223-1c69-4b3d-fd86-665e8c37fe0a"
      },
      "execution_count": null,
      "outputs": [
        {
          "output_type": "stream",
          "name": "stdout",
          "text": [
            "Accuracy with default params=  0.7533333333333333\n"
          ]
        }
      ]
    },
    {
      "cell_type": "code",
      "source": [
        "# Trying LogisticRegression adjusting some params\n",
        "params = {'solver': ['liblinear', 'newton-cg'], \"penalty\": [\"l1\", \"l2\"],\"tol\": [0.001, 0.01, 0.1, 1], \"C\": np.linspace(0.1, 1.0, 4), \"class_weight\": [\"balanced\",{0:0.8, 1:0.2}]}\n",
        "\n",
        "# Instantiate GridSearchCV\n",
        "lr_cv= GridSearchCV(logreg, params, cv=10)\n",
        "\n",
        "# Fit lr_cv\n",
        "lr_cv.fit(X_train, y_train)\n",
        "\n",
        "# Predict test set labels\n",
        "y_pred_lg1= lr_cv.predict(X_test)\n",
        "\n",
        "# Computing best_params and best_score\n",
        "print('Best params: ', lr_cv.best_params_)\n",
        "print('Best score: ', lr_cv.best_score_)"
      ],
      "metadata": {
        "colab": {
          "base_uri": "https://localhost:8080/"
        },
        "id": "yz8U9ssWS6wG",
        "outputId": "188c4ce2-f156-46bd-aeaf-417127471ac3"
      },
      "execution_count": null,
      "outputs": [
        {
          "output_type": "stream",
          "name": "stdout",
          "text": [
            "Best params:  {'C': 0.1, 'class_weight': 'balanced', 'penalty': 'l2', 'solver': 'newton-cg', 'tol': 1}\n",
            "Best score:  0.7504761904761905\n"
          ]
        }
      ]
    },
    {
      "cell_type": "markdown",
      "source": [
        "**After conducting two tests with the logistic regression model, one using the default hyperparameters and another with 10 iterations using GridSearchCV, it was decided to keep the default parameters due to their slightly better performance.**"
      ],
      "metadata": {
        "id": "jtofruPtZxoa"
      }
    },
    {
      "cell_type": "code",
      "source": [
        "# Fit a Random Forest Classifier as the comparison model\n",
        "model = RandomForestClassifier()\n",
        "model.fit(X_train, y_train)\n",
        "\n",
        "# Predict the labels for the test data\n",
        "y_pred_rf = model.predict(X_test)\n",
        "accuracy_rf= accuracy_score(y_test, y_pred_rf)\n",
        "\n",
        "# Compute the score\n",
        "print('Accuracy with default params= ', accuracy_rf)"
      ],
      "metadata": {
        "colab": {
          "base_uri": "https://localhost:8080/"
        },
        "id": "9G03Qg1K_7Mt",
        "outputId": "5834262d-723d-4919-d185-4c67cd8837d5"
      },
      "execution_count": null,
      "outputs": [
        {
          "output_type": "stream",
          "name": "stdout",
          "text": [
            "Accuracy with default params=  0.7311111111111112\n"
          ]
        }
      ]
    },
    {
      "cell_type": "code",
      "source": [
        "# Trying RandomForestClassifier adjusting some params\n",
        "params_rf={'n_estimators':range(200, 400, 50), 'max_depth': [4], 'max_features':['log2','auto','sqrt'],'min_samples_leaf':range(10, 30, 3), 'min_samples_split':[4]}\n",
        "\n",
        "# Instantiate GridSearchCV\n",
        "rf_grid= GridSearchCV(model, params_rf, cv=5)\n",
        "\n",
        "# Fit rf_grid\n",
        "rf_grid.fit(X_train, y_train)\n",
        "\n",
        "# Predict the labels for the test data\n",
        "y_pred_rf1= rf_grid.predict(X_test)\n",
        "\n",
        "# Computing best_params and best_score\n",
        "print(rf_grid.best_params_)\n",
        "print(rf_grid.best_score_)\n"
      ],
      "metadata": {
        "colab": {
          "base_uri": "https://localhost:8080/"
        },
        "id": "qoPRGjm1fuyx",
        "outputId": "3c0e6163-01da-436a-db5a-0554bded37d0"
      },
      "execution_count": null,
      "outputs": [
        {
          "output_type": "stream",
          "name": "stdout",
          "text": [
            "{'max_depth': 4, 'max_features': 'log2', 'min_samples_leaf': 10, 'min_samples_split': 4, 'n_estimators': 250}\n",
            "0.7466666666666667\n"
          ]
        }
      ]
    },
    {
      "cell_type": "markdown",
      "source": [
        "\n",
        "In this case, the RandomForestClassifier achieved a better score or performance by adjusting some of the hyperparameters compared to the default hyperparameters:\n",
        "\n",
        "-**n_estimators**: We performed 4 iterations, increasing by 50 from 200 to 400, in an attempt to improve performance.\n",
        "\n",
        "-**max_depth**: A depth of 4 was assigned to capture more complex relationships in the data.\n",
        "\n",
        "-**max_features**: It determines the maximum number of features to consider when splitting a node. \"sqrt\" or \"auto\" was assigned to select the square root of the total number of features, and \"log2\" was selected to choose the base-2 logarithm of the total number of features.\n",
        "\n",
        "-**min_samples_leaf**: It defines the minimum number of samples required to be in a leaf node. In this case, we performed 3 iterations, increasing by 10 from 10 to 30.\n",
        "\n",
        "-**min_samples_split**: It specifies the minimum number of samples required to split an internal node. In this case, it was set to 4."
      ],
      "metadata": {
        "id": "FDJ6BDxr4s0q"
      }
    },
    {
      "cell_type": "markdown",
      "source": [
        "**LogisticRegression** is a fully used model in binary classification. It relies on the use of a logistic function to model the probability of belonging to a class. This model is particularly suitable when there is a suspicion that the relationships between the predictor variables and the target variable are linear. Additionally, LogisticRegression is a relatively simple and fast model to train, making it more efficient for classifications.\n",
        "\n",
        "**RandomForestClassifier** is based on decision trees that combines the predictions of multiple trees to obtain a final result. Unlike LogisticRegression, RandomForestClassifier can capture non-linear relationships and handle non-linear features in the data. This model is especially useful when the interactions between the predictor variables are complex and cannot be easily modeled by a linear function."
      ],
      "metadata": {
        "id": "VdMKlavq9q5l"
      }
    },
    {
      "cell_type": "code",
      "source": [
        "# Instantiate model\n",
        "logistic_regression = LogisticRegression()\n",
        "random_forest = RandomForestClassifier(n_estimators=300,\\\n",
        "                                       max_depth= 4, max_features= 'log2',\n",
        "                                       min_samples_leaf= 10, min_samples_split= 4)\n",
        "\n",
        "# Model train\n",
        "logistic_regression.fit(X_train, y_train)\n",
        "random_forest.fit(X_train, y_train)\n",
        "\n",
        "# Making predictions\n",
        "logistic_regression_predictions = logistic_regression.predict(X_test)\n",
        "random_forest_predictions = random_forest.predict(X_test)\n",
        "\n",
        "# Print classificacion_report\n",
        "print(\"Logistic Regression Report:\")\n",
        "print(classification_report(y_test, logistic_regression_predictions))\n",
        "print(\"Random Forest Report:\")\n",
        "print(classification_report(y_test, random_forest_predictions))"
      ],
      "metadata": {
        "colab": {
          "base_uri": "https://localhost:8080/"
        },
        "id": "A0qyP3QJYCtW",
        "outputId": "5c8ff888-494f-4e2c-ef0a-832892c0e4b8"
      },
      "execution_count": null,
      "outputs": [
        {
          "output_type": "stream",
          "name": "stdout",
          "text": [
            "Logistic Regression Report:\n",
            "              precision    recall  f1-score   support\n",
            "\n",
            "           0       0.71      0.65      0.67       178\n",
            "           1       0.78      0.82      0.80       272\n",
            "\n",
            "    accuracy                           0.75       450\n",
            "   macro avg       0.74      0.73      0.74       450\n",
            "weighted avg       0.75      0.75      0.75       450\n",
            "\n",
            "Random Forest Report:\n",
            "              precision    recall  f1-score   support\n",
            "\n",
            "           0       0.71      0.62      0.66       178\n",
            "           1       0.77      0.83      0.80       272\n",
            "\n",
            "    accuracy                           0.75       450\n",
            "   macro avg       0.74      0.72      0.73       450\n",
            "weighted avg       0.74      0.75      0.74       450\n",
            "\n"
          ]
        }
      ]
    },
    {
      "cell_type": "markdown",
      "source": [
        "Based on the data analyzed, we could summarize the following:\n",
        "\n",
        "The summary highlights that both LogisticRegression and RandomForestClassifier models have a very similar overall performance. However, it suggests choosing LogisticRegression due to its slightly better score compared to RandomForestClassifier.\n",
        "\n",
        "Additionally, it mentions that in the classification report, LogisticRegression shows better results in terms of precision for positive predictions in class 1 (owners) compared to RandomForestClassifier, while both models have equal results for class 0 (non-owners).\n",
        "\n",
        "Regarding recall, which evaluates the ability to correctly identify instances, LogisticRegression has a better score for class 0, while RandomForestClassifier shows a better score for class 1.\n",
        "\n",
        "Lastly, in terms of f1-score, which combines both precision and recall, LogisticRegression achieves a better score for class 0 and equal results for class 1.\n",
        "\n",
        "Overall, the evaluation of the summary highlights the differences and similarities between the two models, providing arguments in favor of LogisticRegression due to its slightly superior performance on 2 of the 3 metrics."
      ],
      "metadata": {
        "id": "SHEcw7gdg-KB"
      }
    }
  ]
}